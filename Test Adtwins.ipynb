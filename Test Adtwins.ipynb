{
 "cells": [
  {
   "cell_type": "markdown",
   "metadata": {
    "id": "LZIsyIqS7vJ1"
   },
   "source": [
    "# Para el correcto funcionamiento del código, deben cargar los archivos .CSV a la pantalla principal de Jupyter Notebook. "
   ]
  },
  {
   "cell_type": "markdown",
   "metadata": {
    "id": "Ta2XAOj03bZx"
   },
   "source": [
    "# Se importan Librerías"
   ]
  },
  {
   "cell_type": "code",
   "execution_count": 1,
   "metadata": {
    "id": "LfOUXW3Zuks6"
   },
   "outputs": [],
   "source": [
    "import pandas as pd\n",
    "import seaborn as sns\n",
    "import matplotlib.pyplot as plt\n",
    "from sklearn.model_selection import train_test_split\n",
    "from sklearn.neighbors import KNeighborsRegressor\n",
    "from sklearn.ensemble import RandomForestRegressor\n",
    "from sklearn import metrics"
   ]
  },
  {
   "cell_type": "markdown",
   "metadata": {
    "id": "0NwN7tIy3p5b"
   },
   "source": [
    "# Carga de Datos"
   ]
  },
  {
   "cell_type": "code",
   "execution_count": 2,
   "metadata": {
    "id": "jPuRIsI7aDPj"
   },
   "outputs": [],
   "source": [
    "#se cargan los datos de los archivos .csv, haciendo uso de la librería pandas se almacenan en dataframes con sus correspondientes nombres\n",
    "Tabla_1 = pd.read_csv('Tabla_1.csv', header = 0)\n",
    "Features_data_set = pd.read_csv('Features data set.csv', header = 0)\n",
    "sales_data_set = pd.read_csv('sales data-set.csv', header = 0)"
   ]
  },
  {
   "cell_type": "code",
   "execution_count": 3,
   "metadata": {
    "colab": {
     "base_uri": "https://localhost:8080/",
     "height": 487
    },
    "id": "sqnFn-YvwyAe",
    "outputId": "100711b4-fddb-436f-d777-564436383fda"
   },
   "outputs": [
    {
     "data": {
      "text/html": [
       "<div>\n",
       "<style scoped>\n",
       "    .dataframe tbody tr th:only-of-type {\n",
       "        vertical-align: middle;\n",
       "    }\n",
       "\n",
       "    .dataframe tbody tr th {\n",
       "        vertical-align: top;\n",
       "    }\n",
       "\n",
       "    .dataframe thead th {\n",
       "        text-align: right;\n",
       "    }\n",
       "</style>\n",
       "<table border=\"1\" class=\"dataframe\">\n",
       "  <thead>\n",
       "    <tr style=\"text-align: right;\">\n",
       "      <th></th>\n",
       "      <th>Store</th>\n",
       "      <th>Date</th>\n",
       "      <th>Temperature</th>\n",
       "      <th>Fuel_Price</th>\n",
       "      <th>MarkDown1</th>\n",
       "      <th>MarkDown2</th>\n",
       "      <th>MarkDown3</th>\n",
       "      <th>MarkDown4</th>\n",
       "      <th>MarkDown5</th>\n",
       "      <th>CPI</th>\n",
       "      <th>Unemployment</th>\n",
       "      <th>IsHoliday_x</th>\n",
       "      <th>Dept</th>\n",
       "      <th>Weekly_Sales</th>\n",
       "      <th>IsHoliday_y</th>\n",
       "    </tr>\n",
       "  </thead>\n",
       "  <tbody>\n",
       "    <tr>\n",
       "      <th>0</th>\n",
       "      <td>1</td>\n",
       "      <td>05/02/2010</td>\n",
       "      <td>42.31</td>\n",
       "      <td>2.572</td>\n",
       "      <td>NaN</td>\n",
       "      <td>NaN</td>\n",
       "      <td>NaN</td>\n",
       "      <td>NaN</td>\n",
       "      <td>NaN</td>\n",
       "      <td>211.096358</td>\n",
       "      <td>8.106</td>\n",
       "      <td>False</td>\n",
       "      <td>1</td>\n",
       "      <td>24924.50</td>\n",
       "      <td>False</td>\n",
       "    </tr>\n",
       "    <tr>\n",
       "      <th>1</th>\n",
       "      <td>1</td>\n",
       "      <td>05/02/2010</td>\n",
       "      <td>42.31</td>\n",
       "      <td>2.572</td>\n",
       "      <td>NaN</td>\n",
       "      <td>NaN</td>\n",
       "      <td>NaN</td>\n",
       "      <td>NaN</td>\n",
       "      <td>NaN</td>\n",
       "      <td>211.096358</td>\n",
       "      <td>8.106</td>\n",
       "      <td>False</td>\n",
       "      <td>2</td>\n",
       "      <td>50605.27</td>\n",
       "      <td>False</td>\n",
       "    </tr>\n",
       "    <tr>\n",
       "      <th>2</th>\n",
       "      <td>1</td>\n",
       "      <td>05/02/2010</td>\n",
       "      <td>42.31</td>\n",
       "      <td>2.572</td>\n",
       "      <td>NaN</td>\n",
       "      <td>NaN</td>\n",
       "      <td>NaN</td>\n",
       "      <td>NaN</td>\n",
       "      <td>NaN</td>\n",
       "      <td>211.096358</td>\n",
       "      <td>8.106</td>\n",
       "      <td>False</td>\n",
       "      <td>3</td>\n",
       "      <td>13740.12</td>\n",
       "      <td>False</td>\n",
       "    </tr>\n",
       "    <tr>\n",
       "      <th>3</th>\n",
       "      <td>1</td>\n",
       "      <td>05/02/2010</td>\n",
       "      <td>42.31</td>\n",
       "      <td>2.572</td>\n",
       "      <td>NaN</td>\n",
       "      <td>NaN</td>\n",
       "      <td>NaN</td>\n",
       "      <td>NaN</td>\n",
       "      <td>NaN</td>\n",
       "      <td>211.096358</td>\n",
       "      <td>8.106</td>\n",
       "      <td>False</td>\n",
       "      <td>4</td>\n",
       "      <td>39954.04</td>\n",
       "      <td>False</td>\n",
       "    </tr>\n",
       "    <tr>\n",
       "      <th>4</th>\n",
       "      <td>1</td>\n",
       "      <td>05/02/2010</td>\n",
       "      <td>42.31</td>\n",
       "      <td>2.572</td>\n",
       "      <td>NaN</td>\n",
       "      <td>NaN</td>\n",
       "      <td>NaN</td>\n",
       "      <td>NaN</td>\n",
       "      <td>NaN</td>\n",
       "      <td>211.096358</td>\n",
       "      <td>8.106</td>\n",
       "      <td>False</td>\n",
       "      <td>5</td>\n",
       "      <td>32229.38</td>\n",
       "      <td>False</td>\n",
       "    </tr>\n",
       "    <tr>\n",
       "      <th>...</th>\n",
       "      <td>...</td>\n",
       "      <td>...</td>\n",
       "      <td>...</td>\n",
       "      <td>...</td>\n",
       "      <td>...</td>\n",
       "      <td>...</td>\n",
       "      <td>...</td>\n",
       "      <td>...</td>\n",
       "      <td>...</td>\n",
       "      <td>...</td>\n",
       "      <td>...</td>\n",
       "      <td>...</td>\n",
       "      <td>...</td>\n",
       "      <td>...</td>\n",
       "      <td>...</td>\n",
       "    </tr>\n",
       "    <tr>\n",
       "      <th>421565</th>\n",
       "      <td>45</td>\n",
       "      <td>26/10/2012</td>\n",
       "      <td>58.85</td>\n",
       "      <td>3.882</td>\n",
       "      <td>4018.91</td>\n",
       "      <td>58.08</td>\n",
       "      <td>100.0</td>\n",
       "      <td>211.94</td>\n",
       "      <td>858.33</td>\n",
       "      <td>192.308899</td>\n",
       "      <td>8.667</td>\n",
       "      <td>False</td>\n",
       "      <td>93</td>\n",
       "      <td>2487.80</td>\n",
       "      <td>False</td>\n",
       "    </tr>\n",
       "    <tr>\n",
       "      <th>421566</th>\n",
       "      <td>45</td>\n",
       "      <td>26/10/2012</td>\n",
       "      <td>58.85</td>\n",
       "      <td>3.882</td>\n",
       "      <td>4018.91</td>\n",
       "      <td>58.08</td>\n",
       "      <td>100.0</td>\n",
       "      <td>211.94</td>\n",
       "      <td>858.33</td>\n",
       "      <td>192.308899</td>\n",
       "      <td>8.667</td>\n",
       "      <td>False</td>\n",
       "      <td>94</td>\n",
       "      <td>5203.31</td>\n",
       "      <td>False</td>\n",
       "    </tr>\n",
       "    <tr>\n",
       "      <th>421567</th>\n",
       "      <td>45</td>\n",
       "      <td>26/10/2012</td>\n",
       "      <td>58.85</td>\n",
       "      <td>3.882</td>\n",
       "      <td>4018.91</td>\n",
       "      <td>58.08</td>\n",
       "      <td>100.0</td>\n",
       "      <td>211.94</td>\n",
       "      <td>858.33</td>\n",
       "      <td>192.308899</td>\n",
       "      <td>8.667</td>\n",
       "      <td>False</td>\n",
       "      <td>95</td>\n",
       "      <td>56017.47</td>\n",
       "      <td>False</td>\n",
       "    </tr>\n",
       "    <tr>\n",
       "      <th>421568</th>\n",
       "      <td>45</td>\n",
       "      <td>26/10/2012</td>\n",
       "      <td>58.85</td>\n",
       "      <td>3.882</td>\n",
       "      <td>4018.91</td>\n",
       "      <td>58.08</td>\n",
       "      <td>100.0</td>\n",
       "      <td>211.94</td>\n",
       "      <td>858.33</td>\n",
       "      <td>192.308899</td>\n",
       "      <td>8.667</td>\n",
       "      <td>False</td>\n",
       "      <td>97</td>\n",
       "      <td>6817.48</td>\n",
       "      <td>False</td>\n",
       "    </tr>\n",
       "    <tr>\n",
       "      <th>421569</th>\n",
       "      <td>45</td>\n",
       "      <td>26/10/2012</td>\n",
       "      <td>58.85</td>\n",
       "      <td>3.882</td>\n",
       "      <td>4018.91</td>\n",
       "      <td>58.08</td>\n",
       "      <td>100.0</td>\n",
       "      <td>211.94</td>\n",
       "      <td>858.33</td>\n",
       "      <td>192.308899</td>\n",
       "      <td>8.667</td>\n",
       "      <td>False</td>\n",
       "      <td>98</td>\n",
       "      <td>1076.80</td>\n",
       "      <td>False</td>\n",
       "    </tr>\n",
       "  </tbody>\n",
       "</table>\n",
       "<p>421570 rows × 15 columns</p>\n",
       "</div>"
      ],
      "text/plain": [
       "        Store        Date  Temperature  Fuel_Price  MarkDown1  MarkDown2  \\\n",
       "0           1  05/02/2010        42.31       2.572        NaN        NaN   \n",
       "1           1  05/02/2010        42.31       2.572        NaN        NaN   \n",
       "2           1  05/02/2010        42.31       2.572        NaN        NaN   \n",
       "3           1  05/02/2010        42.31       2.572        NaN        NaN   \n",
       "4           1  05/02/2010        42.31       2.572        NaN        NaN   \n",
       "...       ...         ...          ...         ...        ...        ...   \n",
       "421565     45  26/10/2012        58.85       3.882    4018.91      58.08   \n",
       "421566     45  26/10/2012        58.85       3.882    4018.91      58.08   \n",
       "421567     45  26/10/2012        58.85       3.882    4018.91      58.08   \n",
       "421568     45  26/10/2012        58.85       3.882    4018.91      58.08   \n",
       "421569     45  26/10/2012        58.85       3.882    4018.91      58.08   \n",
       "\n",
       "        MarkDown3  MarkDown4  MarkDown5         CPI  Unemployment  \\\n",
       "0             NaN        NaN        NaN  211.096358         8.106   \n",
       "1             NaN        NaN        NaN  211.096358         8.106   \n",
       "2             NaN        NaN        NaN  211.096358         8.106   \n",
       "3             NaN        NaN        NaN  211.096358         8.106   \n",
       "4             NaN        NaN        NaN  211.096358         8.106   \n",
       "...           ...        ...        ...         ...           ...   \n",
       "421565      100.0     211.94     858.33  192.308899         8.667   \n",
       "421566      100.0     211.94     858.33  192.308899         8.667   \n",
       "421567      100.0     211.94     858.33  192.308899         8.667   \n",
       "421568      100.0     211.94     858.33  192.308899         8.667   \n",
       "421569      100.0     211.94     858.33  192.308899         8.667   \n",
       "\n",
       "        IsHoliday_x  Dept  Weekly_Sales  IsHoliday_y  \n",
       "0             False     1      24924.50        False  \n",
       "1             False     2      50605.27        False  \n",
       "2             False     3      13740.12        False  \n",
       "3             False     4      39954.04        False  \n",
       "4             False     5      32229.38        False  \n",
       "...             ...   ...           ...          ...  \n",
       "421565        False    93       2487.80        False  \n",
       "421566        False    94       5203.31        False  \n",
       "421567        False    95      56017.47        False  \n",
       "421568        False    97       6817.48        False  \n",
       "421569        False    98       1076.80        False  \n",
       "\n",
       "[421570 rows x 15 columns]"
      ]
     },
     "execution_count": 3,
     "metadata": {},
     "output_type": "execute_result"
    }
   ],
   "source": [
    "#Se unen todos los datos, aquellos que se usarán como predictores y variable respuesta en un único dataframe\n",
    "join_data = pd.merge(Features_data_set, sales_data_set, on = ['Store', 'Date'])\n",
    "join_data"
   ]
  },
  {
   "cell_type": "code",
   "execution_count": 5,
   "metadata": {
    "colab": {
     "base_uri": "https://localhost:8080/",
     "height": 487
    },
    "id": "LUYHp4WAy8ux",
    "outputId": "cdbcd51b-f25c-42ac-ef2f-d8ebcb4761d8"
   },
   "outputs": [
    {
     "data": {
      "text/html": [
       "<div>\n",
       "<style scoped>\n",
       "    .dataframe tbody tr th:only-of-type {\n",
       "        vertical-align: middle;\n",
       "    }\n",
       "\n",
       "    .dataframe tbody tr th {\n",
       "        vertical-align: top;\n",
       "    }\n",
       "\n",
       "    .dataframe thead th {\n",
       "        text-align: right;\n",
       "    }\n",
       "</style>\n",
       "<table border=\"1\" class=\"dataframe\">\n",
       "  <thead>\n",
       "    <tr style=\"text-align: right;\">\n",
       "      <th></th>\n",
       "      <th>Store</th>\n",
       "      <th>Date</th>\n",
       "      <th>Temperature</th>\n",
       "      <th>Fuel_Price</th>\n",
       "      <th>MarkDown1</th>\n",
       "      <th>MarkDown2</th>\n",
       "      <th>MarkDown3</th>\n",
       "      <th>MarkDown4</th>\n",
       "      <th>MarkDown5</th>\n",
       "      <th>CPI</th>\n",
       "      <th>Unemployment</th>\n",
       "      <th>IsHoliday_x</th>\n",
       "      <th>Dept</th>\n",
       "      <th>Weekly_Sales</th>\n",
       "      <th>IsHoliday_y</th>\n",
       "    </tr>\n",
       "  </thead>\n",
       "  <tbody>\n",
       "    <tr>\n",
       "      <th>6587</th>\n",
       "      <td>1</td>\n",
       "      <td>11/11/2011</td>\n",
       "      <td>59.11</td>\n",
       "      <td>3.297</td>\n",
       "      <td>10382.90</td>\n",
       "      <td>6115.67</td>\n",
       "      <td>215.07</td>\n",
       "      <td>2406.62</td>\n",
       "      <td>6551.42</td>\n",
       "      <td>217.998085</td>\n",
       "      <td>7.866</td>\n",
       "      <td>False</td>\n",
       "      <td>1</td>\n",
       "      <td>18689.54</td>\n",
       "      <td>False</td>\n",
       "    </tr>\n",
       "    <tr>\n",
       "      <th>6588</th>\n",
       "      <td>1</td>\n",
       "      <td>11/11/2011</td>\n",
       "      <td>59.11</td>\n",
       "      <td>3.297</td>\n",
       "      <td>10382.90</td>\n",
       "      <td>6115.67</td>\n",
       "      <td>215.07</td>\n",
       "      <td>2406.62</td>\n",
       "      <td>6551.42</td>\n",
       "      <td>217.998085</td>\n",
       "      <td>7.866</td>\n",
       "      <td>False</td>\n",
       "      <td>2</td>\n",
       "      <td>44936.47</td>\n",
       "      <td>False</td>\n",
       "    </tr>\n",
       "    <tr>\n",
       "      <th>6589</th>\n",
       "      <td>1</td>\n",
       "      <td>11/11/2011</td>\n",
       "      <td>59.11</td>\n",
       "      <td>3.297</td>\n",
       "      <td>10382.90</td>\n",
       "      <td>6115.67</td>\n",
       "      <td>215.07</td>\n",
       "      <td>2406.62</td>\n",
       "      <td>6551.42</td>\n",
       "      <td>217.998085</td>\n",
       "      <td>7.866</td>\n",
       "      <td>False</td>\n",
       "      <td>3</td>\n",
       "      <td>9959.64</td>\n",
       "      <td>False</td>\n",
       "    </tr>\n",
       "    <tr>\n",
       "      <th>6590</th>\n",
       "      <td>1</td>\n",
       "      <td>11/11/2011</td>\n",
       "      <td>59.11</td>\n",
       "      <td>3.297</td>\n",
       "      <td>10382.90</td>\n",
       "      <td>6115.67</td>\n",
       "      <td>215.07</td>\n",
       "      <td>2406.62</td>\n",
       "      <td>6551.42</td>\n",
       "      <td>217.998085</td>\n",
       "      <td>7.866</td>\n",
       "      <td>False</td>\n",
       "      <td>4</td>\n",
       "      <td>36826.52</td>\n",
       "      <td>False</td>\n",
       "    </tr>\n",
       "    <tr>\n",
       "      <th>6591</th>\n",
       "      <td>1</td>\n",
       "      <td>11/11/2011</td>\n",
       "      <td>59.11</td>\n",
       "      <td>3.297</td>\n",
       "      <td>10382.90</td>\n",
       "      <td>6115.67</td>\n",
       "      <td>215.07</td>\n",
       "      <td>2406.62</td>\n",
       "      <td>6551.42</td>\n",
       "      <td>217.998085</td>\n",
       "      <td>7.866</td>\n",
       "      <td>False</td>\n",
       "      <td>5</td>\n",
       "      <td>31002.65</td>\n",
       "      <td>False</td>\n",
       "    </tr>\n",
       "    <tr>\n",
       "      <th>...</th>\n",
       "      <td>...</td>\n",
       "      <td>...</td>\n",
       "      <td>...</td>\n",
       "      <td>...</td>\n",
       "      <td>...</td>\n",
       "      <td>...</td>\n",
       "      <td>...</td>\n",
       "      <td>...</td>\n",
       "      <td>...</td>\n",
       "      <td>...</td>\n",
       "      <td>...</td>\n",
       "      <td>...</td>\n",
       "      <td>...</td>\n",
       "      <td>...</td>\n",
       "      <td>...</td>\n",
       "    </tr>\n",
       "    <tr>\n",
       "      <th>421565</th>\n",
       "      <td>45</td>\n",
       "      <td>26/10/2012</td>\n",
       "      <td>58.85</td>\n",
       "      <td>3.882</td>\n",
       "      <td>4018.91</td>\n",
       "      <td>58.08</td>\n",
       "      <td>100.00</td>\n",
       "      <td>211.94</td>\n",
       "      <td>858.33</td>\n",
       "      <td>192.308899</td>\n",
       "      <td>8.667</td>\n",
       "      <td>False</td>\n",
       "      <td>93</td>\n",
       "      <td>2487.80</td>\n",
       "      <td>False</td>\n",
       "    </tr>\n",
       "    <tr>\n",
       "      <th>421566</th>\n",
       "      <td>45</td>\n",
       "      <td>26/10/2012</td>\n",
       "      <td>58.85</td>\n",
       "      <td>3.882</td>\n",
       "      <td>4018.91</td>\n",
       "      <td>58.08</td>\n",
       "      <td>100.00</td>\n",
       "      <td>211.94</td>\n",
       "      <td>858.33</td>\n",
       "      <td>192.308899</td>\n",
       "      <td>8.667</td>\n",
       "      <td>False</td>\n",
       "      <td>94</td>\n",
       "      <td>5203.31</td>\n",
       "      <td>False</td>\n",
       "    </tr>\n",
       "    <tr>\n",
       "      <th>421567</th>\n",
       "      <td>45</td>\n",
       "      <td>26/10/2012</td>\n",
       "      <td>58.85</td>\n",
       "      <td>3.882</td>\n",
       "      <td>4018.91</td>\n",
       "      <td>58.08</td>\n",
       "      <td>100.00</td>\n",
       "      <td>211.94</td>\n",
       "      <td>858.33</td>\n",
       "      <td>192.308899</td>\n",
       "      <td>8.667</td>\n",
       "      <td>False</td>\n",
       "      <td>95</td>\n",
       "      <td>56017.47</td>\n",
       "      <td>False</td>\n",
       "    </tr>\n",
       "    <tr>\n",
       "      <th>421568</th>\n",
       "      <td>45</td>\n",
       "      <td>26/10/2012</td>\n",
       "      <td>58.85</td>\n",
       "      <td>3.882</td>\n",
       "      <td>4018.91</td>\n",
       "      <td>58.08</td>\n",
       "      <td>100.00</td>\n",
       "      <td>211.94</td>\n",
       "      <td>858.33</td>\n",
       "      <td>192.308899</td>\n",
       "      <td>8.667</td>\n",
       "      <td>False</td>\n",
       "      <td>97</td>\n",
       "      <td>6817.48</td>\n",
       "      <td>False</td>\n",
       "    </tr>\n",
       "    <tr>\n",
       "      <th>421569</th>\n",
       "      <td>45</td>\n",
       "      <td>26/10/2012</td>\n",
       "      <td>58.85</td>\n",
       "      <td>3.882</td>\n",
       "      <td>4018.91</td>\n",
       "      <td>58.08</td>\n",
       "      <td>100.00</td>\n",
       "      <td>211.94</td>\n",
       "      <td>858.33</td>\n",
       "      <td>192.308899</td>\n",
       "      <td>8.667</td>\n",
       "      <td>False</td>\n",
       "      <td>98</td>\n",
       "      <td>1076.80</td>\n",
       "      <td>False</td>\n",
       "    </tr>\n",
       "  </tbody>\n",
       "</table>\n",
       "<p>97056 rows × 15 columns</p>\n",
       "</div>"
      ],
      "text/plain": [
       "        Store        Date  Temperature  Fuel_Price  MarkDown1  MarkDown2  \\\n",
       "6587        1  11/11/2011        59.11       3.297   10382.90    6115.67   \n",
       "6588        1  11/11/2011        59.11       3.297   10382.90    6115.67   \n",
       "6589        1  11/11/2011        59.11       3.297   10382.90    6115.67   \n",
       "6590        1  11/11/2011        59.11       3.297   10382.90    6115.67   \n",
       "6591        1  11/11/2011        59.11       3.297   10382.90    6115.67   \n",
       "...       ...         ...          ...         ...        ...        ...   \n",
       "421565     45  26/10/2012        58.85       3.882    4018.91      58.08   \n",
       "421566     45  26/10/2012        58.85       3.882    4018.91      58.08   \n",
       "421567     45  26/10/2012        58.85       3.882    4018.91      58.08   \n",
       "421568     45  26/10/2012        58.85       3.882    4018.91      58.08   \n",
       "421569     45  26/10/2012        58.85       3.882    4018.91      58.08   \n",
       "\n",
       "        MarkDown3  MarkDown4  MarkDown5         CPI  Unemployment  \\\n",
       "6587       215.07    2406.62    6551.42  217.998085         7.866   \n",
       "6588       215.07    2406.62    6551.42  217.998085         7.866   \n",
       "6589       215.07    2406.62    6551.42  217.998085         7.866   \n",
       "6590       215.07    2406.62    6551.42  217.998085         7.866   \n",
       "6591       215.07    2406.62    6551.42  217.998085         7.866   \n",
       "...           ...        ...        ...         ...           ...   \n",
       "421565     100.00     211.94     858.33  192.308899         8.667   \n",
       "421566     100.00     211.94     858.33  192.308899         8.667   \n",
       "421567     100.00     211.94     858.33  192.308899         8.667   \n",
       "421568     100.00     211.94     858.33  192.308899         8.667   \n",
       "421569     100.00     211.94     858.33  192.308899         8.667   \n",
       "\n",
       "        IsHoliday_x  Dept  Weekly_Sales  IsHoliday_y  \n",
       "6587          False     1      18689.54        False  \n",
       "6588          False     2      44936.47        False  \n",
       "6589          False     3       9959.64        False  \n",
       "6590          False     4      36826.52        False  \n",
       "6591          False     5      31002.65        False  \n",
       "...             ...   ...           ...          ...  \n",
       "421565        False    93       2487.80        False  \n",
       "421566        False    94       5203.31        False  \n",
       "421567        False    95      56017.47        False  \n",
       "421568        False    97       6817.48        False  \n",
       "421569        False    98       1076.80        False  \n",
       "\n",
       "[97056 rows x 15 columns]"
      ]
     },
     "execution_count": 5,
     "metadata": {},
     "output_type": "execute_result"
    }
   ],
   "source": [
    "#Se eliminan aquellas filas con datos nulos\n",
    "join_data.dropna(inplace=True)\n",
    "join_data"
   ]
  },
  {
   "cell_type": "code",
   "execution_count": 6,
   "metadata": {
    "id": "SFu-ntkV0LOO"
   },
   "outputs": [],
   "source": [
    "#a continuación se separan los datos de los días festivos para analizarlos por separado.\n",
    "join_data_Holiday = join_data.query('IsHoliday_x == True')\n",
    "join_data_no_Holiday = join_data.query('IsHoliday_x == False')"
   ]
  },
  {
   "cell_type": "markdown",
   "metadata": {
    "id": "qGSzeg5mwEb5"
   },
   "source": [
    "# KNN"
   ]
  },
  {
   "cell_type": "markdown",
   "metadata": {
    "id": "RCKNoNjy2s_f"
   },
   "source": [
    "Se separan los días festivos y los no festivos:"
   ]
  },
  {
   "cell_type": "markdown",
   "metadata": {
    "id": "zkPr7AO8PqnN"
   },
   "source": [
    "### Datos no festivos:"
   ]
  },
  {
   "cell_type": "code",
   "execution_count": 7,
   "metadata": {
    "id": "AiUB7DhVkH02"
   },
   "outputs": [],
   "source": [
    "#se crean arrays para las características y la variable de destino en el caso de dias no festivos.\n",
    "y = join_data_no_Holiday[\"Weekly_Sales\"].values\n",
    "X = join_data_no_Holiday[[\"Dept\",\"Fuel_Price\", \"MarkDown1\", \"MarkDown2\", \"MarkDown3\", \"MarkDown4\", \"MarkDown5\", \"CPI\", \"Unemployment\"]].values"
   ]
  },
  {
   "cell_type": "code",
   "execution_count": 8,
   "metadata": {
    "id": "2SdyAXKf5KPO"
   },
   "outputs": [],
   "source": [
    "#se asignan de manera pseudo aleatoria los datos para llevar a cabo el entrenamiento y posterior testeo.\n",
    "X_train, X_test, y_train, y_test = train_test_split(X, y, test_size= 0.2)"
   ]
  },
  {
   "cell_type": "code",
   "execution_count": 9,
   "metadata": {
    "colab": {
     "base_uri": "https://localhost:8080/"
    },
    "id": "Csxe4P582srk",
    "outputId": "14b8bab3-5e2a-4a90-cd49-4d6d16c5b00f"
   },
   "outputs": [
    {
     "data": {
      "text/plain": [
       "KNeighborsRegressor()"
      ]
     },
     "execution_count": 9,
     "metadata": {},
     "output_type": "execute_result"
    }
   ],
   "source": [
    "#crea un modelo KNN con 5 \"vecinos\"\n",
    "knn = KNeighborsRegressor(n_neighbors = 5, metric= 'minkowski', p = 2)\n",
    "#entrenamos el regresor\n",
    "knn.fit(X_train, y_train)"
   ]
  },
  {
   "cell_type": "code",
   "execution_count": 10,
   "metadata": {
    "colab": {
     "base_uri": "https://localhost:8080/"
    },
    "id": "61aJp0gY4Pgt",
    "outputId": "a8d1fe5e-ecbb-4bae-a45c-4ae71483900e"
   },
   "outputs": [
    {
     "name": "stdout",
     "output_type": "stream",
     "text": [
      "Predicciones: [31595.958  8795.072 52381.81  ...  9439.888  3721.736  6447.412]\n"
     ]
    }
   ],
   "source": [
    "#realiza una predicción en base a los datos de testeo\n",
    "y_pred = knn.predict(X_test)\n",
    "#se imprime las predicciones realizadas\n",
    "print(\"Predicciones: {}\".format(y_pred))"
   ]
  },
  {
   "cell_type": "code",
   "execution_count": 11,
   "metadata": {
    "colab": {
     "base_uri": "https://localhost:8080/"
    },
    "id": "smH8q_NC4rRr",
    "outputId": "4d283493-9525-42f1-a707-a2d02a6c02d2"
   },
   "outputs": [
    {
     "data": {
      "text/plain": [
       "0.23259052300707528"
      ]
     },
     "execution_count": 11,
     "metadata": {},
     "output_type": "execute_result"
    }
   ],
   "source": [
    "#se verifica la precisión con los datos de testeo a través de la función .score que calcula el coeficiente de determinación de la predicción.\n",
    "score_knn = knn.score(X_test, y_test)\n",
    "score_knn"
   ]
  },
  {
   "cell_type": "code",
   "execution_count": 30,
   "metadata": {
    "colab": {
     "base_uri": "https://localhost:8080/",
     "height": 458
    },
    "id": "EQkd8x9m4_n_",
    "outputId": "e9373fe8-5f32-48ce-9a08-7daf47e102e7"
   },
   "outputs": [
    {
     "name": "stderr",
     "output_type": "stream",
     "text": [
      "<ipython-input-30-e36d033ef06e>:6: RuntimeWarning: divide by zero encountered in true_divide\n",
      "  'Error': (abs(preds - y_test)*100/abs(y_test))})\n"
     ]
    },
    {
     "data": {
      "text/html": [
       "<div>\n",
       "<style scoped>\n",
       "    .dataframe tbody tr th:only-of-type {\n",
       "        vertical-align: middle;\n",
       "    }\n",
       "\n",
       "    .dataframe tbody tr th {\n",
       "        vertical-align: top;\n",
       "    }\n",
       "\n",
       "    .dataframe thead th {\n",
       "        text-align: right;\n",
       "    }\n",
       "</style>\n",
       "<table border=\"1\" class=\"dataframe\">\n",
       "  <thead>\n",
       "    <tr style=\"text-align: right;\">\n",
       "      <th></th>\n",
       "      <th>True Value</th>\n",
       "      <th>Prediction</th>\n",
       "      <th>Error</th>\n",
       "    </tr>\n",
       "  </thead>\n",
       "  <tbody>\n",
       "    <tr>\n",
       "      <th>0</th>\n",
       "      <td>16849.62</td>\n",
       "      <td>31595.958</td>\n",
       "      <td>87.517333</td>\n",
       "    </tr>\n",
       "    <tr>\n",
       "      <th>1</th>\n",
       "      <td>251.50</td>\n",
       "      <td>8795.072</td>\n",
       "      <td>3397.046521</td>\n",
       "    </tr>\n",
       "    <tr>\n",
       "      <th>2</th>\n",
       "      <td>81644.24</td>\n",
       "      <td>52381.810</td>\n",
       "      <td>35.841389</td>\n",
       "    </tr>\n",
       "    <tr>\n",
       "      <th>3</th>\n",
       "      <td>40078.32</td>\n",
       "      <td>69364.128</td>\n",
       "      <td>73.071446</td>\n",
       "    </tr>\n",
       "    <tr>\n",
       "      <th>4</th>\n",
       "      <td>3720.24</td>\n",
       "      <td>5357.912</td>\n",
       "      <td>44.020601</td>\n",
       "    </tr>\n",
       "    <tr>\n",
       "      <th>...</th>\n",
       "      <td>...</td>\n",
       "      <td>...</td>\n",
       "      <td>...</td>\n",
       "    </tr>\n",
       "    <tr>\n",
       "      <th>17408</th>\n",
       "      <td>90110.59</td>\n",
       "      <td>13818.578</td>\n",
       "      <td>84.664868</td>\n",
       "    </tr>\n",
       "    <tr>\n",
       "      <th>17409</th>\n",
       "      <td>52965.88</td>\n",
       "      <td>17077.154</td>\n",
       "      <td>67.758198</td>\n",
       "    </tr>\n",
       "    <tr>\n",
       "      <th>17410</th>\n",
       "      <td>30362.40</td>\n",
       "      <td>9439.888</td>\n",
       "      <td>68.909283</td>\n",
       "    </tr>\n",
       "    <tr>\n",
       "      <th>17411</th>\n",
       "      <td>5852.37</td>\n",
       "      <td>3721.736</td>\n",
       "      <td>36.406345</td>\n",
       "    </tr>\n",
       "    <tr>\n",
       "      <th>17412</th>\n",
       "      <td>6791.15</td>\n",
       "      <td>6447.412</td>\n",
       "      <td>5.061558</td>\n",
       "    </tr>\n",
       "  </tbody>\n",
       "</table>\n",
       "<p>17413 rows × 3 columns</p>\n",
       "</div>"
      ],
      "text/plain": [
       "       True Value  Prediction        Error\n",
       "0        16849.62   31595.958    87.517333\n",
       "1          251.50    8795.072  3397.046521\n",
       "2        81644.24   52381.810    35.841389\n",
       "3        40078.32   69364.128    73.071446\n",
       "4         3720.24    5357.912    44.020601\n",
       "...           ...         ...          ...\n",
       "17408    90110.59   13818.578    84.664868\n",
       "17409    52965.88   17077.154    67.758198\n",
       "17410    30362.40    9439.888    68.909283\n",
       "17411     5852.37    3721.736    36.406345\n",
       "17412     6791.15    6447.412     5.061558\n",
       "\n",
       "[17413 rows x 3 columns]"
      ]
     },
     "execution_count": 30,
     "metadata": {},
     "output_type": "execute_result"
    }
   ],
   "source": [
    "#a continuación se realiza una predicción y en base a ello se genera una tabla comparativa entre los datos reales y los predichos, además de su % de error.\n",
    "preds = knn.predict(X_test)\n",
    "\n",
    "performance = pd.DataFrame({ 'True Value': y_test,\n",
    "                            'Prediction': preds,\n",
    "                            'Error': (abs(preds - y_test)*100/abs(y_test))})\n",
    "\n",
    "performance"
   ]
  },
  {
   "cell_type": "code",
   "execution_count": 14,
   "metadata": {
    "colab": {
     "base_uri": "https://localhost:8080/",
     "height": 423
    },
    "id": "9sFJT_Wk5Skr",
    "outputId": "1b739ffb-8602-4797-8068-63eab1c5cbe1"
   },
   "outputs": [
    {
     "data": {
      "text/html": [
       "<div>\n",
       "<style scoped>\n",
       "    .dataframe tbody tr th:only-of-type {\n",
       "        vertical-align: middle;\n",
       "    }\n",
       "\n",
       "    .dataframe tbody tr th {\n",
       "        vertical-align: top;\n",
       "    }\n",
       "\n",
       "    .dataframe thead th {\n",
       "        text-align: right;\n",
       "    }\n",
       "</style>\n",
       "<table border=\"1\" class=\"dataframe\">\n",
       "  <thead>\n",
       "    <tr style=\"text-align: right;\">\n",
       "      <th></th>\n",
       "      <th>True Value</th>\n",
       "      <th>Prediction</th>\n",
       "      <th>Error</th>\n",
       "      <th>acceptance_criteria</th>\n",
       "    </tr>\n",
       "  </thead>\n",
       "  <tbody>\n",
       "    <tr>\n",
       "      <th>0</th>\n",
       "      <td>16849.62</td>\n",
       "      <td>31595.958</td>\n",
       "      <td>87.517333</td>\n",
       "      <td>0</td>\n",
       "    </tr>\n",
       "    <tr>\n",
       "      <th>1</th>\n",
       "      <td>251.50</td>\n",
       "      <td>8795.072</td>\n",
       "      <td>3397.046521</td>\n",
       "      <td>0</td>\n",
       "    </tr>\n",
       "    <tr>\n",
       "      <th>2</th>\n",
       "      <td>81644.24</td>\n",
       "      <td>52381.810</td>\n",
       "      <td>35.841389</td>\n",
       "      <td>0</td>\n",
       "    </tr>\n",
       "    <tr>\n",
       "      <th>3</th>\n",
       "      <td>40078.32</td>\n",
       "      <td>69364.128</td>\n",
       "      <td>73.071446</td>\n",
       "      <td>0</td>\n",
       "    </tr>\n",
       "    <tr>\n",
       "      <th>4</th>\n",
       "      <td>3720.24</td>\n",
       "      <td>5357.912</td>\n",
       "      <td>44.020601</td>\n",
       "      <td>0</td>\n",
       "    </tr>\n",
       "    <tr>\n",
       "      <th>...</th>\n",
       "      <td>...</td>\n",
       "      <td>...</td>\n",
       "      <td>...</td>\n",
       "      <td>...</td>\n",
       "    </tr>\n",
       "    <tr>\n",
       "      <th>17408</th>\n",
       "      <td>90110.59</td>\n",
       "      <td>13818.578</td>\n",
       "      <td>84.664868</td>\n",
       "      <td>0</td>\n",
       "    </tr>\n",
       "    <tr>\n",
       "      <th>17409</th>\n",
       "      <td>52965.88</td>\n",
       "      <td>17077.154</td>\n",
       "      <td>67.758198</td>\n",
       "      <td>0</td>\n",
       "    </tr>\n",
       "    <tr>\n",
       "      <th>17410</th>\n",
       "      <td>30362.40</td>\n",
       "      <td>9439.888</td>\n",
       "      <td>68.909283</td>\n",
       "      <td>0</td>\n",
       "    </tr>\n",
       "    <tr>\n",
       "      <th>17411</th>\n",
       "      <td>5852.37</td>\n",
       "      <td>3721.736</td>\n",
       "      <td>36.406345</td>\n",
       "      <td>0</td>\n",
       "    </tr>\n",
       "    <tr>\n",
       "      <th>17412</th>\n",
       "      <td>6791.15</td>\n",
       "      <td>6447.412</td>\n",
       "      <td>5.061558</td>\n",
       "      <td>1</td>\n",
       "    </tr>\n",
       "  </tbody>\n",
       "</table>\n",
       "<p>17413 rows × 4 columns</p>\n",
       "</div>"
      ],
      "text/plain": [
       "       True Value  Prediction        Error  acceptance_criteria\n",
       "0        16849.62   31595.958    87.517333                    0\n",
       "1          251.50    8795.072  3397.046521                    0\n",
       "2        81644.24   52381.810    35.841389                    0\n",
       "3        40078.32   69364.128    73.071446                    0\n",
       "4         3720.24    5357.912    44.020601                    0\n",
       "...           ...         ...          ...                  ...\n",
       "17408    90110.59   13818.578    84.664868                    0\n",
       "17409    52965.88   17077.154    67.758198                    0\n",
       "17410    30362.40    9439.888    68.909283                    0\n",
       "17411     5852.37    3721.736    36.406345                    0\n",
       "17412     6791.15    6447.412     5.061558                    1\n",
       "\n",
       "[17413 rows x 4 columns]"
      ]
     },
     "metadata": {},
     "output_type": "display_data"
    }
   ],
   "source": [
    "#a continuación se verifica la precisión de forma \"manual\" en base a un treshold menor al 30% de error\n",
    "performance[\"acceptance_criteria\"] = 0\n",
    "performance.loc[performance.query('Error<=30').index ,\"acceptance_criteria\"]=1\n",
    "display(performance)"
   ]
  },
  {
   "cell_type": "code",
   "execution_count": 15,
   "metadata": {
    "colab": {
     "base_uri": "https://localhost:8080/"
    },
    "id": "-PAMGAcA10WD",
    "outputId": "b2bfa6bd-9eb6-4630-ba6c-d65804755ea9"
   },
   "outputs": [
    {
     "data": {
      "text/plain": [
       "3822"
      ]
     },
     "execution_count": 15,
     "metadata": {},
     "output_type": "execute_result"
    }
   ],
   "source": [
    "len(performance.query('Error<=30').index)"
   ]
  },
  {
   "cell_type": "code",
   "execution_count": 16,
   "metadata": {
    "colab": {
     "base_uri": "https://localhost:8080/"
    },
    "id": "fMLSR5F-10WE",
    "outputId": "e7d3ee55-e5f2-4380-f096-65ec0c5ee5f5"
   },
   "outputs": [
    {
     "data": {
      "text/plain": [
       "17413"
      ]
     },
     "execution_count": 16,
     "metadata": {},
     "output_type": "execute_result"
    }
   ],
   "source": [
    "(len(performance.index))"
   ]
  },
  {
   "cell_type": "code",
   "execution_count": 17,
   "metadata": {
    "colab": {
     "base_uri": "https://localhost:8080/"
    },
    "id": "PaeY76VV5s3v",
    "outputId": "07a6a39b-666c-4e57-f23b-fb3a1e132b9a"
   },
   "outputs": [
    {
     "data": {
      "text/plain": [
       "0.21949118474702808"
      ]
     },
     "execution_count": 17,
     "metadata": {},
     "output_type": "execute_result"
    }
   ],
   "source": [
    "#precisión calculada a través de la fórmula perteneciente a las partes de una matriz de confusión: prefición = #TruePositive / #(TruePositive + FalsePositive)\n",
    "len(performance.query('Error<=30').index)/(len(performance.index))"
   ]
  },
  {
   "cell_type": "markdown",
   "metadata": {
    "id": "uoqJqYSdWHxh"
   },
   "source": [
    "Actualmente el valor obtenido es cercano al obtenido por la función .score"
   ]
  },
  {
   "cell_type": "markdown",
   "metadata": {
    "id": "3ENpfrdCQMlg"
   },
   "source": [
    "1.   **Score**: 0.2258022669777655\n",
    "2.   **Precisión manual**: 0.2255211623499684"
   ]
  },
  {
   "cell_type": "code",
   "execution_count": 18,
   "metadata": {
    "colab": {
     "base_uri": "https://localhost:8080/",
     "height": 771
    },
    "id": "IaVCzQ3J9AqW",
    "outputId": "c4a27a7e-80c8-4a7e-cda5-b552e312ca8e"
   },
   "outputs": [
    {
     "data": {
      "image/png": "[encoded data removed]",
      "text/plain": [
       "<Figure size 1152x864 with 2 Axes>"
      ]
     },
     "metadata": {
      "needs_background": "light"
     },
     "output_type": "display_data"
    }
   ],
   "source": [
    "corr_datos = join_data_no_Holiday.corr(method='pearson')\n",
    "plt.figure(figsize=(16, 12))\n",
    "sns.heatmap(corr_datos, annot=True)\n",
    "plt.show()"
   ]
  },
  {
   "cell_type": "markdown",
   "metadata": {
    "id": "K1l8c451ctK6"
   },
   "source": [
    "Mediante el gráfico de correlación, se puede observar que los datos de \"Markdown1\" y \"Markdown4\" poseen la mayor correlación"
   ]
  },
  {
   "cell_type": "markdown",
   "metadata": {
    "id": "ErUTTY60rlcs"
   },
   "source": [
    "### Datos festivos:"
   ]
  },
  {
   "cell_type": "code",
   "execution_count": 31,
   "metadata": {
    "id": "ToQOY_Ir4g04"
   },
   "outputs": [],
   "source": [
    "#se crean arrays para las características y la variable de destino en el caso de dias festivos.\n",
    "y_H = join_data_Holiday[\"Weekly_Sales\"].values\n",
    "X_H = join_data_Holiday[[\"Dept\",\"Fuel_Price\", \"MarkDown1\", \"MarkDown2\", \"MarkDown3\", \"MarkDown4\", \"MarkDown5\", \"CPI\", \"Unemployment\"]].values"
   ]
  },
  {
   "cell_type": "code",
   "execution_count": 32,
   "metadata": {
    "colab": {
     "base_uri": "https://localhost:8080/"
    },
    "id": "3vU-wqs84g04",
    "outputId": "cca28d29-d2b3-4f63-8dcb-4ff39cd7f5f0"
   },
   "outputs": [
    {
     "data": {
      "text/plain": [
       "KNeighborsRegressor()"
      ]
     },
     "execution_count": 32,
     "metadata": {},
     "output_type": "execute_result"
    }
   ],
   "source": [
    "#se asignan de manera pseudo aleatoria los datos para llevar a cabo el entrenamiento y posterior testeo.\n",
    "X_train_H, X_test_H, y_train_H, y_test_H = train_test_split(X_H, y_H, test_size= 0.2)\n",
    "\n",
    "#crea un modelo KNN con 5 \"vecinos\"\n",
    "knn_H = KNeighborsRegressor(n_neighbors = 5, metric= 'minkowski', p = 2)\n",
    "#entrenamos el regresor\n",
    "knn_H.fit(X_train_H, y_train_H)\n"
   ]
  },
  {
   "cell_type": "code",
   "execution_count": 34,
   "metadata": {
    "colab": {
     "base_uri": "https://localhost:8080/"
    },
    "id": "yzeatSsm4g05",
    "outputId": "9765e83e-e445-4492-8d88-16c978bf2010"
   },
   "outputs": [
    {
     "name": "stdout",
     "output_type": "stream",
     "text": [
      "Predicciones festivas: [ 8371.2   16211.784  7288.878 ... 18518.274  6210.588  4577.048]\n"
     ]
    }
   ],
   "source": [
    "#realiza una predicción en base a los datos de testeo\n",
    "y_pred_H = knn_H.predict(X_test_H)\n",
    "#se imprime las predicciones realizadas\n",
    "print(\"Predicciones festivas: {}\".format(y_pred_H))"
   ]
  },
  {
   "cell_type": "code",
   "execution_count": 44,
   "metadata": {
    "colab": {
     "base_uri": "https://localhost:8080/"
    },
    "id": "zc-90gU84g05",
    "outputId": "58ff1711-e1f9-4af6-eee8-81c0d6fd0299"
   },
   "outputs": [
    {
     "data": {
      "text/plain": [
       "0.15089948362791028"
      ]
     },
     "execution_count": 44,
     "metadata": {},
     "output_type": "execute_result"
    }
   ],
   "source": [
    "#se verifica la precisión con los datos de testeo\n",
    "score_knn_H = knn_H.score(X_test_H, y_test_H)\n",
    "score_knn_H"
   ]
  },
  {
   "cell_type": "code",
   "execution_count": 35,
   "metadata": {
    "colab": {
     "base_uri": "https://localhost:8080/",
     "height": 423
    },
    "id": "2v8b7y194g05",
    "outputId": "5df638ca-32f4-4ee9-cd3a-69d738d80a0b"
   },
   "outputs": [
    {
     "data": {
      "text/html": [
       "<div>\n",
       "<style scoped>\n",
       "    .dataframe tbody tr th:only-of-type {\n",
       "        vertical-align: middle;\n",
       "    }\n",
       "\n",
       "    .dataframe tbody tr th {\n",
       "        vertical-align: top;\n",
       "    }\n",
       "\n",
       "    .dataframe thead th {\n",
       "        text-align: right;\n",
       "    }\n",
       "</style>\n",
       "<table border=\"1\" class=\"dataframe\">\n",
       "  <thead>\n",
       "    <tr style=\"text-align: right;\">\n",
       "      <th></th>\n",
       "      <th>True Value</th>\n",
       "      <th>Prediction</th>\n",
       "      <th>Error</th>\n",
       "    </tr>\n",
       "  </thead>\n",
       "  <tbody>\n",
       "    <tr>\n",
       "      <th>0</th>\n",
       "      <td>2475.00</td>\n",
       "      <td>8371.200</td>\n",
       "      <td>238.230303</td>\n",
       "    </tr>\n",
       "    <tr>\n",
       "      <th>1</th>\n",
       "      <td>1730.52</td>\n",
       "      <td>16211.784</td>\n",
       "      <td>836.815755</td>\n",
       "    </tr>\n",
       "    <tr>\n",
       "      <th>2</th>\n",
       "      <td>7222.01</td>\n",
       "      <td>7288.878</td>\n",
       "      <td>0.925892</td>\n",
       "    </tr>\n",
       "    <tr>\n",
       "      <th>3</th>\n",
       "      <td>92668.44</td>\n",
       "      <td>8753.410</td>\n",
       "      <td>90.554055</td>\n",
       "    </tr>\n",
       "    <tr>\n",
       "      <th>4</th>\n",
       "      <td>11124.01</td>\n",
       "      <td>2892.292</td>\n",
       "      <td>73.999556</td>\n",
       "    </tr>\n",
       "    <tr>\n",
       "      <th>...</th>\n",
       "      <td>...</td>\n",
       "      <td>...</td>\n",
       "      <td>...</td>\n",
       "    </tr>\n",
       "    <tr>\n",
       "      <th>1994</th>\n",
       "      <td>23436.95</td>\n",
       "      <td>48284.590</td>\n",
       "      <td>106.019085</td>\n",
       "    </tr>\n",
       "    <tr>\n",
       "      <th>1995</th>\n",
       "      <td>895.00</td>\n",
       "      <td>1086.436</td>\n",
       "      <td>21.389497</td>\n",
       "    </tr>\n",
       "    <tr>\n",
       "      <th>1996</th>\n",
       "      <td>23144.59</td>\n",
       "      <td>18518.274</td>\n",
       "      <td>19.988758</td>\n",
       "    </tr>\n",
       "    <tr>\n",
       "      <th>1997</th>\n",
       "      <td>2947.07</td>\n",
       "      <td>6210.588</td>\n",
       "      <td>110.737716</td>\n",
       "    </tr>\n",
       "    <tr>\n",
       "      <th>1998</th>\n",
       "      <td>12424.58</td>\n",
       "      <td>4577.048</td>\n",
       "      <td>63.161346</td>\n",
       "    </tr>\n",
       "  </tbody>\n",
       "</table>\n",
       "<p>1999 rows × 3 columns</p>\n",
       "</div>"
      ],
      "text/plain": [
       "      True Value  Prediction       Error\n",
       "0        2475.00    8371.200  238.230303\n",
       "1        1730.52   16211.784  836.815755\n",
       "2        7222.01    7288.878    0.925892\n",
       "3       92668.44    8753.410   90.554055\n",
       "4       11124.01    2892.292   73.999556\n",
       "...          ...         ...         ...\n",
       "1994    23436.95   48284.590  106.019085\n",
       "1995      895.00    1086.436   21.389497\n",
       "1996    23144.59   18518.274   19.988758\n",
       "1997     2947.07    6210.588  110.737716\n",
       "1998    12424.58    4577.048   63.161346\n",
       "\n",
       "[1999 rows x 3 columns]"
      ]
     },
     "execution_count": 35,
     "metadata": {},
     "output_type": "execute_result"
    }
   ],
   "source": [
    "#a continuación se realiza una predicción y en base a ello se genera una tabla comparativa entre los datos reales y los predichos, además de su % de error.\n",
    "preds_H = knn_H.predict(X_test_H)\n",
    "\n",
    "performance_H = pd.DataFrame({ 'True Value': y_test_H,\n",
    "                            'Prediction': preds_H,\n",
    "                            'Error': (abs(preds_H - y_test_H)*100)/y_test_H})\n",
    "\n",
    "performance_H"
   ]
  },
  {
   "cell_type": "code",
   "execution_count": 36,
   "metadata": {
    "colab": {
     "base_uri": "https://localhost:8080/",
     "height": 423
    },
    "id": "Y_3x12Wb4g06",
    "outputId": "34ee0742-cde9-4363-d513-0cca6e56012e"
   },
   "outputs": [
    {
     "data": {
      "text/html": [
       "<div>\n",
       "<style scoped>\n",
       "    .dataframe tbody tr th:only-of-type {\n",
       "        vertical-align: middle;\n",
       "    }\n",
       "\n",
       "    .dataframe tbody tr th {\n",
       "        vertical-align: top;\n",
       "    }\n",
       "\n",
       "    .dataframe thead th {\n",
       "        text-align: right;\n",
       "    }\n",
       "</style>\n",
       "<table border=\"1\" class=\"dataframe\">\n",
       "  <thead>\n",
       "    <tr style=\"text-align: right;\">\n",
       "      <th></th>\n",
       "      <th>True Value</th>\n",
       "      <th>Prediction</th>\n",
       "      <th>Error</th>\n",
       "      <th>acceptance_criteria</th>\n",
       "    </tr>\n",
       "  </thead>\n",
       "  <tbody>\n",
       "    <tr>\n",
       "      <th>0</th>\n",
       "      <td>2475.00</td>\n",
       "      <td>8371.200</td>\n",
       "      <td>238.230303</td>\n",
       "      <td>0</td>\n",
       "    </tr>\n",
       "    <tr>\n",
       "      <th>1</th>\n",
       "      <td>1730.52</td>\n",
       "      <td>16211.784</td>\n",
       "      <td>836.815755</td>\n",
       "      <td>0</td>\n",
       "    </tr>\n",
       "    <tr>\n",
       "      <th>2</th>\n",
       "      <td>7222.01</td>\n",
       "      <td>7288.878</td>\n",
       "      <td>0.925892</td>\n",
       "      <td>1</td>\n",
       "    </tr>\n",
       "    <tr>\n",
       "      <th>3</th>\n",
       "      <td>92668.44</td>\n",
       "      <td>8753.410</td>\n",
       "      <td>90.554055</td>\n",
       "      <td>0</td>\n",
       "    </tr>\n",
       "    <tr>\n",
       "      <th>4</th>\n",
       "      <td>11124.01</td>\n",
       "      <td>2892.292</td>\n",
       "      <td>73.999556</td>\n",
       "      <td>0</td>\n",
       "    </tr>\n",
       "    <tr>\n",
       "      <th>...</th>\n",
       "      <td>...</td>\n",
       "      <td>...</td>\n",
       "      <td>...</td>\n",
       "      <td>...</td>\n",
       "    </tr>\n",
       "    <tr>\n",
       "      <th>1994</th>\n",
       "      <td>23436.95</td>\n",
       "      <td>48284.590</td>\n",
       "      <td>106.019085</td>\n",
       "      <td>0</td>\n",
       "    </tr>\n",
       "    <tr>\n",
       "      <th>1995</th>\n",
       "      <td>895.00</td>\n",
       "      <td>1086.436</td>\n",
       "      <td>21.389497</td>\n",
       "      <td>1</td>\n",
       "    </tr>\n",
       "    <tr>\n",
       "      <th>1996</th>\n",
       "      <td>23144.59</td>\n",
       "      <td>18518.274</td>\n",
       "      <td>19.988758</td>\n",
       "      <td>1</td>\n",
       "    </tr>\n",
       "    <tr>\n",
       "      <th>1997</th>\n",
       "      <td>2947.07</td>\n",
       "      <td>6210.588</td>\n",
       "      <td>110.737716</td>\n",
       "      <td>0</td>\n",
       "    </tr>\n",
       "    <tr>\n",
       "      <th>1998</th>\n",
       "      <td>12424.58</td>\n",
       "      <td>4577.048</td>\n",
       "      <td>63.161346</td>\n",
       "      <td>0</td>\n",
       "    </tr>\n",
       "  </tbody>\n",
       "</table>\n",
       "<p>1999 rows × 4 columns</p>\n",
       "</div>"
      ],
      "text/plain": [
       "      True Value  Prediction       Error  acceptance_criteria\n",
       "0        2475.00    8371.200  238.230303                    0\n",
       "1        1730.52   16211.784  836.815755                    0\n",
       "2        7222.01    7288.878    0.925892                    1\n",
       "3       92668.44    8753.410   90.554055                    0\n",
       "4       11124.01    2892.292   73.999556                    0\n",
       "...          ...         ...         ...                  ...\n",
       "1994    23436.95   48284.590  106.019085                    0\n",
       "1995      895.00    1086.436   21.389497                    1\n",
       "1996    23144.59   18518.274   19.988758                    1\n",
       "1997     2947.07    6210.588  110.737716                    0\n",
       "1998    12424.58    4577.048   63.161346                    0\n",
       "\n",
       "[1999 rows x 4 columns]"
      ]
     },
     "metadata": {},
     "output_type": "display_data"
    }
   ],
   "source": [
    "#a continuación se verifica la precisión de forma \"manual\" en base a un treshold menor al 30% de error\n",
    "performance_H[\"acceptance_criteria\"] = 0\n",
    "performance_H.loc[performance_H.query('Error<=30').index ,\"acceptance_criteria\"]=1\n",
    "display(performance_H)"
   ]
  },
  {
   "cell_type": "code",
   "execution_count": 39,
   "metadata": {
    "colab": {
     "base_uri": "https://localhost:8080/"
    },
    "id": "OhCIjyF44g06",
    "outputId": "8549d1c6-39e4-46fd-ea09-f2277bf27e67"
   },
   "outputs": [
    {
     "data": {
      "text/plain": [
       "419"
      ]
     },
     "execution_count": 39,
     "metadata": {},
     "output_type": "execute_result"
    }
   ],
   "source": [
    "len(performance_H.query('Error<=30').index)"
   ]
  },
  {
   "cell_type": "code",
   "execution_count": 49,
   "metadata": {
    "colab": {
     "base_uri": "https://localhost:8080/"
    },
    "id": "-U8jGjjc4g06",
    "outputId": "f4ae3dd5-08f5-454a-bb37-762a7ec2b05b"
   },
   "outputs": [
    {
     "data": {
      "text/plain": [
       "1999"
      ]
     },
     "execution_count": 49,
     "metadata": {},
     "output_type": "execute_result"
    }
   ],
   "source": [
    "(len(performance_H.index))"
   ]
  },
  {
   "cell_type": "code",
   "execution_count": 50,
   "metadata": {
    "colab": {
     "base_uri": "https://localhost:8080/"
    },
    "id": "ow0c7LZk4g06",
    "outputId": "13748e4b-f559-4c88-b8fd-af231c83bab5"
   },
   "outputs": [
    {
     "data": {
      "text/plain": [
       "0.21660830415207605"
      ]
     },
     "execution_count": 50,
     "metadata": {},
     "output_type": "execute_result"
    }
   ],
   "source": [
    "#precisión calculada a través de la fórmula perteneciente a las partes de una matriz de confusión: prefición = #TruePositive / #(TruePositive + FalsePositive)\n",
    "len(performance_H.query('Error<=30').index)/(len(performance_H.index))"
   ]
  },
  {
   "cell_type": "markdown",
   "metadata": {
    "id": "FnUqYHBH4g06"
   },
   "source": [
    "Actualmente el valor obtenido es cercano al obtenido por la función .score"
   ]
  },
  {
   "cell_type": "markdown",
   "metadata": {
    "id": "GDobBNc_4g07"
   },
   "source": [
    "1.   **Score**: 0.1322228498354584\n",
    "2.   **Precisión manual**: 0.2111055527763882"
   ]
  },
  {
   "cell_type": "markdown",
   "metadata": {
    "id": "tyOiWQL03SWn"
   },
   "source": [
    "## Segundo set\n",
    "Donde se realiza un balanceo de datos para la columna \"Weekly_Sales\""
   ]
  },
  {
   "cell_type": "markdown",
   "metadata": {
    "id": "U2_Rt46ru-hU"
   },
   "source": [
    "### Datos no festivos:"
   ]
  },
  {
   "cell_type": "code",
   "execution_count": 40,
   "metadata": {
    "colab": {
     "base_uri": "https://localhost:8080/"
    },
    "id": "BUs4G1uEbC66",
    "outputId": "06479ee6-8141-4387-c118-b6de1138afb6"
   },
   "outputs": [
    {
     "data": {
      "text/plain": [
       "70856"
      ]
     },
     "execution_count": 40,
     "metadata": {},
     "output_type": "execute_result"
    }
   ],
   "source": [
    "#se agrupa el conjunto de datos en los que las ventas semanales sean como máximo 30000\n",
    "Data_Weekly_Sales_Cheap = join_data_no_Holiday.query('Weekly_Sales <= 30000')\n",
    "len(Data_Weekly_Sales_Cheap)"
   ]
  },
  {
   "cell_type": "code",
   "execution_count": 41,
   "metadata": {
    "colab": {
     "base_uri": "https://localhost:8080/"
    },
    "id": "Ja6Qd9Mtvnb8",
    "outputId": "82ba2ea6-3b40-4c4a-a254-84ce715ccafa"
   },
   "outputs": [
    {
     "data": {
      "text/plain": [
       "16208"
      ]
     },
     "execution_count": 41,
     "metadata": {},
     "output_type": "execute_result"
    }
   ],
   "source": [
    "len(join_data_no_Holiday.query('Weekly_Sales > 30000'))"
   ]
  },
  {
   "cell_type": "code",
   "execution_count": 42,
   "metadata": {
    "id": "C-t7kUwJbC66"
   },
   "outputs": [],
   "source": [
    "#se escojen 20000 datos al azar del conjunto de datos anteriormente creado y se concatenan con aquellos datos de las ventas semanales cuyo valor sea mayor a 30000\n",
    "join_data_no_Holiday2 = pd.concat([Data_Weekly_Sales_Cheap.sample(n=20000), join_data_no_Holiday.query('Weekly_Sales > 30000')])"
   ]
  },
  {
   "cell_type": "markdown",
   "metadata": {
    "id": "hbbpPauQfaUf"
   },
   "source": [
    "A continuación se procede a realizar en entrenamiento de manera homóloga al set 1"
   ]
  },
  {
   "cell_type": "code",
   "execution_count": 44,
   "metadata": {
    "id": "C8xJxwHcgCJD"
   },
   "outputs": [],
   "source": [
    "#se crean arrays para las características y la variable de destino en el caso de dias no festivos.\n",
    "y2 = join_data_no_Holiday2[\"Weekly_Sales\"].values\n",
    "X2 = join_data_no_Holiday2[[\"Dept\",\"Fuel_Price\", \"MarkDown1\", \"MarkDown2\", \"MarkDown3\", \"MarkDown4\", \"MarkDown5\", \"CPI\", \"Unemployment\"]].values"
   ]
  },
  {
   "cell_type": "code",
   "execution_count": 45,
   "metadata": {
    "id": "2OcS2lxjjj6T"
   },
   "outputs": [],
   "source": [
    "X_train2, X_test2, y_train2, y_test2 = train_test_split(X2, y2, test_size= 0.2)"
   ]
  },
  {
   "cell_type": "code",
   "execution_count": 46,
   "metadata": {
    "colab": {
     "base_uri": "https://localhost:8080/"
    },
    "id": "ZCcXpyCafvhP",
    "outputId": "7957f144-b131-48ed-ac5f-b49e3745b8cc"
   },
   "outputs": [
    {
     "data": {
      "text/plain": [
       "KNeighborsRegressor()"
      ]
     },
     "execution_count": 46,
     "metadata": {},
     "output_type": "execute_result"
    }
   ],
   "source": [
    "#crea un modelo KNN con 5 \"vecinos\"\n",
    "knn2 = KNeighborsRegressor(n_neighbors = 5, metric= 'minkowski', p = 2)\n",
    "#entrenamos el nuevo regresor\n",
    "knn2.fit(X_train2, y_train2)"
   ]
  },
  {
   "cell_type": "code",
   "execution_count": 47,
   "metadata": {
    "colab": {
     "base_uri": "https://localhost:8080/"
    },
    "id": "6rszUr7BkT87",
    "outputId": "5e12edc9-f81d-48db-f5f2-fa024c455133"
   },
   "outputs": [
    {
     "name": "stdout",
     "output_type": "stream",
     "text": [
      "Predicciones set 2: [ 8029.568 90615.582 23531.71  ...  3809.498 50672.106 20713.734]\n"
     ]
    }
   ],
   "source": [
    "#realiza una predicción en base a los datos de testeo\n",
    "y_pred2 = knn2.predict(X_test2)\n",
    "#se imprime las predicciones realizadas\n",
    "print(\"Predicciones set 2: {}\".format(y_pred2))"
   ]
  },
  {
   "cell_type": "code",
   "execution_count": 48,
   "metadata": {
    "colab": {
     "base_uri": "https://localhost:8080/"
    },
    "id": "qiE7_bAZkwan",
    "outputId": "4fdbaa12-b684-4d97-cdd9-d81536391ff4"
   },
   "outputs": [
    {
     "data": {
      "text/plain": [
       "0.13711078836332058"
      ]
     },
     "execution_count": 48,
     "metadata": {},
     "output_type": "execute_result"
    }
   ],
   "source": [
    "#se verifica la precisión con los datos de testeo\n",
    "score_knn2 = knn2.score(X_test2, y_test2)\n",
    "score_knn2"
   ]
  },
  {
   "cell_type": "code",
   "execution_count": 49,
   "metadata": {
    "colab": {
     "base_uri": "https://localhost:8080/",
     "height": 423
    },
    "id": "LrULHRedldrD",
    "outputId": "cbe533c1-f636-48c2-8cd5-c0d807528c70"
   },
   "outputs": [
    {
     "data": {
      "text/html": [
       "<div>\n",
       "<style scoped>\n",
       "    .dataframe tbody tr th:only-of-type {\n",
       "        vertical-align: middle;\n",
       "    }\n",
       "\n",
       "    .dataframe tbody tr th {\n",
       "        vertical-align: top;\n",
       "    }\n",
       "\n",
       "    .dataframe thead th {\n",
       "        text-align: right;\n",
       "    }\n",
       "</style>\n",
       "<table border=\"1\" class=\"dataframe\">\n",
       "  <thead>\n",
       "    <tr style=\"text-align: right;\">\n",
       "      <th></th>\n",
       "      <th>True Value</th>\n",
       "      <th>Prediction</th>\n",
       "      <th>Error</th>\n",
       "    </tr>\n",
       "  </thead>\n",
       "  <tbody>\n",
       "    <tr>\n",
       "      <th>0</th>\n",
       "      <td>101.10</td>\n",
       "      <td>8029.568</td>\n",
       "      <td>7842.203759</td>\n",
       "    </tr>\n",
       "    <tr>\n",
       "      <th>1</th>\n",
       "      <td>89179.82</td>\n",
       "      <td>90615.582</td>\n",
       "      <td>1.609963</td>\n",
       "    </tr>\n",
       "    <tr>\n",
       "      <th>2</th>\n",
       "      <td>13982.89</td>\n",
       "      <td>23531.710</td>\n",
       "      <td>68.289316</td>\n",
       "    </tr>\n",
       "    <tr>\n",
       "      <th>3</th>\n",
       "      <td>11673.55</td>\n",
       "      <td>33588.034</td>\n",
       "      <td>187.727675</td>\n",
       "    </tr>\n",
       "    <tr>\n",
       "      <th>4</th>\n",
       "      <td>40584.76</td>\n",
       "      <td>47414.632</td>\n",
       "      <td>16.828662</td>\n",
       "    </tr>\n",
       "    <tr>\n",
       "      <th>...</th>\n",
       "      <td>...</td>\n",
       "      <td>...</td>\n",
       "      <td>...</td>\n",
       "    </tr>\n",
       "    <tr>\n",
       "      <th>7237</th>\n",
       "      <td>30371.62</td>\n",
       "      <td>38181.276</td>\n",
       "      <td>25.713663</td>\n",
       "    </tr>\n",
       "    <tr>\n",
       "      <th>7238</th>\n",
       "      <td>32871.08</td>\n",
       "      <td>41414.848</td>\n",
       "      <td>25.991747</td>\n",
       "    </tr>\n",
       "    <tr>\n",
       "      <th>7239</th>\n",
       "      <td>1876.60</td>\n",
       "      <td>3809.498</td>\n",
       "      <td>103.000000</td>\n",
       "    </tr>\n",
       "    <tr>\n",
       "      <th>7240</th>\n",
       "      <td>19038.82</td>\n",
       "      <td>50672.106</td>\n",
       "      <td>166.151505</td>\n",
       "    </tr>\n",
       "    <tr>\n",
       "      <th>7241</th>\n",
       "      <td>77961.60</td>\n",
       "      <td>20713.734</td>\n",
       "      <td>73.430851</td>\n",
       "    </tr>\n",
       "  </tbody>\n",
       "</table>\n",
       "<p>7242 rows × 3 columns</p>\n",
       "</div>"
      ],
      "text/plain": [
       "      True Value  Prediction        Error\n",
       "0         101.10    8029.568  7842.203759\n",
       "1       89179.82   90615.582     1.609963\n",
       "2       13982.89   23531.710    68.289316\n",
       "3       11673.55   33588.034   187.727675\n",
       "4       40584.76   47414.632    16.828662\n",
       "...          ...         ...          ...\n",
       "7237    30371.62   38181.276    25.713663\n",
       "7238    32871.08   41414.848    25.991747\n",
       "7239     1876.60    3809.498   103.000000\n",
       "7240    19038.82   50672.106   166.151505\n",
       "7241    77961.60   20713.734    73.430851\n",
       "\n",
       "[7242 rows x 3 columns]"
      ]
     },
     "execution_count": 49,
     "metadata": {},
     "output_type": "execute_result"
    }
   ],
   "source": [
    "#a continuación se realiza una predicción y en base a ello se genera una tabla comparativa entre los datos reales y los predichos, además de su % de error.\n",
    "preds2 = knn2.predict(X_test2)\n",
    "\n",
    "performance2 = pd.DataFrame({ 'True Value': y_test2,\n",
    "                            'Prediction': preds2,\n",
    "                            'Error': (abs(preds2 - y_test2)*100)/y_test2})\n",
    "\n",
    "performance2"
   ]
  },
  {
   "cell_type": "code",
   "execution_count": 50,
   "metadata": {
    "colab": {
     "base_uri": "https://localhost:8080/",
     "height": 423
    },
    "id": "hULz15IwnFuu",
    "outputId": "70b2ccff-b07c-4b8c-8772-e9181aa032be"
   },
   "outputs": [
    {
     "data": {
      "text/html": [
       "<div>\n",
       "<style scoped>\n",
       "    .dataframe tbody tr th:only-of-type {\n",
       "        vertical-align: middle;\n",
       "    }\n",
       "\n",
       "    .dataframe tbody tr th {\n",
       "        vertical-align: top;\n",
       "    }\n",
       "\n",
       "    .dataframe thead th {\n",
       "        text-align: right;\n",
       "    }\n",
       "</style>\n",
       "<table border=\"1\" class=\"dataframe\">\n",
       "  <thead>\n",
       "    <tr style=\"text-align: right;\">\n",
       "      <th></th>\n",
       "      <th>True Value</th>\n",
       "      <th>Prediction</th>\n",
       "      <th>Error</th>\n",
       "      <th>acceptance_criteria</th>\n",
       "    </tr>\n",
       "  </thead>\n",
       "  <tbody>\n",
       "    <tr>\n",
       "      <th>0</th>\n",
       "      <td>101.10</td>\n",
       "      <td>8029.568</td>\n",
       "      <td>7842.203759</td>\n",
       "      <td>0</td>\n",
       "    </tr>\n",
       "    <tr>\n",
       "      <th>1</th>\n",
       "      <td>89179.82</td>\n",
       "      <td>90615.582</td>\n",
       "      <td>1.609963</td>\n",
       "      <td>1</td>\n",
       "    </tr>\n",
       "    <tr>\n",
       "      <th>2</th>\n",
       "      <td>13982.89</td>\n",
       "      <td>23531.710</td>\n",
       "      <td>68.289316</td>\n",
       "      <td>0</td>\n",
       "    </tr>\n",
       "    <tr>\n",
       "      <th>3</th>\n",
       "      <td>11673.55</td>\n",
       "      <td>33588.034</td>\n",
       "      <td>187.727675</td>\n",
       "      <td>0</td>\n",
       "    </tr>\n",
       "    <tr>\n",
       "      <th>4</th>\n",
       "      <td>40584.76</td>\n",
       "      <td>47414.632</td>\n",
       "      <td>16.828662</td>\n",
       "      <td>0</td>\n",
       "    </tr>\n",
       "    <tr>\n",
       "      <th>...</th>\n",
       "      <td>...</td>\n",
       "      <td>...</td>\n",
       "      <td>...</td>\n",
       "      <td>...</td>\n",
       "    </tr>\n",
       "    <tr>\n",
       "      <th>7237</th>\n",
       "      <td>30371.62</td>\n",
       "      <td>38181.276</td>\n",
       "      <td>25.713663</td>\n",
       "      <td>0</td>\n",
       "    </tr>\n",
       "    <tr>\n",
       "      <th>7238</th>\n",
       "      <td>32871.08</td>\n",
       "      <td>41414.848</td>\n",
       "      <td>25.991747</td>\n",
       "      <td>0</td>\n",
       "    </tr>\n",
       "    <tr>\n",
       "      <th>7239</th>\n",
       "      <td>1876.60</td>\n",
       "      <td>3809.498</td>\n",
       "      <td>103.000000</td>\n",
       "      <td>0</td>\n",
       "    </tr>\n",
       "    <tr>\n",
       "      <th>7240</th>\n",
       "      <td>19038.82</td>\n",
       "      <td>50672.106</td>\n",
       "      <td>166.151505</td>\n",
       "      <td>0</td>\n",
       "    </tr>\n",
       "    <tr>\n",
       "      <th>7241</th>\n",
       "      <td>77961.60</td>\n",
       "      <td>20713.734</td>\n",
       "      <td>73.430851</td>\n",
       "      <td>0</td>\n",
       "    </tr>\n",
       "  </tbody>\n",
       "</table>\n",
       "<p>7242 rows × 4 columns</p>\n",
       "</div>"
      ],
      "text/plain": [
       "      True Value  Prediction        Error  acceptance_criteria\n",
       "0         101.10    8029.568  7842.203759                    0\n",
       "1       89179.82   90615.582     1.609963                    1\n",
       "2       13982.89   23531.710    68.289316                    0\n",
       "3       11673.55   33588.034   187.727675                    0\n",
       "4       40584.76   47414.632    16.828662                    0\n",
       "...          ...         ...          ...                  ...\n",
       "7237    30371.62   38181.276    25.713663                    0\n",
       "7238    32871.08   41414.848    25.991747                    0\n",
       "7239     1876.60    3809.498   103.000000                    0\n",
       "7240    19038.82   50672.106   166.151505                    0\n",
       "7241    77961.60   20713.734    73.430851                    0\n",
       "\n",
       "[7242 rows x 4 columns]"
      ]
     },
     "metadata": {},
     "output_type": "display_data"
    }
   ],
   "source": [
    "#a continuación se verifica la precisión en base a un treshold menor al 30% de error\n",
    "performance2[\"acceptance_criteria\"] = 0\n",
    "performance2.loc[performance2.query('Error<=15').index ,\"acceptance_criteria\"]=1\n",
    "display(performance2)"
   ]
  },
  {
   "cell_type": "code",
   "execution_count": 51,
   "metadata": {
    "colab": {
     "base_uri": "https://localhost:8080/"
    },
    "id": "tmJgSUqIv17I",
    "outputId": "a1f676f2-4d5a-4aae-99e2-ce49517472e2"
   },
   "outputs": [
    {
     "data": {
      "text/plain": [
       "3776"
      ]
     },
     "execution_count": 51,
     "metadata": {},
     "output_type": "execute_result"
    }
   ],
   "source": [
    "len(performance.query('Error<=30').index)"
   ]
  },
  {
   "cell_type": "code",
   "execution_count": 52,
   "metadata": {
    "colab": {
     "base_uri": "https://localhost:8080/"
    },
    "id": "kS8UibI0v1m5",
    "outputId": "150f39f1-9859-4789-c3de-8b12c2d0f6a3"
   },
   "outputs": [
    {
     "data": {
      "text/plain": [
       "17413"
      ]
     },
     "execution_count": 52,
     "metadata": {},
     "output_type": "execute_result"
    }
   ],
   "source": [
    "(len(performance.index))"
   ]
  },
  {
   "cell_type": "code",
   "execution_count": 53,
   "metadata": {
    "colab": {
     "base_uri": "https://localhost:8080/"
    },
    "id": "BPfm29LAu_ia",
    "outputId": "30e2c946-c6ab-44b0-c97f-b3757e300999"
   },
   "outputs": [
    {
     "data": {
      "text/plain": [
       "1534"
      ]
     },
     "execution_count": 53,
     "metadata": {},
     "output_type": "execute_result"
    }
   ],
   "source": [
    "len(performance2.query('Error<=30').index)"
   ]
  },
  {
   "cell_type": "code",
   "execution_count": 54,
   "metadata": {
    "colab": {
     "base_uri": "https://localhost:8080/"
    },
    "id": "3-qP29oeu1p5",
    "outputId": "e61add79-1bdc-4089-b1df-207a4ab5b32a"
   },
   "outputs": [
    {
     "data": {
      "text/plain": [
       "7242"
      ]
     },
     "execution_count": 54,
     "metadata": {},
     "output_type": "execute_result"
    }
   ],
   "source": [
    "(len(performance2.index))"
   ]
  },
  {
   "cell_type": "code",
   "execution_count": 55,
   "metadata": {
    "colab": {
     "base_uri": "https://localhost:8080/"
    },
    "id": "e2ycX7N_qoJe",
    "outputId": "29db16d8-23ea-49eb-968e-355d94a8a127"
   },
   "outputs": [
    {
     "data": {
      "text/plain": [
       "0.21181993924330295"
      ]
     },
     "execution_count": 55,
     "metadata": {},
     "output_type": "execute_result"
    }
   ],
   "source": [
    "#precisión calculada a través de la fórmula perteneciente a las partes de una matriz de confusión: prefición = #TruePositive / #(TruePositive + FalsePositive)\n",
    "len(performance2.query('Error<=30').index)/(len(performance2.index))"
   ]
  },
  {
   "cell_type": "markdown",
   "metadata": {
    "id": "To71a83KyER8"
   },
   "source": [
    "Actualmente el valor obtenido no es cercano al obtenido por la función .score para el set 2."
   ]
  },
  {
   "cell_type": "markdown",
   "metadata": {
    "id": "MdL1jeEUQdJA"
   },
   "source": [
    "1.   **Score**: 0.16334375551144098\n",
    "2.   **Precisión manual**: 0.20892018779342722"
   ]
  },
  {
   "cell_type": "markdown",
   "metadata": {
    "id": "wXLs-JEfvCN9"
   },
   "source": [
    "### Datos festivos:"
   ]
  },
  {
   "cell_type": "markdown",
   "metadata": {
    "id": "ShhdIxkl-YpZ"
   },
   "source": [
    "Para realizar el proceso de igual manera en todo el set 2, se analiza si es necesario realizar nuevamente un balanceo de datos para la columna \"Weekly_Sales\""
   ]
  },
  {
   "cell_type": "code",
   "execution_count": 56,
   "metadata": {
    "colab": {
     "base_uri": "https://localhost:8080/"
    },
    "id": "wPBNPoUcB3Li",
    "outputId": "872e1822-f277-4030-9a2c-e000be679481"
   },
   "outputs": [
    {
     "data": {
      "text/plain": [
       "9992"
      ]
     },
     "execution_count": 56,
     "metadata": {},
     "output_type": "execute_result"
    }
   ],
   "source": [
    "len(join_data_Holiday)"
   ]
  },
  {
   "cell_type": "code",
   "execution_count": 57,
   "metadata": {
    "colab": {
     "base_uri": "https://localhost:8080/"
    },
    "id": "RhLv5ToV-Ypb",
    "outputId": "973625c0-073e-43d0-ce2c-2db13703c1d7"
   },
   "outputs": [
    {
     "data": {
      "text/plain": [
       "8664"
      ]
     },
     "execution_count": 57,
     "metadata": {},
     "output_type": "execute_result"
    }
   ],
   "source": [
    "#se agrupa el conjunto de datos en los que las ventas semanales sean como máximo 30000\n",
    "Data_Weekly_Sales_Cheap_Holyday = join_data_Holiday.query('Weekly_Sales <= 40000')\n",
    "len(Data_Weekly_Sales_Cheap_Holyday)"
   ]
  },
  {
   "cell_type": "markdown",
   "metadata": {
    "id": "7rQeZuojCl6u"
   },
   "source": [
    "**analizar qué cantidad de datos es necesaria para realizar el balance, luego seguir los mismos pasos para todo.**"
   ]
  },
  {
   "cell_type": "code",
   "execution_count": 59,
   "metadata": {
    "id": "tu-Vg40n-Ypb"
   },
   "outputs": [],
   "source": [
    "#se escojen 20000 datos al azar del conjunto de datos anteriormente creado y se concatenan con aquellos datos de las ventas semanales cuyo valor sea mayor a 30000\n",
    "join_data_Holiday2 = pd.concat([Data_Weekly_Sales_Cheap_Holyday.sample(n=1500), join_data_Holiday.query('Weekly_Sales > 30000')])"
   ]
  },
  {
   "cell_type": "markdown",
   "metadata": {
    "id": "FQJZTSVwxHTj"
   },
   "source": [
    "Al observar el gráfico se observa que no es una gran mejora en el balanceo de los datos, pero intentar balancear con un conjunto más acotado de datos, sería perjudicial para el modelo."
   ]
  },
  {
   "cell_type": "code",
   "execution_count": 60,
   "metadata": {
    "id": "NZzkZZh5-Ypc"
   },
   "outputs": [],
   "source": [
    "#se crean arrays para las características y la variable de destino en el caso de dias no festivos.\n",
    "y_H2 = join_data_Holiday2[\"Weekly_Sales\"].values\n",
    "X_H2 = join_data_Holiday2[[\"Dept\",\"Fuel_Price\", \"MarkDown1\", \"MarkDown2\", \"MarkDown3\", \"MarkDown4\", \"MarkDown5\", \"CPI\", \"Unemployment\"]].values"
   ]
  },
  {
   "cell_type": "code",
   "execution_count": 61,
   "metadata": {
    "id": "YCkS0t9H-Ypc"
   },
   "outputs": [],
   "source": [
    "X_train_H2, X_test_H2, y_train_H2, y_test_H2 = train_test_split(X_H2, y_H2, test_size= 0.2)"
   ]
  },
  {
   "cell_type": "code",
   "execution_count": 62,
   "metadata": {
    "colab": {
     "base_uri": "https://localhost:8080/"
    },
    "id": "Ro9zuM2N-Ypd",
    "outputId": "1dbb2fbd-1e90-48d3-dc54-584ef03ac784"
   },
   "outputs": [
    {
     "data": {
      "text/plain": [
       "KNeighborsRegressor()"
      ]
     },
     "execution_count": 62,
     "metadata": {},
     "output_type": "execute_result"
    }
   ],
   "source": [
    "#crea un modelo KNN con 5 \"vecinos\"\n",
    "knn_H2 = KNeighborsRegressor(n_neighbors = 5, metric= 'minkowski', p = 2)\n",
    "#entrenamos el nuevo regresor\n",
    "knn_H2.fit(X_train_H2, y_train_H2)"
   ]
  },
  {
   "cell_type": "code",
   "execution_count": 63,
   "metadata": {
    "colab": {
     "base_uri": "https://localhost:8080/"
    },
    "id": "V1nEqS4q-Ypd",
    "outputId": "d8049f7e-bb73-4194-fde1-9929349fbe29"
   },
   "outputs": [
    {
     "name": "stdout",
     "output_type": "stream",
     "text": [
      "Predicciones festivas del set 2: [ 84112.126  19167.366   6288.888  21440.278  22321.116  43683.482\n",
      "  18973.78   29604.458  30131.182  64311.47   23286.772  29744.204\n",
      "  69612.772  24391.786 103355.096  40137.98   40615.074  21976.664\n",
      "  36866.63   33504.14   60789.032  35398.046  44694.218  24785.118\n",
      "  36227.436  72678.274  50569.032  70954.034  36227.436  77230.838\n",
      "  81850.468   5000.026  15720.092  34490.158  66034.926  21545.194\n",
      "  38169.58   47180.404  44021.632  54570.952  70141.234  33246.468\n",
      "  20395.932  54612.828  48667.094  44004.47   61982.29   22805.408\n",
      "  38332.774  17659.118  54794.     32810.89   20638.106  42013.576\n",
      "  35636.222  39892.708  23615.758  16994.19   31383.438  29937.434\n",
      "  10872.78   61368.176  71030.31   37519.804  48340.044  14526.542\n",
      "  86641.706  27967.372  37038.342  37519.804  25178.264  68589.462\n",
      "  15916.9    27583.386   7196.018  49107.544  67946.262  38099.986\n",
      "  59533.912 102703.786  47724.378   8660.36   11932.302  14530.634\n",
      "  92606.756  21882.062  14304.254  11965.908  11965.908  12113.336\n",
      " 123778.682  59485.2    17297.496  28033.578  31125.344  34889.634\n",
      "  58159.294  12282.63   31082.284  45515.31   14155.898  72678.274\n",
      "  29708.178  54405.284  24417.14   38557.714   8198.492  21875.35\n",
      "  37634.78   46713.86   75955.386  14530.634  46489.354  61670.252\n",
      "  66043.36   19559.992  71964.592  88950.196  22138.374  36240.956\n",
      "  70412.904  23868.062  61084.51   24347.826  17558.84   25820.45\n",
      "  31426.658  61550.24   44378.784  47502.91   24025.65   71881.166\n",
      "  51855.74   14155.898  21561.23  118910.84   60163.91   11832.372\n",
      "  25820.45   52043.7    27878.688  52597.46   69450.568  75639.894\n",
      "  31593.802  67286.898  38081.704  26040.88   51446.708  57355.508\n",
      "  34549.842  67946.262  18845.234   9578.87   19258.012  62712.916\n",
      "  28503.092  28258.756  25806.868  22096.958  11965.908  28039.64\n",
      "  45294.978  18890.388  16640.924  41329.27   16640.924  10760.722\n",
      "  59128.448  12480.282  60271.906  59780.046 100097.74   13355.546\n",
      "  52597.46   32269.912  52389.006  26197.554  94120.644  21345.216\n",
      "  96307.504  26378.398  50503.73   53091.942  28106.528  77230.838\n",
      "  88950.196  57842.994  13680.104  14537.634   8198.492  79760.932\n",
      "  77230.838  44530.084  11965.908  27927.19   36204.3    36710.674\n",
      "   8209.23   16706.258  14530.634  84401.67  112635.678  15543.68\n",
      "  37585.998  31981.272  81850.468  83852.358  36228.062  54443.82\n",
      "   3653.91   28401.092  82968.74   50273.084  78141.064  32269.912\n",
      "  29373.09   15112.458  34919.14   59780.046  20395.932  36033.952\n",
      "  78621.516  17626.068  38900.078  43582.998  12947.148  25357.566\n",
      "  51473.65   30675.594  22731.542  33106.586  26197.554  30240.544\n",
      "  37519.804   7828.186  52466.658  71430.454   1846.292  51446.708\n",
      "  66588.992  31110.636 124111.126  72813.972  86820.314  64030.296\n",
      "  40730.49   17550.44   13139.676  33080.456  31082.284   8170.278\n",
      "  33911.314  21560.648   8209.23   12731.188  27273.07   40615.074\n",
      "  31082.284   7971.358  12480.282  28397.3    42845.178  16644.504\n",
      "  16081.004  27876.618  24785.118  81850.468  45947.79   38829.434\n",
      "  34490.158  41919.572 101124.89   33246.468  58756.5    22043.448\n",
      "  32989.028  12734.764  31125.344   7695.268  13783.924  20638.106\n",
      "  17226.996  28821.232  32606.99   34698.576  19221.09   17659.118\n",
      " 110407.03   29708.178  40983.044  39215.33   47595.632  53921.37\n",
      "  42788.808  84112.126 124111.126  34775.97   16644.504  96307.504\n",
      " 101124.89   37837.838  25138.494  36956.754  48234.944  21000.024\n",
      "  47926.28   36240.956  37645.536   4134.012  10310.496  28703.52\n",
      "  31110.636  78361.428  72242.426  40615.074  43794.528  68166.172\n",
      "  43908.962  95516.174  29369.292  64177.824  46836.146  20638.106\n",
      "  15969.098  45444.704  28397.3    22138.374  32253.164  51212.536\n",
      "  37906.456  41326.764  23663.448  58492.692  81218.072  21707.486\n",
      "  91238.594  58116.848  19499.424  15593.462  24025.65   15775.288\n",
      "  88362.436  59655.292  13980.948  73703.924  26507.864  30052.674\n",
      "  15048.52  112635.678  16953.048  30240.544  21502.138  38557.714\n",
      "  28444.866 101124.89   31623.496  68166.172  10310.514 101810.388\n",
      "  61528.184  46147.76   57516.394  45444.704  60271.906  29047.442\n",
      "  14530.634  51669.478  13867.614  11335.508  60271.906   7695.268\n",
      "  16640.924  15774.82   67297.006   7912.592  24367.748   5146.722\n",
      "  16644.504  11965.908  29620.172  31125.344   7971.358  51753.74\n",
      "  15720.092  35484.034  16953.048  17626.068  30430.326  66043.36\n",
      "  35616.346   3088.204  49765.702  38222.964  51753.74   36866.63\n",
      "  14530.634  59461.412  17626.068  24313.33   43582.998  41984.258\n",
      "  37123.302  37000.158  60896.222  46144.698  54092.91   15543.68\n",
      "  24025.65   37475.64   15769.022  59485.2    33551.89   24367.748\n",
      "  51446.708  96143.422  39167.41   17426.806  73599.216 110407.03\n",
      "  45636.95  115317.694  12731.188 118705.698  24025.65   16729.184\n",
      "  31800.852  53925.684  36710.674  46144.698  16103.378  36227.436\n",
      "  15510.584  86579.214  39305.082  61159.766  53925.684  61084.51\n",
      "  38332.774 108537.64   15969.098  65876.832  20320.318  29013.026\n",
      "  53394.586  26410.3    50569.032  23615.758   2900.614  29830.656\n",
      "  10930.576  19538.726  16660.056  40137.98   17095.694  31082.284\n",
      "  29189.272  13725.224  27761.76   39271.898  18845.234  37123.302\n",
      "  18360.782  24762.84   88950.196   1760.222  17429.91   29013.026\n",
      "  44735.45   24124.32   20644.796  49481.034  38706.592  25806.868\n",
      "  68057.596  28397.3    61670.252  60271.906  25746.132  15510.584\n",
      "  37519.804  21831.83   54297.036  26058.862  39712.592  33179.09\n",
      "  35636.222  51085.28   42376.552  18880.738  30449.996  29926.98\n",
      "  50904.656  28821.232  49107.544  27723.926  21545.194 106537.948\n",
      "  23405.444  25811.576  61368.176  27432.254  22748.598  43794.528\n",
      "  77230.838   3117.538  30010.228  39092.134  16685.478   2767.386\n",
      "  65746.43   11965.908  56897.788  81218.072  28923.572  19302.746\n",
      "  51669.478  19677.146  30687.478  29620.172  17095.694  66113.138\n",
      "  91822.146  67007.646  97790.734  41113.59   36227.436  29165.124\n",
      "  12592.628  34468.138  75792.41   56897.788  51446.708  34844.396\n",
      "  39202.126  21282.786  65577.554  26787.564  54543.686  44187.182\n",
      "  23827.96   14526.542  19167.366   3513.382  58260.828  29708.178\n",
      "  32253.164   9150.798  47352.44   54815.066  17659.118  49421.882\n",
      "  24367.748  73563.786  35398.046  22096.958  26241.476  45908.296\n",
      "  30755.722   8209.23   56122.97   14530.634  26812.542  27787.552\n",
      "  10627.196  22927.816  20530.522  91532.658  53747.14   47724.378\n",
      "  42906.23   57792.992  62169.09   60043.498 118809.622  14669.744\n",
      "  29013.026  66043.36   26040.702  40137.98   93758.782  34775.97\n",
      "  36204.3    73841.422  15112.458   8002.506  77230.838   8349.464\n",
      "  16564.704   3671.702  54092.91   16965.398  15205.762  20638.106\n",
      "  46144.698  75955.386  24025.65   69450.568  18880.738  22043.448\n",
      "  78621.516  18973.78   51669.478  31594.072  37519.804  13208.016\n",
      "  28442.946  26115.91   27288.97   77230.838  35411.95   72111.476\n",
      "  47758.112  39215.33   20536.73   22497.042 111444.276  13139.676\n",
      "  42013.576  66043.36   84112.126  53488.282  88950.196  19117.306\n",
      "  36601.322  26955.34   67067.086  67286.898  31082.284  45604.42\n",
      "  53810.298  50569.032  32339.824  86579.214  40983.044  37477.872\n",
      "  51004.586  31690.344  72489.062  32732.206  31030.544  64030.296\n",
      "  33702.126  43794.528  64146.138  40615.074  13980.948  28397.3\n",
      "  29084.726  38557.714  34468.138  42077.312  43881.392  16644.504\n",
      "  46679.144  75792.41   34335.34   39482.322  27288.97   42885.05\n",
      "  13867.614   8198.492  23953.398  42471.816  16217.354  14530.634\n",
      "  14029.31   60206.366  53290.61   32678.004  54570.952  11829.024\n",
      "   7476.59   33284.048  11395.354  33053.738 115895.628  55549.992\n",
      "  15769.022  25019.072  30430.326  83322.132  36989.444   5000.026\n",
      "  37643.06 ]\n"
     ]
    }
   ],
   "source": [
    "#realiza una predicción en base a los datos de testeo\n",
    "y_pred_H2 = knn_H2.predict(X_test_H2)\n",
    "#se imprime las predicciones realizadas\n",
    "print(\"Predicciones festivas del set 2: {}\".format(y_pred_H2))"
   ]
  },
  {
   "cell_type": "code",
   "execution_count": 64,
   "metadata": {
    "colab": {
     "base_uri": "https://localhost:8080/"
    },
    "id": "c7yCQYKx-Ype",
    "outputId": "096fff61-d850-4cf8-9a2e-ddf9195ada85"
   },
   "outputs": [
    {
     "data": {
      "text/plain": [
       "-0.02667746742538779"
      ]
     },
     "execution_count": 64,
     "metadata": {},
     "output_type": "execute_result"
    }
   ],
   "source": [
    "#se verifica la precisión con los datos de testeo\n",
    "score_knn_H2 = knn_H2.score(X_test_H2, y_test_H2)\n",
    "score_knn_H2"
   ]
  },
  {
   "cell_type": "code",
   "execution_count": 65,
   "metadata": {
    "colab": {
     "base_uri": "https://localhost:8080/",
     "height": 423
    },
    "id": "paXMMWbL-Ype",
    "outputId": "2438f89a-8706-41ad-d839-fc0cfa651285"
   },
   "outputs": [
    {
     "data": {
      "text/html": [
       "<div>\n",
       "<style scoped>\n",
       "    .dataframe tbody tr th:only-of-type {\n",
       "        vertical-align: middle;\n",
       "    }\n",
       "\n",
       "    .dataframe tbody tr th {\n",
       "        vertical-align: top;\n",
       "    }\n",
       "\n",
       "    .dataframe thead th {\n",
       "        text-align: right;\n",
       "    }\n",
       "</style>\n",
       "<table border=\"1\" class=\"dataframe\">\n",
       "  <thead>\n",
       "    <tr style=\"text-align: right;\">\n",
       "      <th></th>\n",
       "      <th>True Value</th>\n",
       "      <th>Prediction</th>\n",
       "      <th>Error</th>\n",
       "    </tr>\n",
       "  </thead>\n",
       "  <tbody>\n",
       "    <tr>\n",
       "      <th>0</th>\n",
       "      <td>34669.52</td>\n",
       "      <td>84112.126</td>\n",
       "      <td>142.611164</td>\n",
       "    </tr>\n",
       "    <tr>\n",
       "      <th>1</th>\n",
       "      <td>9429.93</td>\n",
       "      <td>19167.366</td>\n",
       "      <td>103.260957</td>\n",
       "    </tr>\n",
       "    <tr>\n",
       "      <th>2</th>\n",
       "      <td>9508.00</td>\n",
       "      <td>6288.888</td>\n",
       "      <td>33.856878</td>\n",
       "    </tr>\n",
       "    <tr>\n",
       "      <th>3</th>\n",
       "      <td>7943.62</td>\n",
       "      <td>21440.278</td>\n",
       "      <td>169.905635</td>\n",
       "    </tr>\n",
       "    <tr>\n",
       "      <th>4</th>\n",
       "      <td>6313.06</td>\n",
       "      <td>22321.116</td>\n",
       "      <td>253.570471</td>\n",
       "    </tr>\n",
       "    <tr>\n",
       "      <th>...</th>\n",
       "      <td>...</td>\n",
       "      <td>...</td>\n",
       "      <td>...</td>\n",
       "    </tr>\n",
       "    <tr>\n",
       "      <th>680</th>\n",
       "      <td>26659.45</td>\n",
       "      <td>30430.326</td>\n",
       "      <td>14.144613</td>\n",
       "    </tr>\n",
       "    <tr>\n",
       "      <th>681</th>\n",
       "      <td>160693.21</td>\n",
       "      <td>83322.132</td>\n",
       "      <td>48.148318</td>\n",
       "    </tr>\n",
       "    <tr>\n",
       "      <th>682</th>\n",
       "      <td>39482.84</td>\n",
       "      <td>36989.444</td>\n",
       "      <td>6.315138</td>\n",
       "    </tr>\n",
       "    <tr>\n",
       "      <th>683</th>\n",
       "      <td>7015.59</td>\n",
       "      <td>5000.026</td>\n",
       "      <td>28.729786</td>\n",
       "    </tr>\n",
       "    <tr>\n",
       "      <th>684</th>\n",
       "      <td>5.97</td>\n",
       "      <td>37643.060</td>\n",
       "      <td>630437.018425</td>\n",
       "    </tr>\n",
       "  </tbody>\n",
       "</table>\n",
       "<p>685 rows × 3 columns</p>\n",
       "</div>"
      ],
      "text/plain": [
       "     True Value  Prediction          Error\n",
       "0      34669.52   84112.126     142.611164\n",
       "1       9429.93   19167.366     103.260957\n",
       "2       9508.00    6288.888      33.856878\n",
       "3       7943.62   21440.278     169.905635\n",
       "4       6313.06   22321.116     253.570471\n",
       "..          ...         ...            ...\n",
       "680    26659.45   30430.326      14.144613\n",
       "681   160693.21   83322.132      48.148318\n",
       "682    39482.84   36989.444       6.315138\n",
       "683     7015.59    5000.026      28.729786\n",
       "684        5.97   37643.060  630437.018425\n",
       "\n",
       "[685 rows x 3 columns]"
      ]
     },
     "execution_count": 65,
     "metadata": {},
     "output_type": "execute_result"
    }
   ],
   "source": [
    "#a continuación se realiza una predicción y en base a ello se genera una tabla comparativa entre los datos reales y los predichos, además de su % de error.\n",
    "preds_H2 = knn_H2.predict(X_test_H2)\n",
    "\n",
    "performance_H2 = pd.DataFrame({ 'True Value': y_test_H2,\n",
    "                            'Prediction': preds_H2,\n",
    "                            'Error': (abs(preds_H2 - y_test_H2)*100)/y_test_H2})\n",
    "\n",
    "performance_H2"
   ]
  },
  {
   "cell_type": "code",
   "execution_count": 66,
   "metadata": {
    "colab": {
     "base_uri": "https://localhost:8080/",
     "height": 423
    },
    "id": "29J91-jH-Ypf",
    "outputId": "1e7ac01d-74a6-4ba0-cbb7-8116f5538fdb"
   },
   "outputs": [
    {
     "data": {
      "text/html": [
       "<div>\n",
       "<style scoped>\n",
       "    .dataframe tbody tr th:only-of-type {\n",
       "        vertical-align: middle;\n",
       "    }\n",
       "\n",
       "    .dataframe tbody tr th {\n",
       "        vertical-align: top;\n",
       "    }\n",
       "\n",
       "    .dataframe thead th {\n",
       "        text-align: right;\n",
       "    }\n",
       "</style>\n",
       "<table border=\"1\" class=\"dataframe\">\n",
       "  <thead>\n",
       "    <tr style=\"text-align: right;\">\n",
       "      <th></th>\n",
       "      <th>True Value</th>\n",
       "      <th>Prediction</th>\n",
       "      <th>Error</th>\n",
       "      <th>acceptance_criteria</th>\n",
       "    </tr>\n",
       "  </thead>\n",
       "  <tbody>\n",
       "    <tr>\n",
       "      <th>0</th>\n",
       "      <td>34669.52</td>\n",
       "      <td>84112.126</td>\n",
       "      <td>142.611164</td>\n",
       "      <td>0</td>\n",
       "    </tr>\n",
       "    <tr>\n",
       "      <th>1</th>\n",
       "      <td>9429.93</td>\n",
       "      <td>19167.366</td>\n",
       "      <td>103.260957</td>\n",
       "      <td>0</td>\n",
       "    </tr>\n",
       "    <tr>\n",
       "      <th>2</th>\n",
       "      <td>9508.00</td>\n",
       "      <td>6288.888</td>\n",
       "      <td>33.856878</td>\n",
       "      <td>0</td>\n",
       "    </tr>\n",
       "    <tr>\n",
       "      <th>3</th>\n",
       "      <td>7943.62</td>\n",
       "      <td>21440.278</td>\n",
       "      <td>169.905635</td>\n",
       "      <td>0</td>\n",
       "    </tr>\n",
       "    <tr>\n",
       "      <th>4</th>\n",
       "      <td>6313.06</td>\n",
       "      <td>22321.116</td>\n",
       "      <td>253.570471</td>\n",
       "      <td>0</td>\n",
       "    </tr>\n",
       "    <tr>\n",
       "      <th>...</th>\n",
       "      <td>...</td>\n",
       "      <td>...</td>\n",
       "      <td>...</td>\n",
       "      <td>...</td>\n",
       "    </tr>\n",
       "    <tr>\n",
       "      <th>680</th>\n",
       "      <td>26659.45</td>\n",
       "      <td>30430.326</td>\n",
       "      <td>14.144613</td>\n",
       "      <td>1</td>\n",
       "    </tr>\n",
       "    <tr>\n",
       "      <th>681</th>\n",
       "      <td>160693.21</td>\n",
       "      <td>83322.132</td>\n",
       "      <td>48.148318</td>\n",
       "      <td>0</td>\n",
       "    </tr>\n",
       "    <tr>\n",
       "      <th>682</th>\n",
       "      <td>39482.84</td>\n",
       "      <td>36989.444</td>\n",
       "      <td>6.315138</td>\n",
       "      <td>1</td>\n",
       "    </tr>\n",
       "    <tr>\n",
       "      <th>683</th>\n",
       "      <td>7015.59</td>\n",
       "      <td>5000.026</td>\n",
       "      <td>28.729786</td>\n",
       "      <td>0</td>\n",
       "    </tr>\n",
       "    <tr>\n",
       "      <th>684</th>\n",
       "      <td>5.97</td>\n",
       "      <td>37643.060</td>\n",
       "      <td>630437.018425</td>\n",
       "      <td>0</td>\n",
       "    </tr>\n",
       "  </tbody>\n",
       "</table>\n",
       "<p>685 rows × 4 columns</p>\n",
       "</div>"
      ],
      "text/plain": [
       "     True Value  Prediction          Error  acceptance_criteria\n",
       "0      34669.52   84112.126     142.611164                    0\n",
       "1       9429.93   19167.366     103.260957                    0\n",
       "2       9508.00    6288.888      33.856878                    0\n",
       "3       7943.62   21440.278     169.905635                    0\n",
       "4       6313.06   22321.116     253.570471                    0\n",
       "..          ...         ...            ...                  ...\n",
       "680    26659.45   30430.326      14.144613                    1\n",
       "681   160693.21   83322.132      48.148318                    0\n",
       "682    39482.84   36989.444       6.315138                    1\n",
       "683     7015.59    5000.026      28.729786                    0\n",
       "684        5.97   37643.060  630437.018425                    0\n",
       "\n",
       "[685 rows x 4 columns]"
      ]
     },
     "metadata": {},
     "output_type": "display_data"
    }
   ],
   "source": [
    "#a continuación se verifica la precisión en base a un treshold menor al 30% de error\n",
    "performance_H2[\"acceptance_criteria\"] = 0\n",
    "performance_H2.loc[performance_H2.query('Error<=15').index ,\"acceptance_criteria\"]=1\n",
    "display(performance_H2)"
   ]
  },
  {
   "cell_type": "code",
   "execution_count": 67,
   "metadata": {
    "colab": {
     "base_uri": "https://localhost:8080/"
    },
    "id": "S2fPc3aA-Ypg",
    "outputId": "f2fd1529-3108-4abd-d7a1-96bb82055574"
   },
   "outputs": [
    {
     "data": {
      "text/plain": [
       "169"
      ]
     },
     "execution_count": 67,
     "metadata": {},
     "output_type": "execute_result"
    }
   ],
   "source": [
    "len(performance_H2.query('Error<=30').index)"
   ]
  },
  {
   "cell_type": "code",
   "execution_count": 68,
   "metadata": {
    "colab": {
     "base_uri": "https://localhost:8080/"
    },
    "id": "TP4LJ2fn-Ypg",
    "outputId": "d3a99a43-a979-4501-f109-ab02cb021956"
   },
   "outputs": [
    {
     "data": {
      "text/plain": [
       "685"
      ]
     },
     "execution_count": 68,
     "metadata": {},
     "output_type": "execute_result"
    }
   ],
   "source": [
    "(len(performance_H2.index))"
   ]
  },
  {
   "cell_type": "code",
   "execution_count": 69,
   "metadata": {
    "colab": {
     "base_uri": "https://localhost:8080/"
    },
    "id": "cP5rEokV-Yph",
    "outputId": "6c1f3277-3d5d-4689-d8c9-452fd4be4c74"
   },
   "outputs": [
    {
     "data": {
      "text/plain": [
       "0.24671532846715327"
      ]
     },
     "execution_count": 69,
     "metadata": {},
     "output_type": "execute_result"
    }
   ],
   "source": [
    "#precisión calculada a través de la fórmula perteneciente a las partes de una matriz de confusión: prefición = #TruePositive / #(TruePositive + FalsePositive)\n",
    "len(performance_H2.query('Error<=30').index)/(len(performance_H2.index))"
   ]
  },
  {
   "cell_type": "markdown",
   "metadata": {
    "id": "tC1Y1oIB-Yph"
   },
   "source": [
    "Nuevamente el valor obtenido no es cercano al obtenido por la función .score"
   ]
  },
  {
   "cell_type": "markdown",
   "metadata": {
    "id": "nJyGTYnq-Ypi"
   },
   "source": [
    "1.   **Score**: 0.1455394750654706\n",
    "2.   **Precisión manual**: 0.20947252140292738"
   ]
  },
  {
   "cell_type": "markdown",
   "metadata": {
    "id": "xqi0mGzqy4zF"
   },
   "source": [
    "## Tercer set"
   ]
  },
  {
   "cell_type": "markdown",
   "metadata": {
    "id": "S8coQyK96RGl"
   },
   "source": [
    "Para el tercer set se promediarán los datos de rebajas de Markdowns, disminuyendo la carga computacional para el modelo."
   ]
  },
  {
   "cell_type": "markdown",
   "metadata": {
    "id": "XIYaK_ItvIhQ"
   },
   "source": [
    "### Datos no festivos:"
   ]
  },
  {
   "cell_type": "code",
   "execution_count": 70,
   "metadata": {
    "colab": {
     "base_uri": "https://localhost:8080/",
     "height": 487
    },
    "id": "qSnoIh4ksOrk",
    "outputId": "bccd9d39-d639-4798-fd8e-e10029308519"
   },
   "outputs": [
    {
     "data": {
      "text/html": [
       "<div>\n",
       "<style scoped>\n",
       "    .dataframe tbody tr th:only-of-type {\n",
       "        vertical-align: middle;\n",
       "    }\n",
       "\n",
       "    .dataframe tbody tr th {\n",
       "        vertical-align: top;\n",
       "    }\n",
       "\n",
       "    .dataframe thead th {\n",
       "        text-align: right;\n",
       "    }\n",
       "</style>\n",
       "<table border=\"1\" class=\"dataframe\">\n",
       "  <thead>\n",
       "    <tr style=\"text-align: right;\">\n",
       "      <th></th>\n",
       "      <th>Store</th>\n",
       "      <th>Date</th>\n",
       "      <th>Temperature</th>\n",
       "      <th>Fuel_Price</th>\n",
       "      <th>MarkDown1</th>\n",
       "      <th>MarkDown2</th>\n",
       "      <th>MarkDown3</th>\n",
       "      <th>MarkDown4</th>\n",
       "      <th>MarkDown5</th>\n",
       "      <th>CPI</th>\n",
       "      <th>Unemployment</th>\n",
       "      <th>IsHoliday</th>\n",
       "      <th>MarkDowns</th>\n",
       "    </tr>\n",
       "  </thead>\n",
       "  <tbody>\n",
       "    <tr>\n",
       "      <th>0</th>\n",
       "      <td>1</td>\n",
       "      <td>05/02/2010</td>\n",
       "      <td>42.31</td>\n",
       "      <td>2.572</td>\n",
       "      <td>NaN</td>\n",
       "      <td>NaN</td>\n",
       "      <td>NaN</td>\n",
       "      <td>NaN</td>\n",
       "      <td>NaN</td>\n",
       "      <td>211.096358</td>\n",
       "      <td>8.106</td>\n",
       "      <td>False</td>\n",
       "      <td>NaN</td>\n",
       "    </tr>\n",
       "    <tr>\n",
       "      <th>1</th>\n",
       "      <td>1</td>\n",
       "      <td>12/02/2010</td>\n",
       "      <td>38.51</td>\n",
       "      <td>2.548</td>\n",
       "      <td>NaN</td>\n",
       "      <td>NaN</td>\n",
       "      <td>NaN</td>\n",
       "      <td>NaN</td>\n",
       "      <td>NaN</td>\n",
       "      <td>211.242170</td>\n",
       "      <td>8.106</td>\n",
       "      <td>True</td>\n",
       "      <td>NaN</td>\n",
       "    </tr>\n",
       "    <tr>\n",
       "      <th>2</th>\n",
       "      <td>1</td>\n",
       "      <td>19/02/2010</td>\n",
       "      <td>39.93</td>\n",
       "      <td>2.514</td>\n",
       "      <td>NaN</td>\n",
       "      <td>NaN</td>\n",
       "      <td>NaN</td>\n",
       "      <td>NaN</td>\n",
       "      <td>NaN</td>\n",
       "      <td>211.289143</td>\n",
       "      <td>8.106</td>\n",
       "      <td>False</td>\n",
       "      <td>NaN</td>\n",
       "    </tr>\n",
       "    <tr>\n",
       "      <th>3</th>\n",
       "      <td>1</td>\n",
       "      <td>26/02/2010</td>\n",
       "      <td>46.63</td>\n",
       "      <td>2.561</td>\n",
       "      <td>NaN</td>\n",
       "      <td>NaN</td>\n",
       "      <td>NaN</td>\n",
       "      <td>NaN</td>\n",
       "      <td>NaN</td>\n",
       "      <td>211.319643</td>\n",
       "      <td>8.106</td>\n",
       "      <td>False</td>\n",
       "      <td>NaN</td>\n",
       "    </tr>\n",
       "    <tr>\n",
       "      <th>4</th>\n",
       "      <td>1</td>\n",
       "      <td>05/03/2010</td>\n",
       "      <td>46.50</td>\n",
       "      <td>2.625</td>\n",
       "      <td>NaN</td>\n",
       "      <td>NaN</td>\n",
       "      <td>NaN</td>\n",
       "      <td>NaN</td>\n",
       "      <td>NaN</td>\n",
       "      <td>211.350143</td>\n",
       "      <td>8.106</td>\n",
       "      <td>False</td>\n",
       "      <td>NaN</td>\n",
       "    </tr>\n",
       "    <tr>\n",
       "      <th>...</th>\n",
       "      <td>...</td>\n",
       "      <td>...</td>\n",
       "      <td>...</td>\n",
       "      <td>...</td>\n",
       "      <td>...</td>\n",
       "      <td>...</td>\n",
       "      <td>...</td>\n",
       "      <td>...</td>\n",
       "      <td>...</td>\n",
       "      <td>...</td>\n",
       "      <td>...</td>\n",
       "      <td>...</td>\n",
       "      <td>...</td>\n",
       "    </tr>\n",
       "    <tr>\n",
       "      <th>8185</th>\n",
       "      <td>45</td>\n",
       "      <td>28/06/2013</td>\n",
       "      <td>76.05</td>\n",
       "      <td>3.639</td>\n",
       "      <td>4842.29</td>\n",
       "      <td>975.03</td>\n",
       "      <td>3.00</td>\n",
       "      <td>2449.97</td>\n",
       "      <td>3169.69</td>\n",
       "      <td>NaN</td>\n",
       "      <td>NaN</td>\n",
       "      <td>False</td>\n",
       "      <td>2287.996</td>\n",
       "    </tr>\n",
       "    <tr>\n",
       "      <th>8186</th>\n",
       "      <td>45</td>\n",
       "      <td>05/07/2013</td>\n",
       "      <td>77.50</td>\n",
       "      <td>3.614</td>\n",
       "      <td>9090.48</td>\n",
       "      <td>2268.58</td>\n",
       "      <td>582.74</td>\n",
       "      <td>5797.47</td>\n",
       "      <td>1514.93</td>\n",
       "      <td>NaN</td>\n",
       "      <td>NaN</td>\n",
       "      <td>False</td>\n",
       "      <td>3850.840</td>\n",
       "    </tr>\n",
       "    <tr>\n",
       "      <th>8187</th>\n",
       "      <td>45</td>\n",
       "      <td>12/07/2013</td>\n",
       "      <td>79.37</td>\n",
       "      <td>3.614</td>\n",
       "      <td>3789.94</td>\n",
       "      <td>1827.31</td>\n",
       "      <td>85.72</td>\n",
       "      <td>744.84</td>\n",
       "      <td>2150.36</td>\n",
       "      <td>NaN</td>\n",
       "      <td>NaN</td>\n",
       "      <td>False</td>\n",
       "      <td>1719.634</td>\n",
       "    </tr>\n",
       "    <tr>\n",
       "      <th>8188</th>\n",
       "      <td>45</td>\n",
       "      <td>19/07/2013</td>\n",
       "      <td>82.84</td>\n",
       "      <td>3.737</td>\n",
       "      <td>2961.49</td>\n",
       "      <td>1047.07</td>\n",
       "      <td>204.19</td>\n",
       "      <td>363.00</td>\n",
       "      <td>1059.46</td>\n",
       "      <td>NaN</td>\n",
       "      <td>NaN</td>\n",
       "      <td>False</td>\n",
       "      <td>1127.042</td>\n",
       "    </tr>\n",
       "    <tr>\n",
       "      <th>8189</th>\n",
       "      <td>45</td>\n",
       "      <td>26/07/2013</td>\n",
       "      <td>76.06</td>\n",
       "      <td>3.804</td>\n",
       "      <td>212.02</td>\n",
       "      <td>851.73</td>\n",
       "      <td>2.06</td>\n",
       "      <td>10.88</td>\n",
       "      <td>1864.57</td>\n",
       "      <td>NaN</td>\n",
       "      <td>NaN</td>\n",
       "      <td>False</td>\n",
       "      <td>588.252</td>\n",
       "    </tr>\n",
       "  </tbody>\n",
       "</table>\n",
       "<p>8190 rows × 13 columns</p>\n",
       "</div>"
      ],
      "text/plain": [
       "      Store        Date  Temperature  Fuel_Price  MarkDown1  MarkDown2  \\\n",
       "0         1  05/02/2010        42.31       2.572        NaN        NaN   \n",
       "1         1  12/02/2010        38.51       2.548        NaN        NaN   \n",
       "2         1  19/02/2010        39.93       2.514        NaN        NaN   \n",
       "3         1  26/02/2010        46.63       2.561        NaN        NaN   \n",
       "4         1  05/03/2010        46.50       2.625        NaN        NaN   \n",
       "...     ...         ...          ...         ...        ...        ...   \n",
       "8185     45  28/06/2013        76.05       3.639    4842.29     975.03   \n",
       "8186     45  05/07/2013        77.50       3.614    9090.48    2268.58   \n",
       "8187     45  12/07/2013        79.37       3.614    3789.94    1827.31   \n",
       "8188     45  19/07/2013        82.84       3.737    2961.49    1047.07   \n",
       "8189     45  26/07/2013        76.06       3.804     212.02     851.73   \n",
       "\n",
       "      MarkDown3  MarkDown4  MarkDown5         CPI  Unemployment  IsHoliday  \\\n",
       "0           NaN        NaN        NaN  211.096358         8.106      False   \n",
       "1           NaN        NaN        NaN  211.242170         8.106       True   \n",
       "2           NaN        NaN        NaN  211.289143         8.106      False   \n",
       "3           NaN        NaN        NaN  211.319643         8.106      False   \n",
       "4           NaN        NaN        NaN  211.350143         8.106      False   \n",
       "...         ...        ...        ...         ...           ...        ...   \n",
       "8185       3.00    2449.97    3169.69         NaN           NaN      False   \n",
       "8186     582.74    5797.47    1514.93         NaN           NaN      False   \n",
       "8187      85.72     744.84    2150.36         NaN           NaN      False   \n",
       "8188     204.19     363.00    1059.46         NaN           NaN      False   \n",
       "8189       2.06      10.88    1864.57         NaN           NaN      False   \n",
       "\n",
       "      MarkDowns  \n",
       "0           NaN  \n",
       "1           NaN  \n",
       "2           NaN  \n",
       "3           NaN  \n",
       "4           NaN  \n",
       "...         ...  \n",
       "8185   2287.996  \n",
       "8186   3850.840  \n",
       "8187   1719.634  \n",
       "8188   1127.042  \n",
       "8189    588.252  \n",
       "\n",
       "[8190 rows x 13 columns]"
      ]
     },
     "execution_count": 70,
     "metadata": {},
     "output_type": "execute_result"
    }
   ],
   "source": [
    "Features_data_set['MarkDowns'] = Features_data_set[['MarkDown1', 'MarkDown2','MarkDown3','MarkDown4','MarkDown5']].mean(axis=1)\n",
    "Features_data_set"
   ]
  },
  {
   "cell_type": "code",
   "execution_count": 71,
   "metadata": {
    "id": "A1KV8mhgMnDp"
   },
   "outputs": [],
   "source": [
    "Features_data_set3 = Features_data_set.drop(columns = ['MarkDown1', 'MarkDown2','MarkDown3','MarkDown4','MarkDown5'])"
   ]
  },
  {
   "cell_type": "code",
   "execution_count": 72,
   "metadata": {
    "colab": {
     "base_uri": "https://localhost:8080/",
     "height": 423
    },
    "id": "QIJyLVCX-wTN",
    "outputId": "d9866de3-e31c-4084-e662-213c9099dbee"
   },
   "outputs": [
    {
     "data": {
      "text/html": [
       "<div>\n",
       "<style scoped>\n",
       "    .dataframe tbody tr th:only-of-type {\n",
       "        vertical-align: middle;\n",
       "    }\n",
       "\n",
       "    .dataframe tbody tr th {\n",
       "        vertical-align: top;\n",
       "    }\n",
       "\n",
       "    .dataframe thead th {\n",
       "        text-align: right;\n",
       "    }\n",
       "</style>\n",
       "<table border=\"1\" class=\"dataframe\">\n",
       "  <thead>\n",
       "    <tr style=\"text-align: right;\">\n",
       "      <th></th>\n",
       "      <th>Store</th>\n",
       "      <th>Date</th>\n",
       "      <th>Temperature</th>\n",
       "      <th>Fuel_Price</th>\n",
       "      <th>CPI</th>\n",
       "      <th>Unemployment</th>\n",
       "      <th>IsHoliday_x</th>\n",
       "      <th>MarkDowns</th>\n",
       "      <th>Dept</th>\n",
       "      <th>Weekly_Sales</th>\n",
       "      <th>IsHoliday_y</th>\n",
       "    </tr>\n",
       "  </thead>\n",
       "  <tbody>\n",
       "    <tr>\n",
       "      <th>0</th>\n",
       "      <td>1</td>\n",
       "      <td>05/02/2010</td>\n",
       "      <td>42.31</td>\n",
       "      <td>2.572</td>\n",
       "      <td>211.096358</td>\n",
       "      <td>8.106</td>\n",
       "      <td>False</td>\n",
       "      <td>NaN</td>\n",
       "      <td>1</td>\n",
       "      <td>24924.50</td>\n",
       "      <td>False</td>\n",
       "    </tr>\n",
       "    <tr>\n",
       "      <th>1</th>\n",
       "      <td>1</td>\n",
       "      <td>05/02/2010</td>\n",
       "      <td>42.31</td>\n",
       "      <td>2.572</td>\n",
       "      <td>211.096358</td>\n",
       "      <td>8.106</td>\n",
       "      <td>False</td>\n",
       "      <td>NaN</td>\n",
       "      <td>2</td>\n",
       "      <td>50605.27</td>\n",
       "      <td>False</td>\n",
       "    </tr>\n",
       "    <tr>\n",
       "      <th>2</th>\n",
       "      <td>1</td>\n",
       "      <td>05/02/2010</td>\n",
       "      <td>42.31</td>\n",
       "      <td>2.572</td>\n",
       "      <td>211.096358</td>\n",
       "      <td>8.106</td>\n",
       "      <td>False</td>\n",
       "      <td>NaN</td>\n",
       "      <td>3</td>\n",
       "      <td>13740.12</td>\n",
       "      <td>False</td>\n",
       "    </tr>\n",
       "    <tr>\n",
       "      <th>3</th>\n",
       "      <td>1</td>\n",
       "      <td>05/02/2010</td>\n",
       "      <td>42.31</td>\n",
       "      <td>2.572</td>\n",
       "      <td>211.096358</td>\n",
       "      <td>8.106</td>\n",
       "      <td>False</td>\n",
       "      <td>NaN</td>\n",
       "      <td>4</td>\n",
       "      <td>39954.04</td>\n",
       "      <td>False</td>\n",
       "    </tr>\n",
       "    <tr>\n",
       "      <th>4</th>\n",
       "      <td>1</td>\n",
       "      <td>05/02/2010</td>\n",
       "      <td>42.31</td>\n",
       "      <td>2.572</td>\n",
       "      <td>211.096358</td>\n",
       "      <td>8.106</td>\n",
       "      <td>False</td>\n",
       "      <td>NaN</td>\n",
       "      <td>5</td>\n",
       "      <td>32229.38</td>\n",
       "      <td>False</td>\n",
       "    </tr>\n",
       "    <tr>\n",
       "      <th>...</th>\n",
       "      <td>...</td>\n",
       "      <td>...</td>\n",
       "      <td>...</td>\n",
       "      <td>...</td>\n",
       "      <td>...</td>\n",
       "      <td>...</td>\n",
       "      <td>...</td>\n",
       "      <td>...</td>\n",
       "      <td>...</td>\n",
       "      <td>...</td>\n",
       "      <td>...</td>\n",
       "    </tr>\n",
       "    <tr>\n",
       "      <th>421565</th>\n",
       "      <td>45</td>\n",
       "      <td>26/10/2012</td>\n",
       "      <td>58.85</td>\n",
       "      <td>3.882</td>\n",
       "      <td>192.308899</td>\n",
       "      <td>8.667</td>\n",
       "      <td>False</td>\n",
       "      <td>1049.452</td>\n",
       "      <td>93</td>\n",
       "      <td>2487.80</td>\n",
       "      <td>False</td>\n",
       "    </tr>\n",
       "    <tr>\n",
       "      <th>421566</th>\n",
       "      <td>45</td>\n",
       "      <td>26/10/2012</td>\n",
       "      <td>58.85</td>\n",
       "      <td>3.882</td>\n",
       "      <td>192.308899</td>\n",
       "      <td>8.667</td>\n",
       "      <td>False</td>\n",
       "      <td>1049.452</td>\n",
       "      <td>94</td>\n",
       "      <td>5203.31</td>\n",
       "      <td>False</td>\n",
       "    </tr>\n",
       "    <tr>\n",
       "      <th>421567</th>\n",
       "      <td>45</td>\n",
       "      <td>26/10/2012</td>\n",
       "      <td>58.85</td>\n",
       "      <td>3.882</td>\n",
       "      <td>192.308899</td>\n",
       "      <td>8.667</td>\n",
       "      <td>False</td>\n",
       "      <td>1049.452</td>\n",
       "      <td>95</td>\n",
       "      <td>56017.47</td>\n",
       "      <td>False</td>\n",
       "    </tr>\n",
       "    <tr>\n",
       "      <th>421568</th>\n",
       "      <td>45</td>\n",
       "      <td>26/10/2012</td>\n",
       "      <td>58.85</td>\n",
       "      <td>3.882</td>\n",
       "      <td>192.308899</td>\n",
       "      <td>8.667</td>\n",
       "      <td>False</td>\n",
       "      <td>1049.452</td>\n",
       "      <td>97</td>\n",
       "      <td>6817.48</td>\n",
       "      <td>False</td>\n",
       "    </tr>\n",
       "    <tr>\n",
       "      <th>421569</th>\n",
       "      <td>45</td>\n",
       "      <td>26/10/2012</td>\n",
       "      <td>58.85</td>\n",
       "      <td>3.882</td>\n",
       "      <td>192.308899</td>\n",
       "      <td>8.667</td>\n",
       "      <td>False</td>\n",
       "      <td>1049.452</td>\n",
       "      <td>98</td>\n",
       "      <td>1076.80</td>\n",
       "      <td>False</td>\n",
       "    </tr>\n",
       "  </tbody>\n",
       "</table>\n",
       "<p>421570 rows × 11 columns</p>\n",
       "</div>"
      ],
      "text/plain": [
       "        Store        Date  Temperature  Fuel_Price         CPI  Unemployment  \\\n",
       "0           1  05/02/2010        42.31       2.572  211.096358         8.106   \n",
       "1           1  05/02/2010        42.31       2.572  211.096358         8.106   \n",
       "2           1  05/02/2010        42.31       2.572  211.096358         8.106   \n",
       "3           1  05/02/2010        42.31       2.572  211.096358         8.106   \n",
       "4           1  05/02/2010        42.31       2.572  211.096358         8.106   \n",
       "...       ...         ...          ...         ...         ...           ...   \n",
       "421565     45  26/10/2012        58.85       3.882  192.308899         8.667   \n",
       "421566     45  26/10/2012        58.85       3.882  192.308899         8.667   \n",
       "421567     45  26/10/2012        58.85       3.882  192.308899         8.667   \n",
       "421568     45  26/10/2012        58.85       3.882  192.308899         8.667   \n",
       "421569     45  26/10/2012        58.85       3.882  192.308899         8.667   \n",
       "\n",
       "        IsHoliday_x  MarkDowns  Dept  Weekly_Sales  IsHoliday_y  \n",
       "0             False        NaN     1      24924.50        False  \n",
       "1             False        NaN     2      50605.27        False  \n",
       "2             False        NaN     3      13740.12        False  \n",
       "3             False        NaN     4      39954.04        False  \n",
       "4             False        NaN     5      32229.38        False  \n",
       "...             ...        ...   ...           ...          ...  \n",
       "421565        False   1049.452    93       2487.80        False  \n",
       "421566        False   1049.452    94       5203.31        False  \n",
       "421567        False   1049.452    95      56017.47        False  \n",
       "421568        False   1049.452    97       6817.48        False  \n",
       "421569        False   1049.452    98       1076.80        False  \n",
       "\n",
       "[421570 rows x 11 columns]"
      ]
     },
     "execution_count": 72,
     "metadata": {},
     "output_type": "execute_result"
    }
   ],
   "source": [
    "join_data_set3 = pd.merge(Features_data_set3, sales_data_set, on = ['Store', 'Date'])\n",
    "join_data_set3"
   ]
  },
  {
   "cell_type": "code",
   "execution_count": 73,
   "metadata": {
    "colab": {
     "base_uri": "https://localhost:8080/",
     "height": 423
    },
    "id": "MwBasBjz-wTO",
    "outputId": "4c127144-b1e3-4ec2-ba7a-87227164e7fe"
   },
   "outputs": [
    {
     "data": {
      "text/html": [
       "<div>\n",
       "<style scoped>\n",
       "    .dataframe tbody tr th:only-of-type {\n",
       "        vertical-align: middle;\n",
       "    }\n",
       "\n",
       "    .dataframe tbody tr th {\n",
       "        vertical-align: top;\n",
       "    }\n",
       "\n",
       "    .dataframe thead th {\n",
       "        text-align: right;\n",
       "    }\n",
       "</style>\n",
       "<table border=\"1\" class=\"dataframe\">\n",
       "  <thead>\n",
       "    <tr style=\"text-align: right;\">\n",
       "      <th></th>\n",
       "      <th>Store</th>\n",
       "      <th>Date</th>\n",
       "      <th>Temperature</th>\n",
       "      <th>Fuel_Price</th>\n",
       "      <th>CPI</th>\n",
       "      <th>Unemployment</th>\n",
       "      <th>IsHoliday_x</th>\n",
       "      <th>MarkDowns</th>\n",
       "      <th>Dept</th>\n",
       "      <th>Weekly_Sales</th>\n",
       "      <th>IsHoliday_y</th>\n",
       "    </tr>\n",
       "  </thead>\n",
       "  <tbody>\n",
       "    <tr>\n",
       "      <th>6587</th>\n",
       "      <td>1</td>\n",
       "      <td>11/11/2011</td>\n",
       "      <td>59.11</td>\n",
       "      <td>3.297</td>\n",
       "      <td>217.998085</td>\n",
       "      <td>7.866</td>\n",
       "      <td>False</td>\n",
       "      <td>5134.336</td>\n",
       "      <td>1</td>\n",
       "      <td>18689.54</td>\n",
       "      <td>False</td>\n",
       "    </tr>\n",
       "    <tr>\n",
       "      <th>6588</th>\n",
       "      <td>1</td>\n",
       "      <td>11/11/2011</td>\n",
       "      <td>59.11</td>\n",
       "      <td>3.297</td>\n",
       "      <td>217.998085</td>\n",
       "      <td>7.866</td>\n",
       "      <td>False</td>\n",
       "      <td>5134.336</td>\n",
       "      <td>2</td>\n",
       "      <td>44936.47</td>\n",
       "      <td>False</td>\n",
       "    </tr>\n",
       "    <tr>\n",
       "      <th>6589</th>\n",
       "      <td>1</td>\n",
       "      <td>11/11/2011</td>\n",
       "      <td>59.11</td>\n",
       "      <td>3.297</td>\n",
       "      <td>217.998085</td>\n",
       "      <td>7.866</td>\n",
       "      <td>False</td>\n",
       "      <td>5134.336</td>\n",
       "      <td>3</td>\n",
       "      <td>9959.64</td>\n",
       "      <td>False</td>\n",
       "    </tr>\n",
       "    <tr>\n",
       "      <th>6590</th>\n",
       "      <td>1</td>\n",
       "      <td>11/11/2011</td>\n",
       "      <td>59.11</td>\n",
       "      <td>3.297</td>\n",
       "      <td>217.998085</td>\n",
       "      <td>7.866</td>\n",
       "      <td>False</td>\n",
       "      <td>5134.336</td>\n",
       "      <td>4</td>\n",
       "      <td>36826.52</td>\n",
       "      <td>False</td>\n",
       "    </tr>\n",
       "    <tr>\n",
       "      <th>6591</th>\n",
       "      <td>1</td>\n",
       "      <td>11/11/2011</td>\n",
       "      <td>59.11</td>\n",
       "      <td>3.297</td>\n",
       "      <td>217.998085</td>\n",
       "      <td>7.866</td>\n",
       "      <td>False</td>\n",
       "      <td>5134.336</td>\n",
       "      <td>5</td>\n",
       "      <td>31002.65</td>\n",
       "      <td>False</td>\n",
       "    </tr>\n",
       "    <tr>\n",
       "      <th>...</th>\n",
       "      <td>...</td>\n",
       "      <td>...</td>\n",
       "      <td>...</td>\n",
       "      <td>...</td>\n",
       "      <td>...</td>\n",
       "      <td>...</td>\n",
       "      <td>...</td>\n",
       "      <td>...</td>\n",
       "      <td>...</td>\n",
       "      <td>...</td>\n",
       "      <td>...</td>\n",
       "    </tr>\n",
       "    <tr>\n",
       "      <th>421565</th>\n",
       "      <td>45</td>\n",
       "      <td>26/10/2012</td>\n",
       "      <td>58.85</td>\n",
       "      <td>3.882</td>\n",
       "      <td>192.308899</td>\n",
       "      <td>8.667</td>\n",
       "      <td>False</td>\n",
       "      <td>1049.452</td>\n",
       "      <td>93</td>\n",
       "      <td>2487.80</td>\n",
       "      <td>False</td>\n",
       "    </tr>\n",
       "    <tr>\n",
       "      <th>421566</th>\n",
       "      <td>45</td>\n",
       "      <td>26/10/2012</td>\n",
       "      <td>58.85</td>\n",
       "      <td>3.882</td>\n",
       "      <td>192.308899</td>\n",
       "      <td>8.667</td>\n",
       "      <td>False</td>\n",
       "      <td>1049.452</td>\n",
       "      <td>94</td>\n",
       "      <td>5203.31</td>\n",
       "      <td>False</td>\n",
       "    </tr>\n",
       "    <tr>\n",
       "      <th>421567</th>\n",
       "      <td>45</td>\n",
       "      <td>26/10/2012</td>\n",
       "      <td>58.85</td>\n",
       "      <td>3.882</td>\n",
       "      <td>192.308899</td>\n",
       "      <td>8.667</td>\n",
       "      <td>False</td>\n",
       "      <td>1049.452</td>\n",
       "      <td>95</td>\n",
       "      <td>56017.47</td>\n",
       "      <td>False</td>\n",
       "    </tr>\n",
       "    <tr>\n",
       "      <th>421568</th>\n",
       "      <td>45</td>\n",
       "      <td>26/10/2012</td>\n",
       "      <td>58.85</td>\n",
       "      <td>3.882</td>\n",
       "      <td>192.308899</td>\n",
       "      <td>8.667</td>\n",
       "      <td>False</td>\n",
       "      <td>1049.452</td>\n",
       "      <td>97</td>\n",
       "      <td>6817.48</td>\n",
       "      <td>False</td>\n",
       "    </tr>\n",
       "    <tr>\n",
       "      <th>421569</th>\n",
       "      <td>45</td>\n",
       "      <td>26/10/2012</td>\n",
       "      <td>58.85</td>\n",
       "      <td>3.882</td>\n",
       "      <td>192.308899</td>\n",
       "      <td>8.667</td>\n",
       "      <td>False</td>\n",
       "      <td>1049.452</td>\n",
       "      <td>98</td>\n",
       "      <td>1076.80</td>\n",
       "      <td>False</td>\n",
       "    </tr>\n",
       "  </tbody>\n",
       "</table>\n",
       "<p>151432 rows × 11 columns</p>\n",
       "</div>"
      ],
      "text/plain": [
       "        Store        Date  Temperature  Fuel_Price         CPI  Unemployment  \\\n",
       "6587        1  11/11/2011        59.11       3.297  217.998085         7.866   \n",
       "6588        1  11/11/2011        59.11       3.297  217.998085         7.866   \n",
       "6589        1  11/11/2011        59.11       3.297  217.998085         7.866   \n",
       "6590        1  11/11/2011        59.11       3.297  217.998085         7.866   \n",
       "6591        1  11/11/2011        59.11       3.297  217.998085         7.866   \n",
       "...       ...         ...          ...         ...         ...           ...   \n",
       "421565     45  26/10/2012        58.85       3.882  192.308899         8.667   \n",
       "421566     45  26/10/2012        58.85       3.882  192.308899         8.667   \n",
       "421567     45  26/10/2012        58.85       3.882  192.308899         8.667   \n",
       "421568     45  26/10/2012        58.85       3.882  192.308899         8.667   \n",
       "421569     45  26/10/2012        58.85       3.882  192.308899         8.667   \n",
       "\n",
       "        IsHoliday_x  MarkDowns  Dept  Weekly_Sales  IsHoliday_y  \n",
       "6587          False   5134.336     1      18689.54        False  \n",
       "6588          False   5134.336     2      44936.47        False  \n",
       "6589          False   5134.336     3       9959.64        False  \n",
       "6590          False   5134.336     4      36826.52        False  \n",
       "6591          False   5134.336     5      31002.65        False  \n",
       "...             ...        ...   ...           ...          ...  \n",
       "421565        False   1049.452    93       2487.80        False  \n",
       "421566        False   1049.452    94       5203.31        False  \n",
       "421567        False   1049.452    95      56017.47        False  \n",
       "421568        False   1049.452    97       6817.48        False  \n",
       "421569        False   1049.452    98       1076.80        False  \n",
       "\n",
       "[151432 rows x 11 columns]"
      ]
     },
     "execution_count": 73,
     "metadata": {},
     "output_type": "execute_result"
    }
   ],
   "source": [
    "#Se eliminan aquellas filas con datos nulos\n",
    "join_data_set3.dropna(inplace=True)\n",
    "join_data_set3"
   ]
  },
  {
   "cell_type": "code",
   "execution_count": 74,
   "metadata": {
    "id": "ZaD2SH6p-wTO"
   },
   "outputs": [],
   "source": [
    "#a continuación se separan los datos de los días festivos para analizarlos por separado.\n",
    "join_data_Holiday_set3 = join_data_set3.query('IsHoliday_x == True')\n",
    "join_data_no_Holiday_set3 = join_data_set3.query('IsHoliday_x == False')"
   ]
  },
  {
   "cell_type": "code",
   "execution_count": 77,
   "metadata": {
    "colab": {
     "base_uri": "https://localhost:8080/"
    },
    "id": "xkyODKNMuraD",
    "outputId": "b7d40966-77c3-49ee-f223-4fdb10eb183e"
   },
   "outputs": [
    {
     "data": {
      "text/plain": [
       "Index(['Store', 'Date', 'Temperature', 'Fuel_Price', 'CPI', 'Unemployment',\n",
       "       'IsHoliday_x', 'MarkDowns', 'Dept', 'Weekly_Sales', 'IsHoliday_y'],\n",
       "      dtype='object')"
      ]
     },
     "execution_count": 77,
     "metadata": {},
     "output_type": "execute_result"
    }
   ],
   "source": [
    "join_data_no_Holiday_set3.columns"
   ]
  },
  {
   "cell_type": "code",
   "execution_count": 78,
   "metadata": {
    "id": "mwSgokVrOMaF"
   },
   "outputs": [],
   "source": [
    "#se crean arrays para las características y la variable de destino en el caso de dias no festivos.\n",
    "y3 = join_data_no_Holiday_set3[\"Weekly_Sales\"].values\n",
    "X3 = join_data_no_Holiday_set3[[\"Dept\",\"Fuel_Price\", \"CPI\", \"Unemployment\", \"MarkDowns\"]].values"
   ]
  },
  {
   "cell_type": "code",
   "execution_count": 79,
   "metadata": {
    "colab": {
     "base_uri": "https://localhost:8080/"
    },
    "id": "gVOtp8bKOMaL",
    "outputId": "941051c0-2d1f-4862-8c1c-9af3b7bd303f"
   },
   "outputs": [
    {
     "data": {
      "text/plain": [
       "KNeighborsRegressor()"
      ]
     },
     "execution_count": 79,
     "metadata": {},
     "output_type": "execute_result"
    }
   ],
   "source": [
    "#se asignan de manera pseudo aleatoria los datos para llevar a cabo el entrenamiento y posterior testeo.\n",
    "X_train3, X_test3, y_train3, y_test3 = train_test_split(X3, y3, test_size= 0.2)\n",
    "\n",
    "#crea un modelo KNN con 5 \"vecinos\"\n",
    "knn3 = KNeighborsRegressor(n_neighbors = 5, metric= 'minkowski', p = 2)\n",
    "#entrenamos el regresor\n",
    "knn3.fit(X_train3, y_train3)\n"
   ]
  },
  {
   "cell_type": "code",
   "execution_count": 80,
   "metadata": {
    "colab": {
     "base_uri": "https://localhost:8080/"
    },
    "id": "AG5GuEYTOMaM",
    "outputId": "28a68bd2-303e-4e3a-a5c2-6555949a11b3"
   },
   "outputs": [
    {
     "name": "stdout",
     "output_type": "stream",
     "text": [
      "Predicciones set 3: [23444.696 23602.714  3880.788 ...  5225.222 61130.776  4747.908]\n"
     ]
    }
   ],
   "source": [
    "#realiza una predicción en base a los datos de testeo\n",
    "y_pred3 = knn3.predict(X_test3)\n",
    "#se imprime las predicciones realizadas\n",
    "print(\"Predicciones set 3: {}\".format(y_pred3))"
   ]
  },
  {
   "cell_type": "code",
   "execution_count": 81,
   "metadata": {
    "colab": {
     "base_uri": "https://localhost:8080/"
    },
    "id": "ENXcp7Q3OMaM",
    "outputId": "c4627767-cc59-4dbe-8cb0-71af82d23471"
   },
   "outputs": [
    {
     "data": {
      "text/plain": [
       "0.2841173898841125"
      ]
     },
     "execution_count": 81,
     "metadata": {},
     "output_type": "execute_result"
    }
   ],
   "source": [
    "#se verifica la precisión con los datos de testeo\n",
    "score_knn3 = knn3.score(X_test3, y_test3)\n",
    "score_knn3"
   ]
  },
  {
   "cell_type": "code",
   "execution_count": 82,
   "metadata": {
    "colab": {
     "base_uri": "https://localhost:8080/",
     "height": 458
    },
    "id": "lwKdXhPNOMaM",
    "outputId": "e72bc3a5-7053-44ab-e839-2c244b92a4f6"
   },
   "outputs": [
    {
     "name": "stderr",
     "output_type": "stream",
     "text": [
      "<ipython-input-82-4d23f6cf3785>:6: RuntimeWarning: divide by zero encountered in true_divide\n",
      "  'Error': (abs(preds3 - y_test3)*100)/y_test3})\n"
     ]
    },
    {
     "data": {
      "text/html": [
       "<div>\n",
       "<style scoped>\n",
       "    .dataframe tbody tr th:only-of-type {\n",
       "        vertical-align: middle;\n",
       "    }\n",
       "\n",
       "    .dataframe tbody tr th {\n",
       "        vertical-align: top;\n",
       "    }\n",
       "\n",
       "    .dataframe thead th {\n",
       "        text-align: right;\n",
       "    }\n",
       "</style>\n",
       "<table border=\"1\" class=\"dataframe\">\n",
       "  <thead>\n",
       "    <tr style=\"text-align: right;\">\n",
       "      <th></th>\n",
       "      <th>True Value</th>\n",
       "      <th>Prediction</th>\n",
       "      <th>Error</th>\n",
       "    </tr>\n",
       "  </thead>\n",
       "  <tbody>\n",
       "    <tr>\n",
       "      <th>0</th>\n",
       "      <td>25846.94</td>\n",
       "      <td>23444.696</td>\n",
       "      <td>9.294114</td>\n",
       "    </tr>\n",
       "    <tr>\n",
       "      <th>1</th>\n",
       "      <td>12114.32</td>\n",
       "      <td>23602.714</td>\n",
       "      <td>94.833173</td>\n",
       "    </tr>\n",
       "    <tr>\n",
       "      <th>2</th>\n",
       "      <td>167.20</td>\n",
       "      <td>3880.788</td>\n",
       "      <td>2221.045455</td>\n",
       "    </tr>\n",
       "    <tr>\n",
       "      <th>3</th>\n",
       "      <td>19.49</td>\n",
       "      <td>1308.412</td>\n",
       "      <td>6613.247819</td>\n",
       "    </tr>\n",
       "    <tr>\n",
       "      <th>4</th>\n",
       "      <td>28320.89</td>\n",
       "      <td>8261.194</td>\n",
       "      <td>70.830034</td>\n",
       "    </tr>\n",
       "    <tr>\n",
       "      <th>...</th>\n",
       "      <td>...</td>\n",
       "      <td>...</td>\n",
       "      <td>...</td>\n",
       "    </tr>\n",
       "    <tr>\n",
       "      <th>27884</th>\n",
       "      <td>10137.75</td>\n",
       "      <td>25530.804</td>\n",
       "      <td>151.838958</td>\n",
       "    </tr>\n",
       "    <tr>\n",
       "      <th>27885</th>\n",
       "      <td>2093.97</td>\n",
       "      <td>10872.178</td>\n",
       "      <td>419.213647</td>\n",
       "    </tr>\n",
       "    <tr>\n",
       "      <th>27886</th>\n",
       "      <td>2647.93</td>\n",
       "      <td>5225.222</td>\n",
       "      <td>97.332331</td>\n",
       "    </tr>\n",
       "    <tr>\n",
       "      <th>27887</th>\n",
       "      <td>62939.08</td>\n",
       "      <td>61130.776</td>\n",
       "      <td>2.873102</td>\n",
       "    </tr>\n",
       "    <tr>\n",
       "      <th>27888</th>\n",
       "      <td>8219.39</td>\n",
       "      <td>4747.908</td>\n",
       "      <td>42.235275</td>\n",
       "    </tr>\n",
       "  </tbody>\n",
       "</table>\n",
       "<p>27889 rows × 3 columns</p>\n",
       "</div>"
      ],
      "text/plain": [
       "       True Value  Prediction        Error\n",
       "0        25846.94   23444.696     9.294114\n",
       "1        12114.32   23602.714    94.833173\n",
       "2          167.20    3880.788  2221.045455\n",
       "3           19.49    1308.412  6613.247819\n",
       "4        28320.89    8261.194    70.830034\n",
       "...           ...         ...          ...\n",
       "27884    10137.75   25530.804   151.838958\n",
       "27885     2093.97   10872.178   419.213647\n",
       "27886     2647.93    5225.222    97.332331\n",
       "27887    62939.08   61130.776     2.873102\n",
       "27888     8219.39    4747.908    42.235275\n",
       "\n",
       "[27889 rows x 3 columns]"
      ]
     },
     "execution_count": 82,
     "metadata": {},
     "output_type": "execute_result"
    }
   ],
   "source": [
    "#a continuación se genera una tabla comparativa entre los datos reales y los predichos, además de su % de error.\n",
    "preds3 = knn3.predict(X_test3)\n",
    "\n",
    "performance3 = pd.DataFrame({ 'True Value': y_test3,\n",
    "                            'Prediction': preds3,\n",
    "                            'Error': (abs(preds3 - y_test3)*100)/y_test3})\n",
    "\n",
    "performance3"
   ]
  },
  {
   "cell_type": "code",
   "execution_count": 83,
   "metadata": {
    "colab": {
     "base_uri": "https://localhost:8080/",
     "height": 423
    },
    "id": "1RcmpUC0OMaM",
    "outputId": "dc57f6be-ca4d-40c8-9e98-e73bb3a374a5"
   },
   "outputs": [
    {
     "data": {
      "text/html": [
       "<div>\n",
       "<style scoped>\n",
       "    .dataframe tbody tr th:only-of-type {\n",
       "        vertical-align: middle;\n",
       "    }\n",
       "\n",
       "    .dataframe tbody tr th {\n",
       "        vertical-align: top;\n",
       "    }\n",
       "\n",
       "    .dataframe thead th {\n",
       "        text-align: right;\n",
       "    }\n",
       "</style>\n",
       "<table border=\"1\" class=\"dataframe\">\n",
       "  <thead>\n",
       "    <tr style=\"text-align: right;\">\n",
       "      <th></th>\n",
       "      <th>True Value</th>\n",
       "      <th>Prediction</th>\n",
       "      <th>Error</th>\n",
       "      <th>acceptance_criteria</th>\n",
       "    </tr>\n",
       "  </thead>\n",
       "  <tbody>\n",
       "    <tr>\n",
       "      <th>0</th>\n",
       "      <td>25846.94</td>\n",
       "      <td>23444.696</td>\n",
       "      <td>9.294114</td>\n",
       "      <td>1</td>\n",
       "    </tr>\n",
       "    <tr>\n",
       "      <th>1</th>\n",
       "      <td>12114.32</td>\n",
       "      <td>23602.714</td>\n",
       "      <td>94.833173</td>\n",
       "      <td>0</td>\n",
       "    </tr>\n",
       "    <tr>\n",
       "      <th>2</th>\n",
       "      <td>167.20</td>\n",
       "      <td>3880.788</td>\n",
       "      <td>2221.045455</td>\n",
       "      <td>0</td>\n",
       "    </tr>\n",
       "    <tr>\n",
       "      <th>3</th>\n",
       "      <td>19.49</td>\n",
       "      <td>1308.412</td>\n",
       "      <td>6613.247819</td>\n",
       "      <td>0</td>\n",
       "    </tr>\n",
       "    <tr>\n",
       "      <th>4</th>\n",
       "      <td>28320.89</td>\n",
       "      <td>8261.194</td>\n",
       "      <td>70.830034</td>\n",
       "      <td>0</td>\n",
       "    </tr>\n",
       "    <tr>\n",
       "      <th>...</th>\n",
       "      <td>...</td>\n",
       "      <td>...</td>\n",
       "      <td>...</td>\n",
       "      <td>...</td>\n",
       "    </tr>\n",
       "    <tr>\n",
       "      <th>27884</th>\n",
       "      <td>10137.75</td>\n",
       "      <td>25530.804</td>\n",
       "      <td>151.838958</td>\n",
       "      <td>0</td>\n",
       "    </tr>\n",
       "    <tr>\n",
       "      <th>27885</th>\n",
       "      <td>2093.97</td>\n",
       "      <td>10872.178</td>\n",
       "      <td>419.213647</td>\n",
       "      <td>0</td>\n",
       "    </tr>\n",
       "    <tr>\n",
       "      <th>27886</th>\n",
       "      <td>2647.93</td>\n",
       "      <td>5225.222</td>\n",
       "      <td>97.332331</td>\n",
       "      <td>0</td>\n",
       "    </tr>\n",
       "    <tr>\n",
       "      <th>27887</th>\n",
       "      <td>62939.08</td>\n",
       "      <td>61130.776</td>\n",
       "      <td>2.873102</td>\n",
       "      <td>1</td>\n",
       "    </tr>\n",
       "    <tr>\n",
       "      <th>27888</th>\n",
       "      <td>8219.39</td>\n",
       "      <td>4747.908</td>\n",
       "      <td>42.235275</td>\n",
       "      <td>0</td>\n",
       "    </tr>\n",
       "  </tbody>\n",
       "</table>\n",
       "<p>27889 rows × 4 columns</p>\n",
       "</div>"
      ],
      "text/plain": [
       "       True Value  Prediction        Error  acceptance_criteria\n",
       "0        25846.94   23444.696     9.294114                    1\n",
       "1        12114.32   23602.714    94.833173                    0\n",
       "2          167.20    3880.788  2221.045455                    0\n",
       "3           19.49    1308.412  6613.247819                    0\n",
       "4        28320.89    8261.194    70.830034                    0\n",
       "...           ...         ...          ...                  ...\n",
       "27884    10137.75   25530.804   151.838958                    0\n",
       "27885     2093.97   10872.178   419.213647                    0\n",
       "27886     2647.93    5225.222    97.332331                    0\n",
       "27887    62939.08   61130.776     2.873102                    1\n",
       "27888     8219.39    4747.908    42.235275                    0\n",
       "\n",
       "[27889 rows x 4 columns]"
      ]
     },
     "metadata": {},
     "output_type": "display_data"
    }
   ],
   "source": [
    "#a continuación se verifica la precisión en base a un treshold menor al 30% de error\n",
    "performance3[\"acceptance_criteria\"] = 0\n",
    "performance3.loc[performance3.query('Error<=30').index ,\"acceptance_criteria\"]=1\n",
    "display(performance3)"
   ]
  },
  {
   "cell_type": "code",
   "execution_count": 84,
   "metadata": {
    "colab": {
     "base_uri": "https://localhost:8080/"
    },
    "id": "5MwUoP_UOMaN",
    "outputId": "83a59a5b-8906-465d-daec-678d6d4e70a1"
   },
   "outputs": [
    {
     "data": {
      "text/plain": [
       "6068"
      ]
     },
     "execution_count": 84,
     "metadata": {},
     "output_type": "execute_result"
    }
   ],
   "source": [
    "len(performance3.query('Error<=30').index)"
   ]
  },
  {
   "cell_type": "code",
   "execution_count": 85,
   "metadata": {
    "colab": {
     "base_uri": "https://localhost:8080/"
    },
    "id": "lfDejK0MOMaN",
    "outputId": "39086455-bb59-4ff7-b2b2-7efb254028d5"
   },
   "outputs": [
    {
     "data": {
      "text/plain": [
       "27889"
      ]
     },
     "execution_count": 85,
     "metadata": {},
     "output_type": "execute_result"
    }
   ],
   "source": [
    "(len(performance3.index))"
   ]
  },
  {
   "cell_type": "code",
   "execution_count": 86,
   "metadata": {
    "colab": {
     "base_uri": "https://localhost:8080/"
    },
    "id": "61JcRORvOMaN",
    "outputId": "c07668fd-2ebc-4227-b4fb-7da03710d1a1"
   },
   "outputs": [
    {
     "data": {
      "text/plain": [
       "0.217576822403098"
      ]
     },
     "execution_count": 86,
     "metadata": {},
     "output_type": "execute_result"
    }
   ],
   "source": [
    "#precisión calculada a través de la fórmula perteneciente a las partes de una matriz de confusión: prefición = #TruePositive / #(TruePositive + FalsePositive)\n",
    "len(performance3.query('Error<=30').index)/(len(performance3.index))"
   ]
  },
  {
   "cell_type": "markdown",
   "metadata": {
    "id": "_EAzSZh9OMaN"
   },
   "source": [
    "El actual valor obtenido sigue sin ser similar al obtenido por la función .score, pero a mejorado bastante, es por ello, que este ha sido el mejor modelo obtenido para KNN."
   ]
  },
  {
   "cell_type": "markdown",
   "metadata": {
    "id": "72SVDfRrPy_W"
   },
   "source": [
    "1.   **Score**: 0.2891043446645618\n",
    "2.   **Precisión manual**: 0.21746925311054538"
   ]
  },
  {
   "cell_type": "markdown",
   "metadata": {
    "id": "mQYw11CFvLXL"
   },
   "source": [
    "### Datos festivos:"
   ]
  },
  {
   "cell_type": "code",
   "execution_count": 87,
   "metadata": {
    "id": "qrpQOtZA_kbl"
   },
   "outputs": [],
   "source": [
    "#se crean arrays para las características y la variable de destino en el caso de dias no festivos.\n",
    "y_H3 = join_data_Holiday_set3[\"Weekly_Sales\"].values\n",
    "X_H3 = join_data_Holiday_set3[[\"Dept\",\"Fuel_Price\", \"CPI\", \"Unemployment\", \"MarkDowns\"]].values"
   ]
  },
  {
   "cell_type": "code",
   "execution_count": 88,
   "metadata": {
    "colab": {
     "base_uri": "https://localhost:8080/"
    },
    "id": "X9gMqQYz_kbm",
    "outputId": "6a4e0989-39f6-4e6d-83ee-1c1f53455a60"
   },
   "outputs": [
    {
     "data": {
      "text/plain": [
       "KNeighborsRegressor()"
      ]
     },
     "execution_count": 88,
     "metadata": {},
     "output_type": "execute_result"
    }
   ],
   "source": [
    "#se asignan de manera pseudo aleatoria los datos para llevar a cabo el entrenamiento y posterior testeo.\n",
    "X_train_H3, X_test_H3, y_train_H3, y_test_H3 = train_test_split(X_H3, y_H3, test_size= 0.2)\n",
    "\n",
    "#crea un modelo KNN con 5 \"vecinos\"\n",
    "knn_H3 = KNeighborsRegressor(n_neighbors = 5, metric= 'minkowski', p = 2)\n",
    "#entrenamos el regresor\n",
    "knn_H3.fit(X_train_H3, y_train_H3)\n"
   ]
  },
  {
   "cell_type": "code",
   "execution_count": 89,
   "metadata": {
    "colab": {
     "base_uri": "https://localhost:8080/"
    },
    "id": "AXx0l5A8_kbm",
    "outputId": "62674c96-7e89-4c2f-e9f2-3fae43c0cac6"
   },
   "outputs": [
    {
     "name": "stdout",
     "output_type": "stream",
     "text": [
      "Predicciones festivas del set 3: [47005.082 59158.368 22988.932 ...  3727.502  7098.998 18039.948]\n"
     ]
    }
   ],
   "source": [
    "#realiza una predicción en base a los datos de testeo\n",
    "y_pred_H3 = knn_H3.predict(X_test_H3)\n",
    "#se imprime las predicciones realizadas\n",
    "print(\"Predicciones festivas del set 3: {}\".format(y_pred_H3))"
   ]
  },
  {
   "cell_type": "code",
   "execution_count": 90,
   "metadata": {
    "colab": {
     "base_uri": "https://localhost:8080/"
    },
    "id": "UgU2CvoC_kbn",
    "outputId": "ab3e7173-391f-4533-a222-6344dd5f8c22"
   },
   "outputs": [
    {
     "data": {
      "text/plain": [
       "0.15419853069295575"
      ]
     },
     "execution_count": 90,
     "metadata": {},
     "output_type": "execute_result"
    }
   ],
   "source": [
    "#se verifica la precisión con los datos de testeo\n",
    "score_knn_H3 = knn_H3.score(X_test_H3, y_test_H3)\n",
    "score_knn_H3"
   ]
  },
  {
   "cell_type": "code",
   "execution_count": 91,
   "metadata": {
    "colab": {
     "base_uri": "https://localhost:8080/",
     "height": 423
    },
    "id": "3PFsYGpc_kbn",
    "outputId": "e598902f-f209-43bd-ee3e-8a6aedcdbf93"
   },
   "outputs": [
    {
     "data": {
      "text/html": [
       "<div>\n",
       "<style scoped>\n",
       "    .dataframe tbody tr th:only-of-type {\n",
       "        vertical-align: middle;\n",
       "    }\n",
       "\n",
       "    .dataframe tbody tr th {\n",
       "        vertical-align: top;\n",
       "    }\n",
       "\n",
       "    .dataframe thead th {\n",
       "        text-align: right;\n",
       "    }\n",
       "</style>\n",
       "<table border=\"1\" class=\"dataframe\">\n",
       "  <thead>\n",
       "    <tr style=\"text-align: right;\">\n",
       "      <th></th>\n",
       "      <th>True Value</th>\n",
       "      <th>Prediction</th>\n",
       "      <th>Error</th>\n",
       "    </tr>\n",
       "  </thead>\n",
       "  <tbody>\n",
       "    <tr>\n",
       "      <th>0</th>\n",
       "      <td>12070.09</td>\n",
       "      <td>47005.082</td>\n",
       "      <td>289.434395</td>\n",
       "    </tr>\n",
       "    <tr>\n",
       "      <th>1</th>\n",
       "      <td>29240.10</td>\n",
       "      <td>59158.368</td>\n",
       "      <td>102.319308</td>\n",
       "    </tr>\n",
       "    <tr>\n",
       "      <th>2</th>\n",
       "      <td>20044.37</td>\n",
       "      <td>22988.932</td>\n",
       "      <td>14.690220</td>\n",
       "    </tr>\n",
       "    <tr>\n",
       "      <th>3</th>\n",
       "      <td>1583.87</td>\n",
       "      <td>10032.740</td>\n",
       "      <td>533.432037</td>\n",
       "    </tr>\n",
       "    <tr>\n",
       "      <th>4</th>\n",
       "      <td>31196.11</td>\n",
       "      <td>18502.408</td>\n",
       "      <td>40.690016</td>\n",
       "    </tr>\n",
       "    <tr>\n",
       "      <th>...</th>\n",
       "      <td>...</td>\n",
       "      <td>...</td>\n",
       "      <td>...</td>\n",
       "    </tr>\n",
       "    <tr>\n",
       "      <th>2394</th>\n",
       "      <td>14.82</td>\n",
       "      <td>1665.782</td>\n",
       "      <td>11140.094467</td>\n",
       "    </tr>\n",
       "    <tr>\n",
       "      <th>2395</th>\n",
       "      <td>4916.16</td>\n",
       "      <td>5551.660</td>\n",
       "      <td>12.926756</td>\n",
       "    </tr>\n",
       "    <tr>\n",
       "      <th>2396</th>\n",
       "      <td>2471.74</td>\n",
       "      <td>3727.502</td>\n",
       "      <td>50.804777</td>\n",
       "    </tr>\n",
       "    <tr>\n",
       "      <th>2397</th>\n",
       "      <td>9524.48</td>\n",
       "      <td>7098.998</td>\n",
       "      <td>25.465768</td>\n",
       "    </tr>\n",
       "    <tr>\n",
       "      <th>2398</th>\n",
       "      <td>6728.32</td>\n",
       "      <td>18039.948</td>\n",
       "      <td>168.119649</td>\n",
       "    </tr>\n",
       "  </tbody>\n",
       "</table>\n",
       "<p>2399 rows × 3 columns</p>\n",
       "</div>"
      ],
      "text/plain": [
       "      True Value  Prediction         Error\n",
       "0       12070.09   47005.082    289.434395\n",
       "1       29240.10   59158.368    102.319308\n",
       "2       20044.37   22988.932     14.690220\n",
       "3        1583.87   10032.740    533.432037\n",
       "4       31196.11   18502.408     40.690016\n",
       "...          ...         ...           ...\n",
       "2394       14.82    1665.782  11140.094467\n",
       "2395     4916.16    5551.660     12.926756\n",
       "2396     2471.74    3727.502     50.804777\n",
       "2397     9524.48    7098.998     25.465768\n",
       "2398     6728.32   18039.948    168.119649\n",
       "\n",
       "[2399 rows x 3 columns]"
      ]
     },
     "execution_count": 91,
     "metadata": {},
     "output_type": "execute_result"
    }
   ],
   "source": [
    "#a continuación se genera una tabla comparativa entre los datos reales y los predichos, además de su % de error.\n",
    "preds_H3 = knn_H3.predict(X_test_H3)\n",
    "\n",
    "performance_H3 = pd.DataFrame({ 'True Value': y_test_H3,\n",
    "                            'Prediction': preds_H3,\n",
    "                            'Error': (abs(preds_H3 - y_test_H3)*100)/y_test_H3})\n",
    "\n",
    "performance_H3"
   ]
  },
  {
   "cell_type": "code",
   "execution_count": 92,
   "metadata": {
    "colab": {
     "base_uri": "https://localhost:8080/",
     "height": 423
    },
    "id": "py1cCJb1_kbo",
    "outputId": "57b9c3ca-a8a9-468f-f978-067be7ca6f48"
   },
   "outputs": [
    {
     "data": {
      "text/html": [
       "<div>\n",
       "<style scoped>\n",
       "    .dataframe tbody tr th:only-of-type {\n",
       "        vertical-align: middle;\n",
       "    }\n",
       "\n",
       "    .dataframe tbody tr th {\n",
       "        vertical-align: top;\n",
       "    }\n",
       "\n",
       "    .dataframe thead th {\n",
       "        text-align: right;\n",
       "    }\n",
       "</style>\n",
       "<table border=\"1\" class=\"dataframe\">\n",
       "  <thead>\n",
       "    <tr style=\"text-align: right;\">\n",
       "      <th></th>\n",
       "      <th>True Value</th>\n",
       "      <th>Prediction</th>\n",
       "      <th>Error</th>\n",
       "      <th>acceptance_criteria</th>\n",
       "    </tr>\n",
       "  </thead>\n",
       "  <tbody>\n",
       "    <tr>\n",
       "      <th>0</th>\n",
       "      <td>12070.09</td>\n",
       "      <td>47005.082</td>\n",
       "      <td>289.434395</td>\n",
       "      <td>0</td>\n",
       "    </tr>\n",
       "    <tr>\n",
       "      <th>1</th>\n",
       "      <td>29240.10</td>\n",
       "      <td>59158.368</td>\n",
       "      <td>102.319308</td>\n",
       "      <td>0</td>\n",
       "    </tr>\n",
       "    <tr>\n",
       "      <th>2</th>\n",
       "      <td>20044.37</td>\n",
       "      <td>22988.932</td>\n",
       "      <td>14.690220</td>\n",
       "      <td>1</td>\n",
       "    </tr>\n",
       "    <tr>\n",
       "      <th>3</th>\n",
       "      <td>1583.87</td>\n",
       "      <td>10032.740</td>\n",
       "      <td>533.432037</td>\n",
       "      <td>0</td>\n",
       "    </tr>\n",
       "    <tr>\n",
       "      <th>4</th>\n",
       "      <td>31196.11</td>\n",
       "      <td>18502.408</td>\n",
       "      <td>40.690016</td>\n",
       "      <td>0</td>\n",
       "    </tr>\n",
       "    <tr>\n",
       "      <th>...</th>\n",
       "      <td>...</td>\n",
       "      <td>...</td>\n",
       "      <td>...</td>\n",
       "      <td>...</td>\n",
       "    </tr>\n",
       "    <tr>\n",
       "      <th>2394</th>\n",
       "      <td>14.82</td>\n",
       "      <td>1665.782</td>\n",
       "      <td>11140.094467</td>\n",
       "      <td>0</td>\n",
       "    </tr>\n",
       "    <tr>\n",
       "      <th>2395</th>\n",
       "      <td>4916.16</td>\n",
       "      <td>5551.660</td>\n",
       "      <td>12.926756</td>\n",
       "      <td>1</td>\n",
       "    </tr>\n",
       "    <tr>\n",
       "      <th>2396</th>\n",
       "      <td>2471.74</td>\n",
       "      <td>3727.502</td>\n",
       "      <td>50.804777</td>\n",
       "      <td>0</td>\n",
       "    </tr>\n",
       "    <tr>\n",
       "      <th>2397</th>\n",
       "      <td>9524.48</td>\n",
       "      <td>7098.998</td>\n",
       "      <td>25.465768</td>\n",
       "      <td>1</td>\n",
       "    </tr>\n",
       "    <tr>\n",
       "      <th>2398</th>\n",
       "      <td>6728.32</td>\n",
       "      <td>18039.948</td>\n",
       "      <td>168.119649</td>\n",
       "      <td>0</td>\n",
       "    </tr>\n",
       "  </tbody>\n",
       "</table>\n",
       "<p>2399 rows × 4 columns</p>\n",
       "</div>"
      ],
      "text/plain": [
       "      True Value  Prediction         Error  acceptance_criteria\n",
       "0       12070.09   47005.082    289.434395                    0\n",
       "1       29240.10   59158.368    102.319308                    0\n",
       "2       20044.37   22988.932     14.690220                    1\n",
       "3        1583.87   10032.740    533.432037                    0\n",
       "4       31196.11   18502.408     40.690016                    0\n",
       "...          ...         ...           ...                  ...\n",
       "2394       14.82    1665.782  11140.094467                    0\n",
       "2395     4916.16    5551.660     12.926756                    1\n",
       "2396     2471.74    3727.502     50.804777                    0\n",
       "2397     9524.48    7098.998     25.465768                    1\n",
       "2398     6728.32   18039.948    168.119649                    0\n",
       "\n",
       "[2399 rows x 4 columns]"
      ]
     },
     "metadata": {},
     "output_type": "display_data"
    }
   ],
   "source": [
    "#a continuación se verifica la precisión en base a un treshold menor al 30% de error\n",
    "performance_H3[\"acceptance_criteria\"] = 0\n",
    "performance_H3.loc[performance_H3.query('Error<=30').index ,\"acceptance_criteria\"]=1\n",
    "display(performance_H3)"
   ]
  },
  {
   "cell_type": "code",
   "execution_count": 95,
   "metadata": {
    "colab": {
     "base_uri": "https://localhost:8080/"
    },
    "id": "-U8mJRVw_kbo",
    "outputId": "ab0d6be1-dc3d-4f22-d0dc-fa33b20246ce"
   },
   "outputs": [
    {
     "data": {
      "text/plain": [
       "450"
      ]
     },
     "execution_count": 95,
     "metadata": {},
     "output_type": "execute_result"
    }
   ],
   "source": [
    "len(performance_H3.query('Error<=30').index)"
   ]
  },
  {
   "cell_type": "code",
   "execution_count": 96,
   "metadata": {
    "colab": {
     "base_uri": "https://localhost:8080/"
    },
    "id": "7t3DS9Ql_kbo",
    "outputId": "8d252606-950b-4c7e-9bb7-e9f84fb8e49b"
   },
   "outputs": [
    {
     "data": {
      "text/plain": [
       "2399"
      ]
     },
     "execution_count": 96,
     "metadata": {},
     "output_type": "execute_result"
    }
   ],
   "source": [
    "(len(performance_H3.index))"
   ]
  },
  {
   "cell_type": "code",
   "execution_count": 97,
   "metadata": {
    "colab": {
     "base_uri": "https://localhost:8080/"
    },
    "id": "3gVmJ5I5_kbo",
    "outputId": "f9a31ecb-8999-4d28-9619-48bf5e699a8e"
   },
   "outputs": [
    {
     "data": {
      "text/plain": [
       "0.18757815756565235"
      ]
     },
     "execution_count": 97,
     "metadata": {},
     "output_type": "execute_result"
    }
   ],
   "source": [
    "#precisión calculada a través de la fórmula perteneciente a las partes de una matriz de confusión: prefición = #TruePositive / #(TruePositive + FalsePositive)\n",
    "len(performance_H3.query('Error<=30').index)/(len(performance_H3.index))"
   ]
  },
  {
   "cell_type": "markdown",
   "metadata": {
    "id": "SjBCrMX3_kbp"
   },
   "source": [
    "El valor obtenido sigue sin ser similar al obtenido por la función .score, pero este a mejorado bastante, es por ello, que este ha sido el mejor modelo obtenido para KNN con los siguientes datos."
   ]
  },
  {
   "cell_type": "markdown",
   "metadata": {
    "id": "G-SH_AGz_kbp"
   },
   "source": [
    "1.   **Score**: 0.15406018673024635\n",
    "2.   **Precisión manual**: 0.2113380575239683"
   ]
  },
  {
   "cell_type": "markdown",
   "metadata": {
    "id": "6pemcz1gBVBr"
   },
   "source": [
    "Finalmente se decide hacer uso del set 3 de KNN para llevar a cabo la predicción con los datos de la Tabla1, dado a que el set 3 posee (a pesar de ser baja) una mayor presición que el resto de set's creados."
   ]
  },
  {
   "cell_type": "markdown",
   "metadata": {
    "id": "9eBDbwDIDR6A"
   },
   "source": [
    "## Tabla1"
   ]
  },
  {
   "cell_type": "markdown",
   "metadata": {
    "id": "SrtXMlWoEYVS"
   },
   "source": [
    "### Procesamiento de datos"
   ]
  },
  {
   "cell_type": "markdown",
   "metadata": {
    "id": "SyTI_HTGEu_v"
   },
   "source": [
    "Primero se procesarán los datos de la tabla 1 para que queden acorde al funcionamiento del modelo KNN del set 3."
   ]
  },
  {
   "cell_type": "code",
   "execution_count": 98,
   "metadata": {
    "colab": {
     "base_uri": "https://localhost:8080/",
     "height": 1000
    },
    "id": "mXFF3t0NEoh8",
    "outputId": "92c4fe17-3483-41d1-9151-a90503cc03be"
   },
   "outputs": [
    {
     "data": {
      "text/html": [
       "<div>\n",
       "<style scoped>\n",
       "    .dataframe tbody tr th:only-of-type {\n",
       "        vertical-align: middle;\n",
       "    }\n",
       "\n",
       "    .dataframe tbody tr th {\n",
       "        vertical-align: top;\n",
       "    }\n",
       "\n",
       "    .dataframe thead th {\n",
       "        text-align: right;\n",
       "    }\n",
       "</style>\n",
       "<table border=\"1\" class=\"dataframe\">\n",
       "  <thead>\n",
       "    <tr style=\"text-align: right;\">\n",
       "      <th></th>\n",
       "      <th>Unnamed: 0</th>\n",
       "      <th>Store</th>\n",
       "      <th>Dept</th>\n",
       "      <th>Date</th>\n",
       "      <th>Weekly_Sales</th>\n",
       "      <th>IsHoliday_x</th>\n",
       "      <th>Temperature</th>\n",
       "      <th>Fuel_Price</th>\n",
       "      <th>MarkDown1</th>\n",
       "      <th>MarkDown2</th>\n",
       "      <th>MarkDown3</th>\n",
       "      <th>MarkDown4</th>\n",
       "      <th>MarkDown5</th>\n",
       "      <th>CPI</th>\n",
       "      <th>Unemployment</th>\n",
       "      <th>IsHoliday_y</th>\n",
       "      <th>MarkDowns</th>\n",
       "    </tr>\n",
       "  </thead>\n",
       "  <tbody>\n",
       "    <tr>\n",
       "      <th>0</th>\n",
       "      <td>0</td>\n",
       "      <td>5</td>\n",
       "      <td>16</td>\n",
       "      <td>16/09/2011</td>\n",
       "      <td>564312.734549</td>\n",
       "      <td>False</td>\n",
       "      <td>32.687061</td>\n",
       "      <td>3.526</td>\n",
       "      <td>9691.276227</td>\n",
       "      <td>464.157260</td>\n",
       "      <td>21484.678945</td>\n",
       "      <td>15838.706634</td>\n",
       "      <td>10074.683942</td>\n",
       "      <td>216.603308</td>\n",
       "      <td>6.529</td>\n",
       "      <td>False</td>\n",
       "      <td>11510.700602</td>\n",
       "    </tr>\n",
       "    <tr>\n",
       "      <th>1</th>\n",
       "      <td>1</td>\n",
       "      <td>21</td>\n",
       "      <td>52</td>\n",
       "      <td>24/06/2011</td>\n",
       "      <td>169199.146654</td>\n",
       "      <td>False</td>\n",
       "      <td>59.608361</td>\n",
       "      <td>3.594</td>\n",
       "      <td>35052.144316</td>\n",
       "      <td>33433.615110</td>\n",
       "      <td>23406.818748</td>\n",
       "      <td>10586.568174</td>\n",
       "      <td>18348.012177</td>\n",
       "      <td>214.744111</td>\n",
       "      <td>7.931</td>\n",
       "      <td>False</td>\n",
       "      <td>24165.431705</td>\n",
       "    </tr>\n",
       "    <tr>\n",
       "      <th>2</th>\n",
       "      <td>2</td>\n",
       "      <td>9</td>\n",
       "      <td>24</td>\n",
       "      <td>27/01/2012</td>\n",
       "      <td>76445.807545</td>\n",
       "      <td>False</td>\n",
       "      <td>16.623822</td>\n",
       "      <td>3.290</td>\n",
       "      <td>13763.521756</td>\n",
       "      <td>33784.341040</td>\n",
       "      <td>26138.012756</td>\n",
       "      <td>21585.291347</td>\n",
       "      <td>1582.360568</td>\n",
       "      <td>223.806053</td>\n",
       "      <td>5.667</td>\n",
       "      <td>False</td>\n",
       "      <td>19370.705493</td>\n",
       "    </tr>\n",
       "    <tr>\n",
       "      <th>3</th>\n",
       "      <td>3</td>\n",
       "      <td>6</td>\n",
       "      <td>60</td>\n",
       "      <td>05/08/2011</td>\n",
       "      <td>529384.632399</td>\n",
       "      <td>False</td>\n",
       "      <td>36.466380</td>\n",
       "      <td>3.684</td>\n",
       "      <td>7446.306499</td>\n",
       "      <td>2438.613334</td>\n",
       "      <td>5175.440486</td>\n",
       "      <td>10227.979090</td>\n",
       "      <td>8692.253401</td>\n",
       "      <td>217.083989</td>\n",
       "      <td>6.925</td>\n",
       "      <td>False</td>\n",
       "      <td>6796.118562</td>\n",
       "    </tr>\n",
       "    <tr>\n",
       "      <th>4</th>\n",
       "      <td>4</td>\n",
       "      <td>17</td>\n",
       "      <td>42</td>\n",
       "      <td>23/12/2011</td>\n",
       "      <td>590421.125970</td>\n",
       "      <td>False</td>\n",
       "      <td>92.396503</td>\n",
       "      <td>3.186</td>\n",
       "      <td>2679.329519</td>\n",
       "      <td>9565.582845</td>\n",
       "      <td>23651.312194</td>\n",
       "      <td>12981.884477</td>\n",
       "      <td>10443.878610</td>\n",
       "      <td>129.984548</td>\n",
       "      <td>6.617</td>\n",
       "      <td>False</td>\n",
       "      <td>11864.397529</td>\n",
       "    </tr>\n",
       "    <tr>\n",
       "      <th>5</th>\n",
       "      <td>5</td>\n",
       "      <td>31</td>\n",
       "      <td>87</td>\n",
       "      <td>24/08/2012</td>\n",
       "      <td>556894.615504</td>\n",
       "      <td>False</td>\n",
       "      <td>43.412585</td>\n",
       "      <td>3.620</td>\n",
       "      <td>74319.059467</td>\n",
       "      <td>37408.818862</td>\n",
       "      <td>18482.402292</td>\n",
       "      <td>20620.695196</td>\n",
       "      <td>3846.379089</td>\n",
       "      <td>221.808352</td>\n",
       "      <td>6.565</td>\n",
       "      <td>False</td>\n",
       "      <td>30935.470981</td>\n",
       "    </tr>\n",
       "    <tr>\n",
       "      <th>6</th>\n",
       "      <td>6</td>\n",
       "      <td>21</td>\n",
       "      <td>83</td>\n",
       "      <td>19/03/2010</td>\n",
       "      <td>682722.852234</td>\n",
       "      <td>False</td>\n",
       "      <td>52.963927</td>\n",
       "      <td>2.720</td>\n",
       "      <td>78985.685314</td>\n",
       "      <td>31341.343607</td>\n",
       "      <td>12708.044607</td>\n",
       "      <td>5875.072096</td>\n",
       "      <td>688.137256</td>\n",
       "      <td>210.873332</td>\n",
       "      <td>8.324</td>\n",
       "      <td>False</td>\n",
       "      <td>25919.656576</td>\n",
       "    </tr>\n",
       "    <tr>\n",
       "      <th>7</th>\n",
       "      <td>7</td>\n",
       "      <td>4</td>\n",
       "      <td>29</td>\n",
       "      <td>30/09/2011</td>\n",
       "      <td>70387.018913</td>\n",
       "      <td>False</td>\n",
       "      <td>74.145519</td>\n",
       "      <td>3.371</td>\n",
       "      <td>9436.763466</td>\n",
       "      <td>41393.898678</td>\n",
       "      <td>29216.144403</td>\n",
       "      <td>15784.237223</td>\n",
       "      <td>7165.225061</td>\n",
       "      <td>129.606067</td>\n",
       "      <td>5.644</td>\n",
       "      <td>False</td>\n",
       "      <td>20599.253766</td>\n",
       "    </tr>\n",
       "    <tr>\n",
       "      <th>8</th>\n",
       "      <td>8</td>\n",
       "      <td>20</td>\n",
       "      <td>16</td>\n",
       "      <td>24/12/2010</td>\n",
       "      <td>326232.854841</td>\n",
       "      <td>False</td>\n",
       "      <td>26.041172</td>\n",
       "      <td>3.141</td>\n",
       "      <td>3564.696521</td>\n",
       "      <td>5771.074248</td>\n",
       "      <td>18289.236301</td>\n",
       "      <td>4481.732712</td>\n",
       "      <td>405.051798</td>\n",
       "      <td>204.637673</td>\n",
       "      <td>7.484</td>\n",
       "      <td>False</td>\n",
       "      <td>6502.358316</td>\n",
       "    </tr>\n",
       "    <tr>\n",
       "      <th>9</th>\n",
       "      <td>9</td>\n",
       "      <td>22</td>\n",
       "      <td>46</td>\n",
       "      <td>27/05/2011</td>\n",
       "      <td>436981.323825</td>\n",
       "      <td>False</td>\n",
       "      <td>28.162576</td>\n",
       "      <td>4.034</td>\n",
       "      <td>85035.636423</td>\n",
       "      <td>4078.768416</td>\n",
       "      <td>20681.908333</td>\n",
       "      <td>3242.237108</td>\n",
       "      <td>12731.765498</td>\n",
       "      <td>138.678283</td>\n",
       "      <td>8.252</td>\n",
       "      <td>False</td>\n",
       "      <td>25154.063156</td>\n",
       "    </tr>\n",
       "    <tr>\n",
       "      <th>10</th>\n",
       "      <td>10</td>\n",
       "      <td>3</td>\n",
       "      <td>10</td>\n",
       "      <td>01/06/2012</td>\n",
       "      <td>262010.005704</td>\n",
       "      <td>False</td>\n",
       "      <td>87.287100</td>\n",
       "      <td>3.501</td>\n",
       "      <td>68165.438344</td>\n",
       "      <td>32955.483257</td>\n",
       "      <td>25386.696655</td>\n",
       "      <td>16291.554344</td>\n",
       "      <td>17766.078476</td>\n",
       "      <td>225.251831</td>\n",
       "      <td>6.664</td>\n",
       "      <td>False</td>\n",
       "      <td>32113.050215</td>\n",
       "    </tr>\n",
       "    <tr>\n",
       "      <th>11</th>\n",
       "      <td>11</td>\n",
       "      <td>40</td>\n",
       "      <td>52</td>\n",
       "      <td>30/09/2011</td>\n",
       "      <td>244885.308147</td>\n",
       "      <td>False</td>\n",
       "      <td>32.901161</td>\n",
       "      <td>3.684</td>\n",
       "      <td>86637.610910</td>\n",
       "      <td>24985.340923</td>\n",
       "      <td>5546.808829</td>\n",
       "      <td>348.902159</td>\n",
       "      <td>12148.381610</td>\n",
       "      <td>136.419500</td>\n",
       "      <td>4.584</td>\n",
       "      <td>False</td>\n",
       "      <td>25933.408886</td>\n",
       "    </tr>\n",
       "    <tr>\n",
       "      <th>12</th>\n",
       "      <td>12</td>\n",
       "      <td>15</td>\n",
       "      <td>67</td>\n",
       "      <td>04/02/2011</td>\n",
       "      <td>597439.476292</td>\n",
       "      <td>False</td>\n",
       "      <td>13.863387</td>\n",
       "      <td>3.400</td>\n",
       "      <td>48607.327856</td>\n",
       "      <td>21140.521825</td>\n",
       "      <td>17080.642989</td>\n",
       "      <td>1109.902447</td>\n",
       "      <td>17680.890372</td>\n",
       "      <td>133.183419</td>\n",
       "      <td>7.771</td>\n",
       "      <td>False</td>\n",
       "      <td>21123.857098</td>\n",
       "    </tr>\n",
       "    <tr>\n",
       "      <th>13</th>\n",
       "      <td>13</td>\n",
       "      <td>41</td>\n",
       "      <td>6</td>\n",
       "      <td>21/01/2011</td>\n",
       "      <td>21762.861684</td>\n",
       "      <td>False</td>\n",
       "      <td>82.433748</td>\n",
       "      <td>2.973</td>\n",
       "      <td>44492.831319</td>\n",
       "      <td>9563.584851</td>\n",
       "      <td>10231.515780</td>\n",
       "      <td>4841.751133</td>\n",
       "      <td>2060.544355</td>\n",
       "      <td>191.573192</td>\n",
       "      <td>7.241</td>\n",
       "      <td>False</td>\n",
       "      <td>14238.045488</td>\n",
       "    </tr>\n",
       "    <tr>\n",
       "      <th>14</th>\n",
       "      <td>14</td>\n",
       "      <td>7</td>\n",
       "      <td>11</td>\n",
       "      <td>26/10/2012</td>\n",
       "      <td>243937.781590</td>\n",
       "      <td>False</td>\n",
       "      <td>18.991381</td>\n",
       "      <td>3.686</td>\n",
       "      <td>68768.551238</td>\n",
       "      <td>17959.738011</td>\n",
       "      <td>8206.829970</td>\n",
       "      <td>12533.552172</td>\n",
       "      <td>10992.028807</td>\n",
       "      <td>199.219532</td>\n",
       "      <td>7.557</td>\n",
       "      <td>False</td>\n",
       "      <td>23692.140040</td>\n",
       "    </tr>\n",
       "    <tr>\n",
       "      <th>15</th>\n",
       "      <td>15</td>\n",
       "      <td>35</td>\n",
       "      <td>16</td>\n",
       "      <td>30/03/2012</td>\n",
       "      <td>219614.970611</td>\n",
       "      <td>False</td>\n",
       "      <td>47.289898</td>\n",
       "      <td>3.953</td>\n",
       "      <td>51608.465583</td>\n",
       "      <td>6167.144619</td>\n",
       "      <td>9596.958459</td>\n",
       "      <td>19047.399146</td>\n",
       "      <td>12542.075325</td>\n",
       "      <td>141.699086</td>\n",
       "      <td>8.744</td>\n",
       "      <td>False</td>\n",
       "      <td>19792.408626</td>\n",
       "    </tr>\n",
       "    <tr>\n",
       "      <th>16</th>\n",
       "      <td>16</td>\n",
       "      <td>37</td>\n",
       "      <td>60</td>\n",
       "      <td>11/11/2011</td>\n",
       "      <td>431847.309472</td>\n",
       "      <td>False</td>\n",
       "      <td>40.998177</td>\n",
       "      <td>3.297</td>\n",
       "      <td>4514.646305</td>\n",
       "      <td>2850.799142</td>\n",
       "      <td>980.794296</td>\n",
       "      <td>9873.050902</td>\n",
       "      <td>16663.598006</td>\n",
       "      <td>216.721737</td>\n",
       "      <td>7.716</td>\n",
       "      <td>False</td>\n",
       "      <td>6976.577730</td>\n",
       "    </tr>\n",
       "    <tr>\n",
       "      <th>17</th>\n",
       "      <td>17</td>\n",
       "      <td>41</td>\n",
       "      <td>17</td>\n",
       "      <td>03/02/2012</td>\n",
       "      <td>154808.001476</td>\n",
       "      <td>False</td>\n",
       "      <td>78.219679</td>\n",
       "      <td>3.031</td>\n",
       "      <td>54748.628892</td>\n",
       "      <td>47044.143155</td>\n",
       "      <td>32531.315422</td>\n",
       "      <td>4190.329120</td>\n",
       "      <td>4041.800039</td>\n",
       "      <td>196.872892</td>\n",
       "      <td>6.589</td>\n",
       "      <td>False</td>\n",
       "      <td>28511.243326</td>\n",
       "    </tr>\n",
       "    <tr>\n",
       "      <th>18</th>\n",
       "      <td>18</td>\n",
       "      <td>34</td>\n",
       "      <td>85</td>\n",
       "      <td>11/11/2011</td>\n",
       "      <td>433842.256150</td>\n",
       "      <td>False</td>\n",
       "      <td>26.881639</td>\n",
       "      <td>3.286</td>\n",
       "      <td>16472.971548</td>\n",
       "      <td>37664.435393</td>\n",
       "      <td>11569.390116</td>\n",
       "      <td>15048.630322</td>\n",
       "      <td>21057.475019</td>\n",
       "      <td>129.816710</td>\n",
       "      <td>10.148</td>\n",
       "      <td>False</td>\n",
       "      <td>20362.580480</td>\n",
       "    </tr>\n",
       "    <tr>\n",
       "      <th>19</th>\n",
       "      <td>19</td>\n",
       "      <td>23</td>\n",
       "      <td>18</td>\n",
       "      <td>05/10/2012</td>\n",
       "      <td>160021.579843</td>\n",
       "      <td>False</td>\n",
       "      <td>26.845899</td>\n",
       "      <td>4.027</td>\n",
       "      <td>166.671403</td>\n",
       "      <td>13363.153640</td>\n",
       "      <td>24629.672144</td>\n",
       "      <td>10126.405370</td>\n",
       "      <td>5018.466604</td>\n",
       "      <td>138.825600</td>\n",
       "      <td>4.145</td>\n",
       "      <td>False</td>\n",
       "      <td>10660.873832</td>\n",
       "    </tr>\n",
       "    <tr>\n",
       "      <th>20</th>\n",
       "      <td>20</td>\n",
       "      <td>44</td>\n",
       "      <td>95</td>\n",
       "      <td>10/06/2011</td>\n",
       "      <td>209307.539122</td>\n",
       "      <td>False</td>\n",
       "      <td>94.118798</td>\n",
       "      <td>3.732</td>\n",
       "      <td>81088.136541</td>\n",
       "      <td>14674.109508</td>\n",
       "      <td>13953.388248</td>\n",
       "      <td>9197.663242</td>\n",
       "      <td>19270.023485</td>\n",
       "      <td>129.035710</td>\n",
       "      <td>6.906</td>\n",
       "      <td>False</td>\n",
       "      <td>27636.664205</td>\n",
       "    </tr>\n",
       "    <tr>\n",
       "      <th>21</th>\n",
       "      <td>21</td>\n",
       "      <td>27</td>\n",
       "      <td>50</td>\n",
       "      <td>10/02/2012</td>\n",
       "      <td>625880.623167</td>\n",
       "      <td>True</td>\n",
       "      <td>99.921138</td>\n",
       "      <td>3.826</td>\n",
       "      <td>52703.320986</td>\n",
       "      <td>27782.877055</td>\n",
       "      <td>7370.027365</td>\n",
       "      <td>13106.300265</td>\n",
       "      <td>13728.596912</td>\n",
       "      <td>141.119983</td>\n",
       "      <td>8.009</td>\n",
       "      <td>True</td>\n",
       "      <td>22938.224516</td>\n",
       "    </tr>\n",
       "    <tr>\n",
       "      <th>22</th>\n",
       "      <td>22</td>\n",
       "      <td>37</td>\n",
       "      <td>12</td>\n",
       "      <td>26/03/2010</td>\n",
       "      <td>573752.531842</td>\n",
       "      <td>False</td>\n",
       "      <td>37.803007</td>\n",
       "      <td>2.732</td>\n",
       "      <td>17141.690092</td>\n",
       "      <td>30143.196551</td>\n",
       "      <td>21257.459041</td>\n",
       "      <td>9666.240429</td>\n",
       "      <td>13644.232916</td>\n",
       "      <td>209.787093</td>\n",
       "      <td>8.554</td>\n",
       "      <td>False</td>\n",
       "      <td>18370.563806</td>\n",
       "    </tr>\n",
       "    <tr>\n",
       "      <th>23</th>\n",
       "      <td>23</td>\n",
       "      <td>26</td>\n",
       "      <td>4</td>\n",
       "      <td>27/01/2012</td>\n",
       "      <td>157487.926303</td>\n",
       "      <td>False</td>\n",
       "      <td>0.002665</td>\n",
       "      <td>3.568</td>\n",
       "      <td>67435.079172</td>\n",
       "      <td>2518.438021</td>\n",
       "      <td>23840.184049</td>\n",
       "      <td>2921.949577</td>\n",
       "      <td>7184.037531</td>\n",
       "      <td>136.959839</td>\n",
       "      <td>7.467</td>\n",
       "      <td>False</td>\n",
       "      <td>20779.937670</td>\n",
       "    </tr>\n",
       "    <tr>\n",
       "      <th>24</th>\n",
       "      <td>24</td>\n",
       "      <td>38</td>\n",
       "      <td>3</td>\n",
       "      <td>23/12/2011</td>\n",
       "      <td>111586.263927</td>\n",
       "      <td>False</td>\n",
       "      <td>79.670915</td>\n",
       "      <td>3.541</td>\n",
       "      <td>14073.469858</td>\n",
       "      <td>25746.538454</td>\n",
       "      <td>28457.231729</td>\n",
       "      <td>8654.210020</td>\n",
       "      <td>7492.003226</td>\n",
       "      <td>129.984548</td>\n",
       "      <td>12.890</td>\n",
       "      <td>False</td>\n",
       "      <td>16884.690657</td>\n",
       "    </tr>\n",
       "    <tr>\n",
       "      <th>25</th>\n",
       "      <td>25</td>\n",
       "      <td>29</td>\n",
       "      <td>93</td>\n",
       "      <td>13/07/2012</td>\n",
       "      <td>579914.681875</td>\n",
       "      <td>False</td>\n",
       "      <td>34.904169</td>\n",
       "      <td>3.561</td>\n",
       "      <td>78434.314461</td>\n",
       "      <td>15361.617666</td>\n",
       "      <td>33303.161397</td>\n",
       "      <td>857.291575</td>\n",
       "      <td>2623.034367</td>\n",
       "      <td>138.263000</td>\n",
       "      <td>9.419</td>\n",
       "      <td>False</td>\n",
       "      <td>26115.883893</td>\n",
       "    </tr>\n",
       "    <tr>\n",
       "      <th>26</th>\n",
       "      <td>26</td>\n",
       "      <td>29</td>\n",
       "      <td>97</td>\n",
       "      <td>06/01/2012</td>\n",
       "      <td>54620.024555</td>\n",
       "      <td>False</td>\n",
       "      <td>98.120004</td>\n",
       "      <td>3.439</td>\n",
       "      <td>14630.185589</td>\n",
       "      <td>20479.471637</td>\n",
       "      <td>24777.445588</td>\n",
       "      <td>12391.517637</td>\n",
       "      <td>8830.810795</td>\n",
       "      <td>136.698129</td>\n",
       "      <td>8.988</td>\n",
       "      <td>False</td>\n",
       "      <td>16221.886249</td>\n",
       "    </tr>\n",
       "    <tr>\n",
       "      <th>27</th>\n",
       "      <td>27</td>\n",
       "      <td>31</td>\n",
       "      <td>67</td>\n",
       "      <td>23/04/2010</td>\n",
       "      <td>231845.276554</td>\n",
       "      <td>False</td>\n",
       "      <td>98.774804</td>\n",
       "      <td>2.795</td>\n",
       "      <td>24514.662087</td>\n",
       "      <td>32799.882668</td>\n",
       "      <td>23322.991193</td>\n",
       "      <td>1922.123283</td>\n",
       "      <td>11962.469723</td>\n",
       "      <td>210.100065</td>\n",
       "      <td>8.200</td>\n",
       "      <td>False</td>\n",
       "      <td>18904.425791</td>\n",
       "    </tr>\n",
       "    <tr>\n",
       "      <th>28</th>\n",
       "      <td>28</td>\n",
       "      <td>11</td>\n",
       "      <td>98</td>\n",
       "      <td>30/04/2010</td>\n",
       "      <td>154893.144937</td>\n",
       "      <td>False</td>\n",
       "      <td>97.157213</td>\n",
       "      <td>2.780</td>\n",
       "      <td>26731.304903</td>\n",
       "      <td>1195.350178</td>\n",
       "      <td>15649.022800</td>\n",
       "      <td>9573.876685</td>\n",
       "      <td>13488.984475</td>\n",
       "      <td>213.671682</td>\n",
       "      <td>7.343</td>\n",
       "      <td>False</td>\n",
       "      <td>13327.707808</td>\n",
       "    </tr>\n",
       "    <tr>\n",
       "      <th>29</th>\n",
       "      <td>29</td>\n",
       "      <td>10</td>\n",
       "      <td>28</td>\n",
       "      <td>14/05/2010</td>\n",
       "      <td>180546.910106</td>\n",
       "      <td>False</td>\n",
       "      <td>74.121840</td>\n",
       "      <td>3.145</td>\n",
       "      <td>55203.851782</td>\n",
       "      <td>46391.259418</td>\n",
       "      <td>19547.936623</td>\n",
       "      <td>9635.510974</td>\n",
       "      <td>17262.441312</td>\n",
       "      <td>126.208548</td>\n",
       "      <td>9.524</td>\n",
       "      <td>False</td>\n",
       "      <td>29608.200022</td>\n",
       "    </tr>\n",
       "    <tr>\n",
       "      <th>30</th>\n",
       "      <td>30</td>\n",
       "      <td>41</td>\n",
       "      <td>10</td>\n",
       "      <td>16/12/2011</td>\n",
       "      <td>11877.665598</td>\n",
       "      <td>False</td>\n",
       "      <td>90.401020</td>\n",
       "      <td>3.266</td>\n",
       "      <td>65440.658718</td>\n",
       "      <td>22937.953981</td>\n",
       "      <td>9300.833762</td>\n",
       "      <td>12708.415250</td>\n",
       "      <td>18680.639943</td>\n",
       "      <td>195.984169</td>\n",
       "      <td>6.759</td>\n",
       "      <td>False</td>\n",
       "      <td>25813.700331</td>\n",
       "    </tr>\n",
       "    <tr>\n",
       "      <th>31</th>\n",
       "      <td>31</td>\n",
       "      <td>28</td>\n",
       "      <td>2</td>\n",
       "      <td>18/05/2012</td>\n",
       "      <td>496273.415525</td>\n",
       "      <td>False</td>\n",
       "      <td>71.976634</td>\n",
       "      <td>4.110</td>\n",
       "      <td>28177.434972</td>\n",
       "      <td>34013.197245</td>\n",
       "      <td>3464.379456</td>\n",
       "      <td>6613.514886</td>\n",
       "      <td>12221.384121</td>\n",
       "      <td>131.098323</td>\n",
       "      <td>11.627</td>\n",
       "      <td>False</td>\n",
       "      <td>16897.982136</td>\n",
       "    </tr>\n",
       "    <tr>\n",
       "      <th>32</th>\n",
       "      <td>32</td>\n",
       "      <td>18</td>\n",
       "      <td>27</td>\n",
       "      <td>24/12/2010</td>\n",
       "      <td>115095.817358</td>\n",
       "      <td>False</td>\n",
       "      <td>57.922620</td>\n",
       "      <td>3.150</td>\n",
       "      <td>57359.317721</td>\n",
       "      <td>17672.732537</td>\n",
       "      <td>33821.890732</td>\n",
       "      <td>21817.820253</td>\n",
       "      <td>4445.227127</td>\n",
       "      <td>132.747742</td>\n",
       "      <td>9.331</td>\n",
       "      <td>False</td>\n",
       "      <td>27023.397674</td>\n",
       "    </tr>\n",
       "    <tr>\n",
       "      <th>33</th>\n",
       "      <td>33</td>\n",
       "      <td>23</td>\n",
       "      <td>59</td>\n",
       "      <td>28/10/2011</td>\n",
       "      <td>244965.215954</td>\n",
       "      <td>False</td>\n",
       "      <td>27.618366</td>\n",
       "      <td>3.604</td>\n",
       "      <td>55849.639115</td>\n",
       "      <td>42876.515899</td>\n",
       "      <td>25835.966048</td>\n",
       "      <td>15912.359567</td>\n",
       "      <td>17886.549820</td>\n",
       "      <td>136.488452</td>\n",
       "      <td>4.420</td>\n",
       "      <td>False</td>\n",
       "      <td>31672.206090</td>\n",
       "    </tr>\n",
       "    <tr>\n",
       "      <th>34</th>\n",
       "      <td>34</td>\n",
       "      <td>23</td>\n",
       "      <td>93</td>\n",
       "      <td>19/10/2012</td>\n",
       "      <td>151738.075188</td>\n",
       "      <td>False</td>\n",
       "      <td>0.345076</td>\n",
       "      <td>4.000</td>\n",
       "      <td>66683.927343</td>\n",
       "      <td>29009.093228</td>\n",
       "      <td>13221.169667</td>\n",
       "      <td>11339.533544</td>\n",
       "      <td>13433.493131</td>\n",
       "      <td>138.833613</td>\n",
       "      <td>4.145</td>\n",
       "      <td>False</td>\n",
       "      <td>26737.443383</td>\n",
       "    </tr>\n",
       "    <tr>\n",
       "      <th>35</th>\n",
       "      <td>35</td>\n",
       "      <td>11</td>\n",
       "      <td>21</td>\n",
       "      <td>13/05/2011</td>\n",
       "      <td>466532.866774</td>\n",
       "      <td>False</td>\n",
       "      <td>2.730256</td>\n",
       "      <td>3.899</td>\n",
       "      <td>26067.158688</td>\n",
       "      <td>13208.016173</td>\n",
       "      <td>32668.769799</td>\n",
       "      <td>11602.499765</td>\n",
       "      <td>15649.014713</td>\n",
       "      <td>219.368356</td>\n",
       "      <td>7.574</td>\n",
       "      <td>False</td>\n",
       "      <td>19839.091827</td>\n",
       "    </tr>\n",
       "    <tr>\n",
       "      <th>36</th>\n",
       "      <td>36</td>\n",
       "      <td>26</td>\n",
       "      <td>55</td>\n",
       "      <td>28/09/2012</td>\n",
       "      <td>558490.605774</td>\n",
       "      <td>False</td>\n",
       "      <td>93.180058</td>\n",
       "      <td>4.018</td>\n",
       "      <td>75843.454194</td>\n",
       "      <td>37646.026619</td>\n",
       "      <td>29973.329878</td>\n",
       "      <td>21698.722452</td>\n",
       "      <td>5906.404336</td>\n",
       "      <td>138.739500</td>\n",
       "      <td>7.405</td>\n",
       "      <td>False</td>\n",
       "      <td>34213.587496</td>\n",
       "    </tr>\n",
       "    <tr>\n",
       "      <th>37</th>\n",
       "      <td>37</td>\n",
       "      <td>34</td>\n",
       "      <td>26</td>\n",
       "      <td>14/01/2011</td>\n",
       "      <td>205409.740709</td>\n",
       "      <td>False</td>\n",
       "      <td>65.538864</td>\n",
       "      <td>2.992</td>\n",
       "      <td>80628.805487</td>\n",
       "      <td>45837.080760</td>\n",
       "      <td>5966.305668</td>\n",
       "      <td>16796.632241</td>\n",
       "      <td>3043.342973</td>\n",
       "      <td>127.300935</td>\n",
       "      <td>10.398</td>\n",
       "      <td>False</td>\n",
       "      <td>30454.433426</td>\n",
       "    </tr>\n",
       "    <tr>\n",
       "      <th>38</th>\n",
       "      <td>38</td>\n",
       "      <td>6</td>\n",
       "      <td>28</td>\n",
       "      <td>12/08/2011</td>\n",
       "      <td>138892.705488</td>\n",
       "      <td>False</td>\n",
       "      <td>80.894845</td>\n",
       "      <td>3.638</td>\n",
       "      <td>87378.773990</td>\n",
       "      <td>2178.644478</td>\n",
       "      <td>33315.422349</td>\n",
       "      <td>5407.039920</td>\n",
       "      <td>2625.128936</td>\n",
       "      <td>217.143828</td>\n",
       "      <td>6.925</td>\n",
       "      <td>False</td>\n",
       "      <td>26181.001934</td>\n",
       "    </tr>\n",
       "    <tr>\n",
       "      <th>39</th>\n",
       "      <td>39</td>\n",
       "      <td>3</td>\n",
       "      <td>11</td>\n",
       "      <td>27/07/2012</td>\n",
       "      <td>40542.176288</td>\n",
       "      <td>False</td>\n",
       "      <td>85.106935</td>\n",
       "      <td>3.407</td>\n",
       "      <td>20044.793851</td>\n",
       "      <td>5683.043138</td>\n",
       "      <td>34202.989018</td>\n",
       "      <td>2847.867501</td>\n",
       "      <td>19341.483682</td>\n",
       "      <td>225.453758</td>\n",
       "      <td>6.334</td>\n",
       "      <td>False</td>\n",
       "      <td>16424.035438</td>\n",
       "    </tr>\n",
       "    <tr>\n",
       "      <th>40</th>\n",
       "      <td>40</td>\n",
       "      <td>29</td>\n",
       "      <td>58</td>\n",
       "      <td>20/08/2010</td>\n",
       "      <td>463575.497373</td>\n",
       "      <td>False</td>\n",
       "      <td>1.941136</td>\n",
       "      <td>2.796</td>\n",
       "      <td>5487.438185</td>\n",
       "      <td>19044.614240</td>\n",
       "      <td>16409.260943</td>\n",
       "      <td>15540.983756</td>\n",
       "      <td>16906.743927</td>\n",
       "      <td>132.661613</td>\n",
       "      <td>10.409</td>\n",
       "      <td>False</td>\n",
       "      <td>14677.808210</td>\n",
       "    </tr>\n",
       "    <tr>\n",
       "      <th>41</th>\n",
       "      <td>41</td>\n",
       "      <td>38</td>\n",
       "      <td>33</td>\n",
       "      <td>18/02/2011</td>\n",
       "      <td>196851.093025</td>\n",
       "      <td>False</td>\n",
       "      <td>98.616371</td>\n",
       "      <td>3.430</td>\n",
       "      <td>52179.637385</td>\n",
       "      <td>46299.677803</td>\n",
       "      <td>16560.625658</td>\n",
       "      <td>2607.964812</td>\n",
       "      <td>20808.212431</td>\n",
       "      <td>127.995250</td>\n",
       "      <td>14.021</td>\n",
       "      <td>False</td>\n",
       "      <td>27691.223618</td>\n",
       "    </tr>\n",
       "    <tr>\n",
       "      <th>42</th>\n",
       "      <td>42</td>\n",
       "      <td>25</td>\n",
       "      <td>2</td>\n",
       "      <td>16/09/2011</td>\n",
       "      <td>112670.307851</td>\n",
       "      <td>False</td>\n",
       "      <td>28.589517</td>\n",
       "      <td>3.742</td>\n",
       "      <td>82449.554572</td>\n",
       "      <td>1153.834227</td>\n",
       "      <td>267.811078</td>\n",
       "      <td>18222.735129</td>\n",
       "      <td>15431.234597</td>\n",
       "      <td>209.189389</td>\n",
       "      <td>7.274</td>\n",
       "      <td>False</td>\n",
       "      <td>23505.033921</td>\n",
       "    </tr>\n",
       "    <tr>\n",
       "      <th>43</th>\n",
       "      <td>43</td>\n",
       "      <td>13</td>\n",
       "      <td>42</td>\n",
       "      <td>25/02/2011</td>\n",
       "      <td>298515.039013</td>\n",
       "      <td>False</td>\n",
       "      <td>53.346024</td>\n",
       "      <td>3.120</td>\n",
       "      <td>72799.491167</td>\n",
       "      <td>32452.527142</td>\n",
       "      <td>13017.939528</td>\n",
       "      <td>1886.821038</td>\n",
       "      <td>11109.459451</td>\n",
       "      <td>128.130000</td>\n",
       "      <td>7.470</td>\n",
       "      <td>False</td>\n",
       "      <td>26253.247665</td>\n",
       "    </tr>\n",
       "    <tr>\n",
       "      <th>44</th>\n",
       "      <td>44</td>\n",
       "      <td>18</td>\n",
       "      <td>29</td>\n",
       "      <td>01/04/2011</td>\n",
       "      <td>133058.443310</td>\n",
       "      <td>False</td>\n",
       "      <td>-0.149522</td>\n",
       "      <td>3.638</td>\n",
       "      <td>85174.172089</td>\n",
       "      <td>48036.630231</td>\n",
       "      <td>8065.173014</td>\n",
       "      <td>20704.198015</td>\n",
       "      <td>2978.701121</td>\n",
       "      <td>134.068258</td>\n",
       "      <td>8.975</td>\n",
       "      <td>False</td>\n",
       "      <td>32991.774894</td>\n",
       "    </tr>\n",
       "    <tr>\n",
       "      <th>45</th>\n",
       "      <td>45</td>\n",
       "      <td>36</td>\n",
       "      <td>18</td>\n",
       "      <td>14/01/2011</td>\n",
       "      <td>501732.033675</td>\n",
       "      <td>False</td>\n",
       "      <td>82.970891</td>\n",
       "      <td>2.971</td>\n",
       "      <td>18841.790177</td>\n",
       "      <td>488.964383</td>\n",
       "      <td>233.535025</td>\n",
       "      <td>8580.229801</td>\n",
       "      <td>1383.827162</td>\n",
       "      <td>210.237973</td>\n",
       "      <td>8.395</td>\n",
       "      <td>False</td>\n",
       "      <td>5905.669310</td>\n",
       "    </tr>\n",
       "    <tr>\n",
       "      <th>46</th>\n",
       "      <td>46</td>\n",
       "      <td>8</td>\n",
       "      <td>52</td>\n",
       "      <td>16/12/2011</td>\n",
       "      <td>511344.300626</td>\n",
       "      <td>False</td>\n",
       "      <td>36.136754</td>\n",
       "      <td>3.159</td>\n",
       "      <td>72292.901308</td>\n",
       "      <td>15653.710066</td>\n",
       "      <td>32585.588262</td>\n",
       "      <td>11357.537119</td>\n",
       "      <td>19097.818311</td>\n",
       "      <td>222.691096</td>\n",
       "      <td>6.123</td>\n",
       "      <td>False</td>\n",
       "      <td>30197.511013</td>\n",
       "    </tr>\n",
       "    <tr>\n",
       "      <th>47</th>\n",
       "      <td>47</td>\n",
       "      <td>4</td>\n",
       "      <td>17</td>\n",
       "      <td>01/07/2011</td>\n",
       "      <td>658657.978555</td>\n",
       "      <td>False</td>\n",
       "      <td>85.333454</td>\n",
       "      <td>3.504</td>\n",
       "      <td>59798.190056</td>\n",
       "      <td>3377.202496</td>\n",
       "      <td>31290.463833</td>\n",
       "      <td>13699.070322</td>\n",
       "      <td>10272.478417</td>\n",
       "      <td>129.089400</td>\n",
       "      <td>5.644</td>\n",
       "      <td>False</td>\n",
       "      <td>23687.481025</td>\n",
       "    </tr>\n",
       "    <tr>\n",
       "      <th>48</th>\n",
       "      <td>48</td>\n",
       "      <td>7</td>\n",
       "      <td>35</td>\n",
       "      <td>28/01/2011</td>\n",
       "      <td>177237.663564</td>\n",
       "      <td>False</td>\n",
       "      <td>92.484757</td>\n",
       "      <td>3.008</td>\n",
       "      <td>71416.875576</td>\n",
       "      <td>34844.951798</td>\n",
       "      <td>8750.521834</td>\n",
       "      <td>1343.330396</td>\n",
       "      <td>6494.481788</td>\n",
       "      <td>191.667891</td>\n",
       "      <td>8.818</td>\n",
       "      <td>False</td>\n",
       "      <td>24570.032278</td>\n",
       "    </tr>\n",
       "    <tr>\n",
       "      <th>49</th>\n",
       "      <td>49</td>\n",
       "      <td>45</td>\n",
       "      <td>97</td>\n",
       "      <td>21/05/2010</td>\n",
       "      <td>457611.075096</td>\n",
       "      <td>False</td>\n",
       "      <td>5.215949</td>\n",
       "      <td>2.958</td>\n",
       "      <td>61143.993935</td>\n",
       "      <td>49082.388558</td>\n",
       "      <td>29321.515440</td>\n",
       "      <td>21489.280516</td>\n",
       "      <td>17027.668492</td>\n",
       "      <td>181.853849</td>\n",
       "      <td>8.899</td>\n",
       "      <td>False</td>\n",
       "      <td>35612.969388</td>\n",
       "    </tr>\n",
       "  </tbody>\n",
       "</table>\n",
       "</div>"
      ],
      "text/plain": [
       "    Unnamed: 0  Store  Dept        Date   Weekly_Sales  IsHoliday_x  \\\n",
       "0            0      5    16  16/09/2011  564312.734549        False   \n",
       "1            1     21    52  24/06/2011  169199.146654        False   \n",
       "2            2      9    24  27/01/2012   76445.807545        False   \n",
       "3            3      6    60  05/08/2011  529384.632399        False   \n",
       "4            4     17    42  23/12/2011  590421.125970        False   \n",
       "5            5     31    87  24/08/2012  556894.615504        False   \n",
       "6            6     21    83  19/03/2010  682722.852234        False   \n",
       "7            7      4    29  30/09/2011   70387.018913        False   \n",
       "8            8     20    16  24/12/2010  326232.854841        False   \n",
       "9            9     22    46  27/05/2011  436981.323825        False   \n",
       "10          10      3    10  01/06/2012  262010.005704        False   \n",
       "11          11     40    52  30/09/2011  244885.308147        False   \n",
       "12          12     15    67  04/02/2011  597439.476292        False   \n",
       "13          13     41     6  21/01/2011   21762.861684        False   \n",
       "14          14      7    11  26/10/2012  243937.781590        False   \n",
       "15          15     35    16  30/03/2012  219614.970611        False   \n",
       "16          16     37    60  11/11/2011  431847.309472        False   \n",
       "17          17     41    17  03/02/2012  154808.001476        False   \n",
       "18          18     34    85  11/11/2011  433842.256150        False   \n",
       "19          19     23    18  05/10/2012  160021.579843        False   \n",
       "20          20     44    95  10/06/2011  209307.539122        False   \n",
       "21          21     27    50  10/02/2012  625880.623167         True   \n",
       "22          22     37    12  26/03/2010  573752.531842        False   \n",
       "23          23     26     4  27/01/2012  157487.926303        False   \n",
       "24          24     38     3  23/12/2011  111586.263927        False   \n",
       "25          25     29    93  13/07/2012  579914.681875        False   \n",
       "26          26     29    97  06/01/2012   54620.024555        False   \n",
       "27          27     31    67  23/04/2010  231845.276554        False   \n",
       "28          28     11    98  30/04/2010  154893.144937        False   \n",
       "29          29     10    28  14/05/2010  180546.910106        False   \n",
       "30          30     41    10  16/12/2011   11877.665598        False   \n",
       "31          31     28     2  18/05/2012  496273.415525        False   \n",
       "32          32     18    27  24/12/2010  115095.817358        False   \n",
       "33          33     23    59  28/10/2011  244965.215954        False   \n",
       "34          34     23    93  19/10/2012  151738.075188        False   \n",
       "35          35     11    21  13/05/2011  466532.866774        False   \n",
       "36          36     26    55  28/09/2012  558490.605774        False   \n",
       "37          37     34    26  14/01/2011  205409.740709        False   \n",
       "38          38      6    28  12/08/2011  138892.705488        False   \n",
       "39          39      3    11  27/07/2012   40542.176288        False   \n",
       "40          40     29    58  20/08/2010  463575.497373        False   \n",
       "41          41     38    33  18/02/2011  196851.093025        False   \n",
       "42          42     25     2  16/09/2011  112670.307851        False   \n",
       "43          43     13    42  25/02/2011  298515.039013        False   \n",
       "44          44     18    29  01/04/2011  133058.443310        False   \n",
       "45          45     36    18  14/01/2011  501732.033675        False   \n",
       "46          46      8    52  16/12/2011  511344.300626        False   \n",
       "47          47      4    17  01/07/2011  658657.978555        False   \n",
       "48          48      7    35  28/01/2011  177237.663564        False   \n",
       "49          49     45    97  21/05/2010  457611.075096        False   \n",
       "\n",
       "    Temperature  Fuel_Price     MarkDown1     MarkDown2     MarkDown3  \\\n",
       "0     32.687061       3.526   9691.276227    464.157260  21484.678945   \n",
       "1     59.608361       3.594  35052.144316  33433.615110  23406.818748   \n",
       "2     16.623822       3.290  13763.521756  33784.341040  26138.012756   \n",
       "3     36.466380       3.684   7446.306499   2438.613334   5175.440486   \n",
       "4     92.396503       3.186   2679.329519   9565.582845  23651.312194   \n",
       "5     43.412585       3.620  74319.059467  37408.818862  18482.402292   \n",
       "6     52.963927       2.720  78985.685314  31341.343607  12708.044607   \n",
       "7     74.145519       3.371   9436.763466  41393.898678  29216.144403   \n",
       "8     26.041172       3.141   3564.696521   5771.074248  18289.236301   \n",
       "9     28.162576       4.034  85035.636423   4078.768416  20681.908333   \n",
       "10    87.287100       3.501  68165.438344  32955.483257  25386.696655   \n",
       "11    32.901161       3.684  86637.610910  24985.340923   5546.808829   \n",
       "12    13.863387       3.400  48607.327856  21140.521825  17080.642989   \n",
       "13    82.433748       2.973  44492.831319   9563.584851  10231.515780   \n",
       "14    18.991381       3.686  68768.551238  17959.738011   8206.829970   \n",
       "15    47.289898       3.953  51608.465583   6167.144619   9596.958459   \n",
       "16    40.998177       3.297   4514.646305   2850.799142    980.794296   \n",
       "17    78.219679       3.031  54748.628892  47044.143155  32531.315422   \n",
       "18    26.881639       3.286  16472.971548  37664.435393  11569.390116   \n",
       "19    26.845899       4.027    166.671403  13363.153640  24629.672144   \n",
       "20    94.118798       3.732  81088.136541  14674.109508  13953.388248   \n",
       "21    99.921138       3.826  52703.320986  27782.877055   7370.027365   \n",
       "22    37.803007       2.732  17141.690092  30143.196551  21257.459041   \n",
       "23     0.002665       3.568  67435.079172   2518.438021  23840.184049   \n",
       "24    79.670915       3.541  14073.469858  25746.538454  28457.231729   \n",
       "25    34.904169       3.561  78434.314461  15361.617666  33303.161397   \n",
       "26    98.120004       3.439  14630.185589  20479.471637  24777.445588   \n",
       "27    98.774804       2.795  24514.662087  32799.882668  23322.991193   \n",
       "28    97.157213       2.780  26731.304903   1195.350178  15649.022800   \n",
       "29    74.121840       3.145  55203.851782  46391.259418  19547.936623   \n",
       "30    90.401020       3.266  65440.658718  22937.953981   9300.833762   \n",
       "31    71.976634       4.110  28177.434972  34013.197245   3464.379456   \n",
       "32    57.922620       3.150  57359.317721  17672.732537  33821.890732   \n",
       "33    27.618366       3.604  55849.639115  42876.515899  25835.966048   \n",
       "34     0.345076       4.000  66683.927343  29009.093228  13221.169667   \n",
       "35     2.730256       3.899  26067.158688  13208.016173  32668.769799   \n",
       "36    93.180058       4.018  75843.454194  37646.026619  29973.329878   \n",
       "37    65.538864       2.992  80628.805487  45837.080760   5966.305668   \n",
       "38    80.894845       3.638  87378.773990   2178.644478  33315.422349   \n",
       "39    85.106935       3.407  20044.793851   5683.043138  34202.989018   \n",
       "40     1.941136       2.796   5487.438185  19044.614240  16409.260943   \n",
       "41    98.616371       3.430  52179.637385  46299.677803  16560.625658   \n",
       "42    28.589517       3.742  82449.554572   1153.834227    267.811078   \n",
       "43    53.346024       3.120  72799.491167  32452.527142  13017.939528   \n",
       "44    -0.149522       3.638  85174.172089  48036.630231   8065.173014   \n",
       "45    82.970891       2.971  18841.790177    488.964383    233.535025   \n",
       "46    36.136754       3.159  72292.901308  15653.710066  32585.588262   \n",
       "47    85.333454       3.504  59798.190056   3377.202496  31290.463833   \n",
       "48    92.484757       3.008  71416.875576  34844.951798   8750.521834   \n",
       "49     5.215949       2.958  61143.993935  49082.388558  29321.515440   \n",
       "\n",
       "       MarkDown4     MarkDown5         CPI  Unemployment  IsHoliday_y  \\\n",
       "0   15838.706634  10074.683942  216.603308         6.529        False   \n",
       "1   10586.568174  18348.012177  214.744111         7.931        False   \n",
       "2   21585.291347   1582.360568  223.806053         5.667        False   \n",
       "3   10227.979090   8692.253401  217.083989         6.925        False   \n",
       "4   12981.884477  10443.878610  129.984548         6.617        False   \n",
       "5   20620.695196   3846.379089  221.808352         6.565        False   \n",
       "6    5875.072096    688.137256  210.873332         8.324        False   \n",
       "7   15784.237223   7165.225061  129.606067         5.644        False   \n",
       "8    4481.732712    405.051798  204.637673         7.484        False   \n",
       "9    3242.237108  12731.765498  138.678283         8.252        False   \n",
       "10  16291.554344  17766.078476  225.251831         6.664        False   \n",
       "11    348.902159  12148.381610  136.419500         4.584        False   \n",
       "12   1109.902447  17680.890372  133.183419         7.771        False   \n",
       "13   4841.751133   2060.544355  191.573192         7.241        False   \n",
       "14  12533.552172  10992.028807  199.219532         7.557        False   \n",
       "15  19047.399146  12542.075325  141.699086         8.744        False   \n",
       "16   9873.050902  16663.598006  216.721737         7.716        False   \n",
       "17   4190.329120   4041.800039  196.872892         6.589        False   \n",
       "18  15048.630322  21057.475019  129.816710        10.148        False   \n",
       "19  10126.405370   5018.466604  138.825600         4.145        False   \n",
       "20   9197.663242  19270.023485  129.035710         6.906        False   \n",
       "21  13106.300265  13728.596912  141.119983         8.009         True   \n",
       "22   9666.240429  13644.232916  209.787093         8.554        False   \n",
       "23   2921.949577   7184.037531  136.959839         7.467        False   \n",
       "24   8654.210020   7492.003226  129.984548        12.890        False   \n",
       "25    857.291575   2623.034367  138.263000         9.419        False   \n",
       "26  12391.517637   8830.810795  136.698129         8.988        False   \n",
       "27   1922.123283  11962.469723  210.100065         8.200        False   \n",
       "28   9573.876685  13488.984475  213.671682         7.343        False   \n",
       "29   9635.510974  17262.441312  126.208548         9.524        False   \n",
       "30  12708.415250  18680.639943  195.984169         6.759        False   \n",
       "31   6613.514886  12221.384121  131.098323        11.627        False   \n",
       "32  21817.820253   4445.227127  132.747742         9.331        False   \n",
       "33  15912.359567  17886.549820  136.488452         4.420        False   \n",
       "34  11339.533544  13433.493131  138.833613         4.145        False   \n",
       "35  11602.499765  15649.014713  219.368356         7.574        False   \n",
       "36  21698.722452   5906.404336  138.739500         7.405        False   \n",
       "37  16796.632241   3043.342973  127.300935        10.398        False   \n",
       "38   5407.039920   2625.128936  217.143828         6.925        False   \n",
       "39   2847.867501  19341.483682  225.453758         6.334        False   \n",
       "40  15540.983756  16906.743927  132.661613        10.409        False   \n",
       "41   2607.964812  20808.212431  127.995250        14.021        False   \n",
       "42  18222.735129  15431.234597  209.189389         7.274        False   \n",
       "43   1886.821038  11109.459451  128.130000         7.470        False   \n",
       "44  20704.198015   2978.701121  134.068258         8.975        False   \n",
       "45   8580.229801   1383.827162  210.237973         8.395        False   \n",
       "46  11357.537119  19097.818311  222.691096         6.123        False   \n",
       "47  13699.070322  10272.478417  129.089400         5.644        False   \n",
       "48   1343.330396   6494.481788  191.667891         8.818        False   \n",
       "49  21489.280516  17027.668492  181.853849         8.899        False   \n",
       "\n",
       "       MarkDowns  \n",
       "0   11510.700602  \n",
       "1   24165.431705  \n",
       "2   19370.705493  \n",
       "3    6796.118562  \n",
       "4   11864.397529  \n",
       "5   30935.470981  \n",
       "6   25919.656576  \n",
       "7   20599.253766  \n",
       "8    6502.358316  \n",
       "9   25154.063156  \n",
       "10  32113.050215  \n",
       "11  25933.408886  \n",
       "12  21123.857098  \n",
       "13  14238.045488  \n",
       "14  23692.140040  \n",
       "15  19792.408626  \n",
       "16   6976.577730  \n",
       "17  28511.243326  \n",
       "18  20362.580480  \n",
       "19  10660.873832  \n",
       "20  27636.664205  \n",
       "21  22938.224516  \n",
       "22  18370.563806  \n",
       "23  20779.937670  \n",
       "24  16884.690657  \n",
       "25  26115.883893  \n",
       "26  16221.886249  \n",
       "27  18904.425791  \n",
       "28  13327.707808  \n",
       "29  29608.200022  \n",
       "30  25813.700331  \n",
       "31  16897.982136  \n",
       "32  27023.397674  \n",
       "33  31672.206090  \n",
       "34  26737.443383  \n",
       "35  19839.091827  \n",
       "36  34213.587496  \n",
       "37  30454.433426  \n",
       "38  26181.001934  \n",
       "39  16424.035438  \n",
       "40  14677.808210  \n",
       "41  27691.223618  \n",
       "42  23505.033921  \n",
       "43  26253.247665  \n",
       "44  32991.774894  \n",
       "45   5905.669310  \n",
       "46  30197.511013  \n",
       "47  23687.481025  \n",
       "48  24570.032278  \n",
       "49  35612.969388  "
      ]
     },
     "execution_count": 98,
     "metadata": {},
     "output_type": "execute_result"
    }
   ],
   "source": [
    "Tabla_1['MarkDowns'] = Tabla_1[['MarkDown1', 'MarkDown2','MarkDown3','MarkDown4','MarkDown5']].mean(axis=1)\n",
    "Tabla_1"
   ]
  },
  {
   "cell_type": "code",
   "execution_count": 99,
   "metadata": {
    "id": "sv7Ict19Eoh-"
   },
   "outputs": [],
   "source": [
    "Tabla_1_processed = Tabla_1.drop(columns = ['MarkDown1', 'MarkDown2','MarkDown3','MarkDown4','MarkDown5'])"
   ]
  },
  {
   "cell_type": "code",
   "execution_count": 100,
   "metadata": {
    "colab": {
     "base_uri": "https://localhost:8080/",
     "height": 279
    },
    "id": "NBD49fkjEoh_",
    "outputId": "54a07bd5-0c30-495f-9d83-1791034a6fec"
   },
   "outputs": [
    {
     "data": {
      "image/png": "[encoded data removed]",
      "text/plain": [
       "<Figure size 432x288 with 1 Axes>"
      ]
     },
     "metadata": {
      "needs_background": "light"
     },
     "output_type": "display_data"
    }
   ],
   "source": [
    "Tabla_1_processed.plot(kind = 'scatter', x = 'Store', y =  'Weekly_Sales')\n",
    "plt.show()"
   ]
  },
  {
   "cell_type": "code",
   "execution_count": 101,
   "metadata": {
    "id": "3KzCcGM6EoiA"
   },
   "outputs": [],
   "source": [
    "#a continuación se separan los datos de los días festivos para analizarlos por separado.\n",
    "Tabla_1_processed_Holiday = Tabla_1_processed.query('IsHoliday_x == True')\n",
    "Tabla_1_processed_No_Holiday = Tabla_1_processed.query('IsHoliday_x == False')"
   ]
  },
  {
   "cell_type": "code",
   "execution_count": 102,
   "metadata": {
    "colab": {
     "base_uri": "https://localhost:8080/",
     "height": 125
    },
    "id": "dPMqmJy1uh5f",
    "outputId": "cefd25e8-0c25-4eb1-8353-2c57837eb5c0"
   },
   "outputs": [
    {
     "data": {
      "text/html": [
       "<div>\n",
       "<style scoped>\n",
       "    .dataframe tbody tr th:only-of-type {\n",
       "        vertical-align: middle;\n",
       "    }\n",
       "\n",
       "    .dataframe tbody tr th {\n",
       "        vertical-align: top;\n",
       "    }\n",
       "\n",
       "    .dataframe thead th {\n",
       "        text-align: right;\n",
       "    }\n",
       "</style>\n",
       "<table border=\"1\" class=\"dataframe\">\n",
       "  <thead>\n",
       "    <tr style=\"text-align: right;\">\n",
       "      <th></th>\n",
       "      <th>Unnamed: 0</th>\n",
       "      <th>Store</th>\n",
       "      <th>Dept</th>\n",
       "      <th>Date</th>\n",
       "      <th>Weekly_Sales</th>\n",
       "      <th>IsHoliday_x</th>\n",
       "      <th>Temperature</th>\n",
       "      <th>Fuel_Price</th>\n",
       "      <th>CPI</th>\n",
       "      <th>Unemployment</th>\n",
       "      <th>IsHoliday_y</th>\n",
       "      <th>MarkDowns</th>\n",
       "    </tr>\n",
       "  </thead>\n",
       "  <tbody>\n",
       "    <tr>\n",
       "      <th>21</th>\n",
       "      <td>21</td>\n",
       "      <td>27</td>\n",
       "      <td>50</td>\n",
       "      <td>10/02/2012</td>\n",
       "      <td>625880.623167</td>\n",
       "      <td>True</td>\n",
       "      <td>99.921138</td>\n",
       "      <td>3.826</td>\n",
       "      <td>141.119983</td>\n",
       "      <td>8.009</td>\n",
       "      <td>True</td>\n",
       "      <td>22938.224516</td>\n",
       "    </tr>\n",
       "  </tbody>\n",
       "</table>\n",
       "</div>"
      ],
      "text/plain": [
       "    Unnamed: 0  Store  Dept        Date   Weekly_Sales  IsHoliday_x  \\\n",
       "21          21     27    50  10/02/2012  625880.623167         True   \n",
       "\n",
       "    Temperature  Fuel_Price         CPI  Unemployment  IsHoliday_y  \\\n",
       "21    99.921138       3.826  141.119983         8.009         True   \n",
       "\n",
       "       MarkDowns  \n",
       "21  22938.224516  "
      ]
     },
     "execution_count": 102,
     "metadata": {},
     "output_type": "execute_result"
    }
   ],
   "source": [
    "Tabla_1_processed_Holiday"
   ]
  },
  {
   "cell_type": "code",
   "execution_count": 103,
   "metadata": {
    "colab": {
     "base_uri": "https://localhost:8080/",
     "height": 1000
    },
    "id": "-bLRST0suk-b",
    "outputId": "5489d06c-2b59-4dac-86fc-da6193b21c04"
   },
   "outputs": [
    {
     "data": {
      "text/html": [
       "<div>\n",
       "<style scoped>\n",
       "    .dataframe tbody tr th:only-of-type {\n",
       "        vertical-align: middle;\n",
       "    }\n",
       "\n",
       "    .dataframe tbody tr th {\n",
       "        vertical-align: top;\n",
       "    }\n",
       "\n",
       "    .dataframe thead th {\n",
       "        text-align: right;\n",
       "    }\n",
       "</style>\n",
       "<table border=\"1\" class=\"dataframe\">\n",
       "  <thead>\n",
       "    <tr style=\"text-align: right;\">\n",
       "      <th></th>\n",
       "      <th>Unnamed: 0</th>\n",
       "      <th>Store</th>\n",
       "      <th>Dept</th>\n",
       "      <th>Date</th>\n",
       "      <th>Weekly_Sales</th>\n",
       "      <th>IsHoliday_x</th>\n",
       "      <th>Temperature</th>\n",
       "      <th>Fuel_Price</th>\n",
       "      <th>CPI</th>\n",
       "      <th>Unemployment</th>\n",
       "      <th>IsHoliday_y</th>\n",
       "      <th>MarkDowns</th>\n",
       "    </tr>\n",
       "  </thead>\n",
       "  <tbody>\n",
       "    <tr>\n",
       "      <th>0</th>\n",
       "      <td>0</td>\n",
       "      <td>5</td>\n",
       "      <td>16</td>\n",
       "      <td>16/09/2011</td>\n",
       "      <td>564312.734549</td>\n",
       "      <td>False</td>\n",
       "      <td>32.687061</td>\n",
       "      <td>3.526</td>\n",
       "      <td>216.603308</td>\n",
       "      <td>6.529</td>\n",
       "      <td>False</td>\n",
       "      <td>11510.700602</td>\n",
       "    </tr>\n",
       "    <tr>\n",
       "      <th>1</th>\n",
       "      <td>1</td>\n",
       "      <td>21</td>\n",
       "      <td>52</td>\n",
       "      <td>24/06/2011</td>\n",
       "      <td>169199.146654</td>\n",
       "      <td>False</td>\n",
       "      <td>59.608361</td>\n",
       "      <td>3.594</td>\n",
       "      <td>214.744111</td>\n",
       "      <td>7.931</td>\n",
       "      <td>False</td>\n",
       "      <td>24165.431705</td>\n",
       "    </tr>\n",
       "    <tr>\n",
       "      <th>2</th>\n",
       "      <td>2</td>\n",
       "      <td>9</td>\n",
       "      <td>24</td>\n",
       "      <td>27/01/2012</td>\n",
       "      <td>76445.807545</td>\n",
       "      <td>False</td>\n",
       "      <td>16.623822</td>\n",
       "      <td>3.290</td>\n",
       "      <td>223.806053</td>\n",
       "      <td>5.667</td>\n",
       "      <td>False</td>\n",
       "      <td>19370.705493</td>\n",
       "    </tr>\n",
       "    <tr>\n",
       "      <th>3</th>\n",
       "      <td>3</td>\n",
       "      <td>6</td>\n",
       "      <td>60</td>\n",
       "      <td>05/08/2011</td>\n",
       "      <td>529384.632399</td>\n",
       "      <td>False</td>\n",
       "      <td>36.466380</td>\n",
       "      <td>3.684</td>\n",
       "      <td>217.083989</td>\n",
       "      <td>6.925</td>\n",
       "      <td>False</td>\n",
       "      <td>6796.118562</td>\n",
       "    </tr>\n",
       "    <tr>\n",
       "      <th>4</th>\n",
       "      <td>4</td>\n",
       "      <td>17</td>\n",
       "      <td>42</td>\n",
       "      <td>23/12/2011</td>\n",
       "      <td>590421.125970</td>\n",
       "      <td>False</td>\n",
       "      <td>92.396503</td>\n",
       "      <td>3.186</td>\n",
       "      <td>129.984548</td>\n",
       "      <td>6.617</td>\n",
       "      <td>False</td>\n",
       "      <td>11864.397529</td>\n",
       "    </tr>\n",
       "    <tr>\n",
       "      <th>5</th>\n",
       "      <td>5</td>\n",
       "      <td>31</td>\n",
       "      <td>87</td>\n",
       "      <td>24/08/2012</td>\n",
       "      <td>556894.615504</td>\n",
       "      <td>False</td>\n",
       "      <td>43.412585</td>\n",
       "      <td>3.620</td>\n",
       "      <td>221.808352</td>\n",
       "      <td>6.565</td>\n",
       "      <td>False</td>\n",
       "      <td>30935.470981</td>\n",
       "    </tr>\n",
       "    <tr>\n",
       "      <th>6</th>\n",
       "      <td>6</td>\n",
       "      <td>21</td>\n",
       "      <td>83</td>\n",
       "      <td>19/03/2010</td>\n",
       "      <td>682722.852234</td>\n",
       "      <td>False</td>\n",
       "      <td>52.963927</td>\n",
       "      <td>2.720</td>\n",
       "      <td>210.873332</td>\n",
       "      <td>8.324</td>\n",
       "      <td>False</td>\n",
       "      <td>25919.656576</td>\n",
       "    </tr>\n",
       "    <tr>\n",
       "      <th>7</th>\n",
       "      <td>7</td>\n",
       "      <td>4</td>\n",
       "      <td>29</td>\n",
       "      <td>30/09/2011</td>\n",
       "      <td>70387.018913</td>\n",
       "      <td>False</td>\n",
       "      <td>74.145519</td>\n",
       "      <td>3.371</td>\n",
       "      <td>129.606067</td>\n",
       "      <td>5.644</td>\n",
       "      <td>False</td>\n",
       "      <td>20599.253766</td>\n",
       "    </tr>\n",
       "    <tr>\n",
       "      <th>8</th>\n",
       "      <td>8</td>\n",
       "      <td>20</td>\n",
       "      <td>16</td>\n",
       "      <td>24/12/2010</td>\n",
       "      <td>326232.854841</td>\n",
       "      <td>False</td>\n",
       "      <td>26.041172</td>\n",
       "      <td>3.141</td>\n",
       "      <td>204.637673</td>\n",
       "      <td>7.484</td>\n",
       "      <td>False</td>\n",
       "      <td>6502.358316</td>\n",
       "    </tr>\n",
       "    <tr>\n",
       "      <th>9</th>\n",
       "      <td>9</td>\n",
       "      <td>22</td>\n",
       "      <td>46</td>\n",
       "      <td>27/05/2011</td>\n",
       "      <td>436981.323825</td>\n",
       "      <td>False</td>\n",
       "      <td>28.162576</td>\n",
       "      <td>4.034</td>\n",
       "      <td>138.678283</td>\n",
       "      <td>8.252</td>\n",
       "      <td>False</td>\n",
       "      <td>25154.063156</td>\n",
       "    </tr>\n",
       "    <tr>\n",
       "      <th>10</th>\n",
       "      <td>10</td>\n",
       "      <td>3</td>\n",
       "      <td>10</td>\n",
       "      <td>01/06/2012</td>\n",
       "      <td>262010.005704</td>\n",
       "      <td>False</td>\n",
       "      <td>87.287100</td>\n",
       "      <td>3.501</td>\n",
       "      <td>225.251831</td>\n",
       "      <td>6.664</td>\n",
       "      <td>False</td>\n",
       "      <td>32113.050215</td>\n",
       "    </tr>\n",
       "    <tr>\n",
       "      <th>11</th>\n",
       "      <td>11</td>\n",
       "      <td>40</td>\n",
       "      <td>52</td>\n",
       "      <td>30/09/2011</td>\n",
       "      <td>244885.308147</td>\n",
       "      <td>False</td>\n",
       "      <td>32.901161</td>\n",
       "      <td>3.684</td>\n",
       "      <td>136.419500</td>\n",
       "      <td>4.584</td>\n",
       "      <td>False</td>\n",
       "      <td>25933.408886</td>\n",
       "    </tr>\n",
       "    <tr>\n",
       "      <th>12</th>\n",
       "      <td>12</td>\n",
       "      <td>15</td>\n",
       "      <td>67</td>\n",
       "      <td>04/02/2011</td>\n",
       "      <td>597439.476292</td>\n",
       "      <td>False</td>\n",
       "      <td>13.863387</td>\n",
       "      <td>3.400</td>\n",
       "      <td>133.183419</td>\n",
       "      <td>7.771</td>\n",
       "      <td>False</td>\n",
       "      <td>21123.857098</td>\n",
       "    </tr>\n",
       "    <tr>\n",
       "      <th>13</th>\n",
       "      <td>13</td>\n",
       "      <td>41</td>\n",
       "      <td>6</td>\n",
       "      <td>21/01/2011</td>\n",
       "      <td>21762.861684</td>\n",
       "      <td>False</td>\n",
       "      <td>82.433748</td>\n",
       "      <td>2.973</td>\n",
       "      <td>191.573192</td>\n",
       "      <td>7.241</td>\n",
       "      <td>False</td>\n",
       "      <td>14238.045488</td>\n",
       "    </tr>\n",
       "    <tr>\n",
       "      <th>14</th>\n",
       "      <td>14</td>\n",
       "      <td>7</td>\n",
       "      <td>11</td>\n",
       "      <td>26/10/2012</td>\n",
       "      <td>243937.781590</td>\n",
       "      <td>False</td>\n",
       "      <td>18.991381</td>\n",
       "      <td>3.686</td>\n",
       "      <td>199.219532</td>\n",
       "      <td>7.557</td>\n",
       "      <td>False</td>\n",
       "      <td>23692.140040</td>\n",
       "    </tr>\n",
       "    <tr>\n",
       "      <th>15</th>\n",
       "      <td>15</td>\n",
       "      <td>35</td>\n",
       "      <td>16</td>\n",
       "      <td>30/03/2012</td>\n",
       "      <td>219614.970611</td>\n",
       "      <td>False</td>\n",
       "      <td>47.289898</td>\n",
       "      <td>3.953</td>\n",
       "      <td>141.699086</td>\n",
       "      <td>8.744</td>\n",
       "      <td>False</td>\n",
       "      <td>19792.408626</td>\n",
       "    </tr>\n",
       "    <tr>\n",
       "      <th>16</th>\n",
       "      <td>16</td>\n",
       "      <td>37</td>\n",
       "      <td>60</td>\n",
       "      <td>11/11/2011</td>\n",
       "      <td>431847.309472</td>\n",
       "      <td>False</td>\n",
       "      <td>40.998177</td>\n",
       "      <td>3.297</td>\n",
       "      <td>216.721737</td>\n",
       "      <td>7.716</td>\n",
       "      <td>False</td>\n",
       "      <td>6976.577730</td>\n",
       "    </tr>\n",
       "    <tr>\n",
       "      <th>17</th>\n",
       "      <td>17</td>\n",
       "      <td>41</td>\n",
       "      <td>17</td>\n",
       "      <td>03/02/2012</td>\n",
       "      <td>154808.001476</td>\n",
       "      <td>False</td>\n",
       "      <td>78.219679</td>\n",
       "      <td>3.031</td>\n",
       "      <td>196.872892</td>\n",
       "      <td>6.589</td>\n",
       "      <td>False</td>\n",
       "      <td>28511.243326</td>\n",
       "    </tr>\n",
       "    <tr>\n",
       "      <th>18</th>\n",
       "      <td>18</td>\n",
       "      <td>34</td>\n",
       "      <td>85</td>\n",
       "      <td>11/11/2011</td>\n",
       "      <td>433842.256150</td>\n",
       "      <td>False</td>\n",
       "      <td>26.881639</td>\n",
       "      <td>3.286</td>\n",
       "      <td>129.816710</td>\n",
       "      <td>10.148</td>\n",
       "      <td>False</td>\n",
       "      <td>20362.580480</td>\n",
       "    </tr>\n",
       "    <tr>\n",
       "      <th>19</th>\n",
       "      <td>19</td>\n",
       "      <td>23</td>\n",
       "      <td>18</td>\n",
       "      <td>05/10/2012</td>\n",
       "      <td>160021.579843</td>\n",
       "      <td>False</td>\n",
       "      <td>26.845899</td>\n",
       "      <td>4.027</td>\n",
       "      <td>138.825600</td>\n",
       "      <td>4.145</td>\n",
       "      <td>False</td>\n",
       "      <td>10660.873832</td>\n",
       "    </tr>\n",
       "    <tr>\n",
       "      <th>20</th>\n",
       "      <td>20</td>\n",
       "      <td>44</td>\n",
       "      <td>95</td>\n",
       "      <td>10/06/2011</td>\n",
       "      <td>209307.539122</td>\n",
       "      <td>False</td>\n",
       "      <td>94.118798</td>\n",
       "      <td>3.732</td>\n",
       "      <td>129.035710</td>\n",
       "      <td>6.906</td>\n",
       "      <td>False</td>\n",
       "      <td>27636.664205</td>\n",
       "    </tr>\n",
       "    <tr>\n",
       "      <th>22</th>\n",
       "      <td>22</td>\n",
       "      <td>37</td>\n",
       "      <td>12</td>\n",
       "      <td>26/03/2010</td>\n",
       "      <td>573752.531842</td>\n",
       "      <td>False</td>\n",
       "      <td>37.803007</td>\n",
       "      <td>2.732</td>\n",
       "      <td>209.787093</td>\n",
       "      <td>8.554</td>\n",
       "      <td>False</td>\n",
       "      <td>18370.563806</td>\n",
       "    </tr>\n",
       "    <tr>\n",
       "      <th>23</th>\n",
       "      <td>23</td>\n",
       "      <td>26</td>\n",
       "      <td>4</td>\n",
       "      <td>27/01/2012</td>\n",
       "      <td>157487.926303</td>\n",
       "      <td>False</td>\n",
       "      <td>0.002665</td>\n",
       "      <td>3.568</td>\n",
       "      <td>136.959839</td>\n",
       "      <td>7.467</td>\n",
       "      <td>False</td>\n",
       "      <td>20779.937670</td>\n",
       "    </tr>\n",
       "    <tr>\n",
       "      <th>24</th>\n",
       "      <td>24</td>\n",
       "      <td>38</td>\n",
       "      <td>3</td>\n",
       "      <td>23/12/2011</td>\n",
       "      <td>111586.263927</td>\n",
       "      <td>False</td>\n",
       "      <td>79.670915</td>\n",
       "      <td>3.541</td>\n",
       "      <td>129.984548</td>\n",
       "      <td>12.890</td>\n",
       "      <td>False</td>\n",
       "      <td>16884.690657</td>\n",
       "    </tr>\n",
       "    <tr>\n",
       "      <th>25</th>\n",
       "      <td>25</td>\n",
       "      <td>29</td>\n",
       "      <td>93</td>\n",
       "      <td>13/07/2012</td>\n",
       "      <td>579914.681875</td>\n",
       "      <td>False</td>\n",
       "      <td>34.904169</td>\n",
       "      <td>3.561</td>\n",
       "      <td>138.263000</td>\n",
       "      <td>9.419</td>\n",
       "      <td>False</td>\n",
       "      <td>26115.883893</td>\n",
       "    </tr>\n",
       "    <tr>\n",
       "      <th>26</th>\n",
       "      <td>26</td>\n",
       "      <td>29</td>\n",
       "      <td>97</td>\n",
       "      <td>06/01/2012</td>\n",
       "      <td>54620.024555</td>\n",
       "      <td>False</td>\n",
       "      <td>98.120004</td>\n",
       "      <td>3.439</td>\n",
       "      <td>136.698129</td>\n",
       "      <td>8.988</td>\n",
       "      <td>False</td>\n",
       "      <td>16221.886249</td>\n",
       "    </tr>\n",
       "    <tr>\n",
       "      <th>27</th>\n",
       "      <td>27</td>\n",
       "      <td>31</td>\n",
       "      <td>67</td>\n",
       "      <td>23/04/2010</td>\n",
       "      <td>231845.276554</td>\n",
       "      <td>False</td>\n",
       "      <td>98.774804</td>\n",
       "      <td>2.795</td>\n",
       "      <td>210.100065</td>\n",
       "      <td>8.200</td>\n",
       "      <td>False</td>\n",
       "      <td>18904.425791</td>\n",
       "    </tr>\n",
       "    <tr>\n",
       "      <th>28</th>\n",
       "      <td>28</td>\n",
       "      <td>11</td>\n",
       "      <td>98</td>\n",
       "      <td>30/04/2010</td>\n",
       "      <td>154893.144937</td>\n",
       "      <td>False</td>\n",
       "      <td>97.157213</td>\n",
       "      <td>2.780</td>\n",
       "      <td>213.671682</td>\n",
       "      <td>7.343</td>\n",
       "      <td>False</td>\n",
       "      <td>13327.707808</td>\n",
       "    </tr>\n",
       "    <tr>\n",
       "      <th>29</th>\n",
       "      <td>29</td>\n",
       "      <td>10</td>\n",
       "      <td>28</td>\n",
       "      <td>14/05/2010</td>\n",
       "      <td>180546.910106</td>\n",
       "      <td>False</td>\n",
       "      <td>74.121840</td>\n",
       "      <td>3.145</td>\n",
       "      <td>126.208548</td>\n",
       "      <td>9.524</td>\n",
       "      <td>False</td>\n",
       "      <td>29608.200022</td>\n",
       "    </tr>\n",
       "    <tr>\n",
       "      <th>30</th>\n",
       "      <td>30</td>\n",
       "      <td>41</td>\n",
       "      <td>10</td>\n",
       "      <td>16/12/2011</td>\n",
       "      <td>11877.665598</td>\n",
       "      <td>False</td>\n",
       "      <td>90.401020</td>\n",
       "      <td>3.266</td>\n",
       "      <td>195.984169</td>\n",
       "      <td>6.759</td>\n",
       "      <td>False</td>\n",
       "      <td>25813.700331</td>\n",
       "    </tr>\n",
       "    <tr>\n",
       "      <th>31</th>\n",
       "      <td>31</td>\n",
       "      <td>28</td>\n",
       "      <td>2</td>\n",
       "      <td>18/05/2012</td>\n",
       "      <td>496273.415525</td>\n",
       "      <td>False</td>\n",
       "      <td>71.976634</td>\n",
       "      <td>4.110</td>\n",
       "      <td>131.098323</td>\n",
       "      <td>11.627</td>\n",
       "      <td>False</td>\n",
       "      <td>16897.982136</td>\n",
       "    </tr>\n",
       "    <tr>\n",
       "      <th>32</th>\n",
       "      <td>32</td>\n",
       "      <td>18</td>\n",
       "      <td>27</td>\n",
       "      <td>24/12/2010</td>\n",
       "      <td>115095.817358</td>\n",
       "      <td>False</td>\n",
       "      <td>57.922620</td>\n",
       "      <td>3.150</td>\n",
       "      <td>132.747742</td>\n",
       "      <td>9.331</td>\n",
       "      <td>False</td>\n",
       "      <td>27023.397674</td>\n",
       "    </tr>\n",
       "    <tr>\n",
       "      <th>33</th>\n",
       "      <td>33</td>\n",
       "      <td>23</td>\n",
       "      <td>59</td>\n",
       "      <td>28/10/2011</td>\n",
       "      <td>244965.215954</td>\n",
       "      <td>False</td>\n",
       "      <td>27.618366</td>\n",
       "      <td>3.604</td>\n",
       "      <td>136.488452</td>\n",
       "      <td>4.420</td>\n",
       "      <td>False</td>\n",
       "      <td>31672.206090</td>\n",
       "    </tr>\n",
       "    <tr>\n",
       "      <th>34</th>\n",
       "      <td>34</td>\n",
       "      <td>23</td>\n",
       "      <td>93</td>\n",
       "      <td>19/10/2012</td>\n",
       "      <td>151738.075188</td>\n",
       "      <td>False</td>\n",
       "      <td>0.345076</td>\n",
       "      <td>4.000</td>\n",
       "      <td>138.833613</td>\n",
       "      <td>4.145</td>\n",
       "      <td>False</td>\n",
       "      <td>26737.443383</td>\n",
       "    </tr>\n",
       "    <tr>\n",
       "      <th>35</th>\n",
       "      <td>35</td>\n",
       "      <td>11</td>\n",
       "      <td>21</td>\n",
       "      <td>13/05/2011</td>\n",
       "      <td>466532.866774</td>\n",
       "      <td>False</td>\n",
       "      <td>2.730256</td>\n",
       "      <td>3.899</td>\n",
       "      <td>219.368356</td>\n",
       "      <td>7.574</td>\n",
       "      <td>False</td>\n",
       "      <td>19839.091827</td>\n",
       "    </tr>\n",
       "    <tr>\n",
       "      <th>36</th>\n",
       "      <td>36</td>\n",
       "      <td>26</td>\n",
       "      <td>55</td>\n",
       "      <td>28/09/2012</td>\n",
       "      <td>558490.605774</td>\n",
       "      <td>False</td>\n",
       "      <td>93.180058</td>\n",
       "      <td>4.018</td>\n",
       "      <td>138.739500</td>\n",
       "      <td>7.405</td>\n",
       "      <td>False</td>\n",
       "      <td>34213.587496</td>\n",
       "    </tr>\n",
       "    <tr>\n",
       "      <th>37</th>\n",
       "      <td>37</td>\n",
       "      <td>34</td>\n",
       "      <td>26</td>\n",
       "      <td>14/01/2011</td>\n",
       "      <td>205409.740709</td>\n",
       "      <td>False</td>\n",
       "      <td>65.538864</td>\n",
       "      <td>2.992</td>\n",
       "      <td>127.300935</td>\n",
       "      <td>10.398</td>\n",
       "      <td>False</td>\n",
       "      <td>30454.433426</td>\n",
       "    </tr>\n",
       "    <tr>\n",
       "      <th>38</th>\n",
       "      <td>38</td>\n",
       "      <td>6</td>\n",
       "      <td>28</td>\n",
       "      <td>12/08/2011</td>\n",
       "      <td>138892.705488</td>\n",
       "      <td>False</td>\n",
       "      <td>80.894845</td>\n",
       "      <td>3.638</td>\n",
       "      <td>217.143828</td>\n",
       "      <td>6.925</td>\n",
       "      <td>False</td>\n",
       "      <td>26181.001934</td>\n",
       "    </tr>\n",
       "    <tr>\n",
       "      <th>39</th>\n",
       "      <td>39</td>\n",
       "      <td>3</td>\n",
       "      <td>11</td>\n",
       "      <td>27/07/2012</td>\n",
       "      <td>40542.176288</td>\n",
       "      <td>False</td>\n",
       "      <td>85.106935</td>\n",
       "      <td>3.407</td>\n",
       "      <td>225.453758</td>\n",
       "      <td>6.334</td>\n",
       "      <td>False</td>\n",
       "      <td>16424.035438</td>\n",
       "    </tr>\n",
       "    <tr>\n",
       "      <th>40</th>\n",
       "      <td>40</td>\n",
       "      <td>29</td>\n",
       "      <td>58</td>\n",
       "      <td>20/08/2010</td>\n",
       "      <td>463575.497373</td>\n",
       "      <td>False</td>\n",
       "      <td>1.941136</td>\n",
       "      <td>2.796</td>\n",
       "      <td>132.661613</td>\n",
       "      <td>10.409</td>\n",
       "      <td>False</td>\n",
       "      <td>14677.808210</td>\n",
       "    </tr>\n",
       "    <tr>\n",
       "      <th>41</th>\n",
       "      <td>41</td>\n",
       "      <td>38</td>\n",
       "      <td>33</td>\n",
       "      <td>18/02/2011</td>\n",
       "      <td>196851.093025</td>\n",
       "      <td>False</td>\n",
       "      <td>98.616371</td>\n",
       "      <td>3.430</td>\n",
       "      <td>127.995250</td>\n",
       "      <td>14.021</td>\n",
       "      <td>False</td>\n",
       "      <td>27691.223618</td>\n",
       "    </tr>\n",
       "    <tr>\n",
       "      <th>42</th>\n",
       "      <td>42</td>\n",
       "      <td>25</td>\n",
       "      <td>2</td>\n",
       "      <td>16/09/2011</td>\n",
       "      <td>112670.307851</td>\n",
       "      <td>False</td>\n",
       "      <td>28.589517</td>\n",
       "      <td>3.742</td>\n",
       "      <td>209.189389</td>\n",
       "      <td>7.274</td>\n",
       "      <td>False</td>\n",
       "      <td>23505.033921</td>\n",
       "    </tr>\n",
       "    <tr>\n",
       "      <th>43</th>\n",
       "      <td>43</td>\n",
       "      <td>13</td>\n",
       "      <td>42</td>\n",
       "      <td>25/02/2011</td>\n",
       "      <td>298515.039013</td>\n",
       "      <td>False</td>\n",
       "      <td>53.346024</td>\n",
       "      <td>3.120</td>\n",
       "      <td>128.130000</td>\n",
       "      <td>7.470</td>\n",
       "      <td>False</td>\n",
       "      <td>26253.247665</td>\n",
       "    </tr>\n",
       "    <tr>\n",
       "      <th>44</th>\n",
       "      <td>44</td>\n",
       "      <td>18</td>\n",
       "      <td>29</td>\n",
       "      <td>01/04/2011</td>\n",
       "      <td>133058.443310</td>\n",
       "      <td>False</td>\n",
       "      <td>-0.149522</td>\n",
       "      <td>3.638</td>\n",
       "      <td>134.068258</td>\n",
       "      <td>8.975</td>\n",
       "      <td>False</td>\n",
       "      <td>32991.774894</td>\n",
       "    </tr>\n",
       "    <tr>\n",
       "      <th>45</th>\n",
       "      <td>45</td>\n",
       "      <td>36</td>\n",
       "      <td>18</td>\n",
       "      <td>14/01/2011</td>\n",
       "      <td>501732.033675</td>\n",
       "      <td>False</td>\n",
       "      <td>82.970891</td>\n",
       "      <td>2.971</td>\n",
       "      <td>210.237973</td>\n",
       "      <td>8.395</td>\n",
       "      <td>False</td>\n",
       "      <td>5905.669310</td>\n",
       "    </tr>\n",
       "    <tr>\n",
       "      <th>46</th>\n",
       "      <td>46</td>\n",
       "      <td>8</td>\n",
       "      <td>52</td>\n",
       "      <td>16/12/2011</td>\n",
       "      <td>511344.300626</td>\n",
       "      <td>False</td>\n",
       "      <td>36.136754</td>\n",
       "      <td>3.159</td>\n",
       "      <td>222.691096</td>\n",
       "      <td>6.123</td>\n",
       "      <td>False</td>\n",
       "      <td>30197.511013</td>\n",
       "    </tr>\n",
       "    <tr>\n",
       "      <th>47</th>\n",
       "      <td>47</td>\n",
       "      <td>4</td>\n",
       "      <td>17</td>\n",
       "      <td>01/07/2011</td>\n",
       "      <td>658657.978555</td>\n",
       "      <td>False</td>\n",
       "      <td>85.333454</td>\n",
       "      <td>3.504</td>\n",
       "      <td>129.089400</td>\n",
       "      <td>5.644</td>\n",
       "      <td>False</td>\n",
       "      <td>23687.481025</td>\n",
       "    </tr>\n",
       "    <tr>\n",
       "      <th>48</th>\n",
       "      <td>48</td>\n",
       "      <td>7</td>\n",
       "      <td>35</td>\n",
       "      <td>28/01/2011</td>\n",
       "      <td>177237.663564</td>\n",
       "      <td>False</td>\n",
       "      <td>92.484757</td>\n",
       "      <td>3.008</td>\n",
       "      <td>191.667891</td>\n",
       "      <td>8.818</td>\n",
       "      <td>False</td>\n",
       "      <td>24570.032278</td>\n",
       "    </tr>\n",
       "    <tr>\n",
       "      <th>49</th>\n",
       "      <td>49</td>\n",
       "      <td>45</td>\n",
       "      <td>97</td>\n",
       "      <td>21/05/2010</td>\n",
       "      <td>457611.075096</td>\n",
       "      <td>False</td>\n",
       "      <td>5.215949</td>\n",
       "      <td>2.958</td>\n",
       "      <td>181.853849</td>\n",
       "      <td>8.899</td>\n",
       "      <td>False</td>\n",
       "      <td>35612.969388</td>\n",
       "    </tr>\n",
       "  </tbody>\n",
       "</table>\n",
       "</div>"
      ],
      "text/plain": [
       "    Unnamed: 0  Store  Dept        Date   Weekly_Sales  IsHoliday_x  \\\n",
       "0            0      5    16  16/09/2011  564312.734549        False   \n",
       "1            1     21    52  24/06/2011  169199.146654        False   \n",
       "2            2      9    24  27/01/2012   76445.807545        False   \n",
       "3            3      6    60  05/08/2011  529384.632399        False   \n",
       "4            4     17    42  23/12/2011  590421.125970        False   \n",
       "5            5     31    87  24/08/2012  556894.615504        False   \n",
       "6            6     21    83  19/03/2010  682722.852234        False   \n",
       "7            7      4    29  30/09/2011   70387.018913        False   \n",
       "8            8     20    16  24/12/2010  326232.854841        False   \n",
       "9            9     22    46  27/05/2011  436981.323825        False   \n",
       "10          10      3    10  01/06/2012  262010.005704        False   \n",
       "11          11     40    52  30/09/2011  244885.308147        False   \n",
       "12          12     15    67  04/02/2011  597439.476292        False   \n",
       "13          13     41     6  21/01/2011   21762.861684        False   \n",
       "14          14      7    11  26/10/2012  243937.781590        False   \n",
       "15          15     35    16  30/03/2012  219614.970611        False   \n",
       "16          16     37    60  11/11/2011  431847.309472        False   \n",
       "17          17     41    17  03/02/2012  154808.001476        False   \n",
       "18          18     34    85  11/11/2011  433842.256150        False   \n",
       "19          19     23    18  05/10/2012  160021.579843        False   \n",
       "20          20     44    95  10/06/2011  209307.539122        False   \n",
       "22          22     37    12  26/03/2010  573752.531842        False   \n",
       "23          23     26     4  27/01/2012  157487.926303        False   \n",
       "24          24     38     3  23/12/2011  111586.263927        False   \n",
       "25          25     29    93  13/07/2012  579914.681875        False   \n",
       "26          26     29    97  06/01/2012   54620.024555        False   \n",
       "27          27     31    67  23/04/2010  231845.276554        False   \n",
       "28          28     11    98  30/04/2010  154893.144937        False   \n",
       "29          29     10    28  14/05/2010  180546.910106        False   \n",
       "30          30     41    10  16/12/2011   11877.665598        False   \n",
       "31          31     28     2  18/05/2012  496273.415525        False   \n",
       "32          32     18    27  24/12/2010  115095.817358        False   \n",
       "33          33     23    59  28/10/2011  244965.215954        False   \n",
       "34          34     23    93  19/10/2012  151738.075188        False   \n",
       "35          35     11    21  13/05/2011  466532.866774        False   \n",
       "36          36     26    55  28/09/2012  558490.605774        False   \n",
       "37          37     34    26  14/01/2011  205409.740709        False   \n",
       "38          38      6    28  12/08/2011  138892.705488        False   \n",
       "39          39      3    11  27/07/2012   40542.176288        False   \n",
       "40          40     29    58  20/08/2010  463575.497373        False   \n",
       "41          41     38    33  18/02/2011  196851.093025        False   \n",
       "42          42     25     2  16/09/2011  112670.307851        False   \n",
       "43          43     13    42  25/02/2011  298515.039013        False   \n",
       "44          44     18    29  01/04/2011  133058.443310        False   \n",
       "45          45     36    18  14/01/2011  501732.033675        False   \n",
       "46          46      8    52  16/12/2011  511344.300626        False   \n",
       "47          47      4    17  01/07/2011  658657.978555        False   \n",
       "48          48      7    35  28/01/2011  177237.663564        False   \n",
       "49          49     45    97  21/05/2010  457611.075096        False   \n",
       "\n",
       "    Temperature  Fuel_Price         CPI  Unemployment  IsHoliday_y  \\\n",
       "0     32.687061       3.526  216.603308         6.529        False   \n",
       "1     59.608361       3.594  214.744111         7.931        False   \n",
       "2     16.623822       3.290  223.806053         5.667        False   \n",
       "3     36.466380       3.684  217.083989         6.925        False   \n",
       "4     92.396503       3.186  129.984548         6.617        False   \n",
       "5     43.412585       3.620  221.808352         6.565        False   \n",
       "6     52.963927       2.720  210.873332         8.324        False   \n",
       "7     74.145519       3.371  129.606067         5.644        False   \n",
       "8     26.041172       3.141  204.637673         7.484        False   \n",
       "9     28.162576       4.034  138.678283         8.252        False   \n",
       "10    87.287100       3.501  225.251831         6.664        False   \n",
       "11    32.901161       3.684  136.419500         4.584        False   \n",
       "12    13.863387       3.400  133.183419         7.771        False   \n",
       "13    82.433748       2.973  191.573192         7.241        False   \n",
       "14    18.991381       3.686  199.219532         7.557        False   \n",
       "15    47.289898       3.953  141.699086         8.744        False   \n",
       "16    40.998177       3.297  216.721737         7.716        False   \n",
       "17    78.219679       3.031  196.872892         6.589        False   \n",
       "18    26.881639       3.286  129.816710        10.148        False   \n",
       "19    26.845899       4.027  138.825600         4.145        False   \n",
       "20    94.118798       3.732  129.035710         6.906        False   \n",
       "22    37.803007       2.732  209.787093         8.554        False   \n",
       "23     0.002665       3.568  136.959839         7.467        False   \n",
       "24    79.670915       3.541  129.984548        12.890        False   \n",
       "25    34.904169       3.561  138.263000         9.419        False   \n",
       "26    98.120004       3.439  136.698129         8.988        False   \n",
       "27    98.774804       2.795  210.100065         8.200        False   \n",
       "28    97.157213       2.780  213.671682         7.343        False   \n",
       "29    74.121840       3.145  126.208548         9.524        False   \n",
       "30    90.401020       3.266  195.984169         6.759        False   \n",
       "31    71.976634       4.110  131.098323        11.627        False   \n",
       "32    57.922620       3.150  132.747742         9.331        False   \n",
       "33    27.618366       3.604  136.488452         4.420        False   \n",
       "34     0.345076       4.000  138.833613         4.145        False   \n",
       "35     2.730256       3.899  219.368356         7.574        False   \n",
       "36    93.180058       4.018  138.739500         7.405        False   \n",
       "37    65.538864       2.992  127.300935        10.398        False   \n",
       "38    80.894845       3.638  217.143828         6.925        False   \n",
       "39    85.106935       3.407  225.453758         6.334        False   \n",
       "40     1.941136       2.796  132.661613        10.409        False   \n",
       "41    98.616371       3.430  127.995250        14.021        False   \n",
       "42    28.589517       3.742  209.189389         7.274        False   \n",
       "43    53.346024       3.120  128.130000         7.470        False   \n",
       "44    -0.149522       3.638  134.068258         8.975        False   \n",
       "45    82.970891       2.971  210.237973         8.395        False   \n",
       "46    36.136754       3.159  222.691096         6.123        False   \n",
       "47    85.333454       3.504  129.089400         5.644        False   \n",
       "48    92.484757       3.008  191.667891         8.818        False   \n",
       "49     5.215949       2.958  181.853849         8.899        False   \n",
       "\n",
       "       MarkDowns  \n",
       "0   11510.700602  \n",
       "1   24165.431705  \n",
       "2   19370.705493  \n",
       "3    6796.118562  \n",
       "4   11864.397529  \n",
       "5   30935.470981  \n",
       "6   25919.656576  \n",
       "7   20599.253766  \n",
       "8    6502.358316  \n",
       "9   25154.063156  \n",
       "10  32113.050215  \n",
       "11  25933.408886  \n",
       "12  21123.857098  \n",
       "13  14238.045488  \n",
       "14  23692.140040  \n",
       "15  19792.408626  \n",
       "16   6976.577730  \n",
       "17  28511.243326  \n",
       "18  20362.580480  \n",
       "19  10660.873832  \n",
       "20  27636.664205  \n",
       "22  18370.563806  \n",
       "23  20779.937670  \n",
       "24  16884.690657  \n",
       "25  26115.883893  \n",
       "26  16221.886249  \n",
       "27  18904.425791  \n",
       "28  13327.707808  \n",
       "29  29608.200022  \n",
       "30  25813.700331  \n",
       "31  16897.982136  \n",
       "32  27023.397674  \n",
       "33  31672.206090  \n",
       "34  26737.443383  \n",
       "35  19839.091827  \n",
       "36  34213.587496  \n",
       "37  30454.433426  \n",
       "38  26181.001934  \n",
       "39  16424.035438  \n",
       "40  14677.808210  \n",
       "41  27691.223618  \n",
       "42  23505.033921  \n",
       "43  26253.247665  \n",
       "44  32991.774894  \n",
       "45   5905.669310  \n",
       "46  30197.511013  \n",
       "47  23687.481025  \n",
       "48  24570.032278  \n",
       "49  35612.969388  "
      ]
     },
     "execution_count": 103,
     "metadata": {},
     "output_type": "execute_result"
    }
   ],
   "source": [
    "Tabla_1_processed_No_Holiday"
   ]
  },
  {
   "cell_type": "markdown",
   "metadata": {
    "id": "-fAsXDf3umgU"
   },
   "source": [
    "Al observar que entre los datos de Tabla_1 solo se puede encontrar un día festivo, los datos no serán separados y se analizarán todos juntos."
   ]
  },
  {
   "cell_type": "code",
   "execution_count": 105,
   "metadata": {
    "id": "k_uPlNsDEoiB"
   },
   "outputs": [],
   "source": [
    "#se crean arrays para las características y la variable de destino en el caso de dias no festivos.\n",
    "y_Tabla_1 = Tabla_1_processed[\"Weekly_Sales\"].values\n",
    "X_Tabla_1 = Tabla_1_processed[[\"Dept\",\"Fuel_Price\", \"CPI\", \"Unemployment\", \"MarkDowns\"]].values"
   ]
  },
  {
   "cell_type": "code",
   "execution_count": 106,
   "metadata": {
    "colab": {
     "base_uri": "https://localhost:8080/"
    },
    "id": "4psa665JVcbH",
    "outputId": "ed0c8bf4-5185-4b45-ff40-e303edf57f95"
   },
   "outputs": [
    {
     "name": "stdout",
     "output_type": "stream",
     "text": [
      "Predicciones en base a los datos de Tabla_1 en los dias no festivos:\n",
      "[  7627.55    5338.458  16497.204   1198.75   21064.676  13438.082\n",
      "  43628.188   2910.828  18588.958  11664.368  20315.708   9385.312\n",
      "  14518.15   34002.292  14772.656  11476.508   1997.132  10211.18\n",
      "  24777.062   7925.244  33518.8    12015.072  11920.386  24836.13\n",
      "  17709.18  105790.432  26646.492  22970.224   2247.226   6625.198\n",
      "  42510.474  17709.18    6764.736   1785.546  16876.852   7104.652\n",
      "   2080.634   4915.454   7317.952  39997.822   1459.746   8134.244\n",
      "  27712.506  55001.9     3200.448   6359.612   5062.118   8269.724\n",
      "  17143.606  28626.97 ]\n"
     ]
    }
   ],
   "source": [
    "#realiza una predicción en base a los datos de testeo\n",
    "y_pred_Tabla_1 = knn3.predict(X_Tabla_1)\n",
    "#se imprime las predicciones realizadas\n",
    "print(\"Predicciones en base a los datos de Tabla_1 en los dias no festivos:\\n{}\".format(y_pred_Tabla_1))"
   ]
  },
  {
   "cell_type": "code",
   "execution_count": 107,
   "metadata": {
    "colab": {
     "base_uri": "https://localhost:8080/"
    },
    "id": "vEUeM3GbPUEF",
    "outputId": "92191432-7684-4943-9a72-0fbcbc15546d"
   },
   "outputs": [
    {
     "name": "stdout",
     "output_type": "stream",
     "text": [
      "[ 98.648347    96.84486707  78.41974004  99.77355784  96.43226249\n",
      "  97.58696141  93.60967809  95.8645386   94.30193565  97.33069416\n",
      "  92.24620909  96.16746628  97.56993795  56.23998578  93.94408857\n",
      "  94.77425971  99.53753747  93.40397143  94.28892376  95.04739048\n",
      "  83.98586112  98.08029334  97.92238198  84.22981965  84.12960576\n",
      "  81.75758688  51.21479308  90.09243391  98.54917659  96.33048386\n",
      " 257.90260005  96.43156787  94.12251795  99.27110223  88.87764196\n",
      "  98.47713795  99.62745407  97.60700053  94.73121934   1.3426864\n",
      "  99.68511148  95.86781873  75.40389609  81.57483114  97.59470506\n",
      "  98.73246841  99.01003727  98.74445854  90.32733469  93.74425761]\n"
     ]
    }
   ],
   "source": [
    "error_porcentual_KNN= (abs(y_pred_Tabla_1 - y_Tabla_1)*100)/y_Tabla_1\n",
    "print(error_porcentual_KNN)"
   ]
  },
  {
   "cell_type": "markdown",
   "metadata": {
    "id": "sv1X7XFIw-J-"
   },
   "source": [
    "Tras analizar los datos obtenidos se observa que KNN no da una estimación certera de los datos, dado a que el set que mejor predicciones puede entregar posee una accuracy cercana al 28,9% es por ello que la predicción obtenida no es confiable y se recomienda buscar otra metodología más adecuada a el conjunto de datos con el cual se debe llevar a cabo el entrenamiento para la predicción necesaria."
   ]
  },
  {
   "cell_type": "markdown",
   "metadata": {
    "id": "humWLUuzv_gu"
   },
   "source": [
    "# RF"
   ]
  },
  {
   "cell_type": "markdown",
   "metadata": {
    "id": "s9h0F3IyE83W"
   },
   "source": [
    "Dado a que el comportamiento entre RF y KNN difiere, se usarán las mismas variantes en sus respectivos sets para comparar los resultados."
   ]
  },
  {
   "cell_type": "markdown",
   "metadata": {
    "id": "V5ZSLQbZJWkD"
   },
   "source": [
    "## Primer set\n",
    "Haciendo uso de los datos disponibilisados se trabajará analizando por separado los dias festivos y no festivos."
   ]
  },
  {
   "cell_type": "markdown",
   "metadata": {
    "id": "olBNwGKDJWkR"
   },
   "source": [
    "### Datos no festivos:"
   ]
  },
  {
   "cell_type": "code",
   "execution_count": 108,
   "metadata": {
    "colab": {
     "base_uri": "https://localhost:8080/"
    },
    "id": "qp8MJML0DWpX",
    "outputId": "fbe9c440-209d-45a6-bb5c-abd28593d651"
   },
   "outputs": [
    {
     "data": {
      "text/plain": [
       "RandomForestRegressor()"
      ]
     },
     "execution_count": 108,
     "metadata": {},
     "output_type": "execute_result"
    }
   ],
   "source": [
    "#crea un modelo de random forest con los valores predeterminados.\n",
    "rf = RandomForestRegressor()\n",
    "#entrenamos el regresor\n",
    "rf.fit(X_train, y_train)\n"
   ]
  },
  {
   "cell_type": "code",
   "execution_count": 109,
   "metadata": {
    "colab": {
     "base_uri": "https://localhost:8080/"
    },
    "id": "I6BzDKb0GH9_",
    "outputId": "66d6e6c3-0bf4-4ba1-de8b-f1a5a480fa5a"
   },
   "outputs": [
    {
     "data": {
      "text/plain": [
       "0.8227370833895251"
      ]
     },
     "execution_count": 109,
     "metadata": {},
     "output_type": "execute_result"
    }
   ],
   "source": [
    "#se verifica el accuracy promedio con los datos de testeo a través de la función .score\n",
    "score_rf = rf.score(X_test, y_test)\n",
    "score_rf"
   ]
  },
  {
   "cell_type": "markdown",
   "metadata": {
    "id": "KZFhgKMkJWkR"
   },
   "source": [
    "### Datos festivos:"
   ]
  },
  {
   "cell_type": "code",
   "execution_count": 110,
   "metadata": {
    "colab": {
     "base_uri": "https://localhost:8080/"
    },
    "id": "dmHw_zxPWT6M",
    "outputId": "5c358039-e026-44ea-b436-40dfabb5fbc8"
   },
   "outputs": [
    {
     "data": {
      "text/plain": [
       "RandomForestRegressor()"
      ]
     },
     "execution_count": 110,
     "metadata": {},
     "output_type": "execute_result"
    }
   ],
   "source": [
    "#crea un modelo de random forest con los valores predeterminados.\n",
    "rf_H = RandomForestRegressor()\n",
    "#entrenamos el regresor\n",
    "rf_H.fit(X_train_H, y_train_H)\n"
   ]
  },
  {
   "cell_type": "code",
   "execution_count": 111,
   "metadata": {
    "colab": {
     "base_uri": "https://localhost:8080/"
    },
    "id": "W6kn9_cZWT6M",
    "outputId": "4d669aa4-4b5b-468c-a687-cd3754aad352"
   },
   "outputs": [
    {
     "data": {
      "text/plain": [
       "0.622285606370549"
      ]
     },
     "execution_count": 111,
     "metadata": {},
     "output_type": "execute_result"
    }
   ],
   "source": [
    "#se verifica la precisión con los datos de testeo a través de la función .score que calcula el coeficiente de determinación de la predicción.\n",
    "score_rf_H = rf.score(X_test_H, y_test_H)\n",
    "score_rf_H"
   ]
  },
  {
   "cell_type": "markdown",
   "metadata": {
    "id": "djPtZeOpJXi3"
   },
   "source": [
    "## Segundo set\n",
    "Donde se realiza un balanceo de datos para la columna \"Weekly_Sales\""
   ]
  },
  {
   "cell_type": "markdown",
   "metadata": {
    "id": "lmg3M_zBJXi3"
   },
   "source": [
    "### Datos no festivos:"
   ]
  },
  {
   "cell_type": "code",
   "execution_count": 112,
   "metadata": {
    "colab": {
     "base_uri": "https://localhost:8080/"
    },
    "id": "s56n8P9E0Mmy",
    "outputId": "879a0403-a60c-4403-d155-5dc58340e2ca"
   },
   "outputs": [
    {
     "data": {
      "text/plain": [
       "RandomForestRegressor()"
      ]
     },
     "execution_count": 112,
     "metadata": {},
     "output_type": "execute_result"
    }
   ],
   "source": [
    "#crea un modelo de random forest con los valores predeterminados.\n",
    "rf2 = RandomForestRegressor()\n",
    "#entrenamos el regresor\n",
    "rf2.fit(X_train2, y_train2)\n"
   ]
  },
  {
   "cell_type": "code",
   "execution_count": 113,
   "metadata": {
    "colab": {
     "base_uri": "https://localhost:8080/"
    },
    "id": "EhVyEU_d0Mmz",
    "outputId": "6832261d-4753-44b6-ccb8-26d96bad9deb"
   },
   "outputs": [
    {
     "data": {
      "text/plain": [
       "0.8195111161254878"
      ]
     },
     "execution_count": 113,
     "metadata": {},
     "output_type": "execute_result"
    }
   ],
   "source": [
    "#se verifica la precisión con los datos de testeo a través de la función .score que calcula el coeficiente de determinación de la predicción.\n",
    "score_rf2 = rf2.score(X_test2, y_test2)\n",
    "score_rf2"
   ]
  },
  {
   "cell_type": "markdown",
   "metadata": {
    "id": "R5MCOwZrJXi3"
   },
   "source": [
    "### Datos festivos:"
   ]
  },
  {
   "cell_type": "code",
   "execution_count": 114,
   "metadata": {
    "colab": {
     "base_uri": "https://localhost:8080/"
    },
    "id": "zqDEAUdX0Nw3",
    "outputId": "b01cf6b4-8c3e-4ae3-a388-053bc102e55c"
   },
   "outputs": [
    {
     "data": {
      "text/plain": [
       "RandomForestRegressor()"
      ]
     },
     "execution_count": 114,
     "metadata": {},
     "output_type": "execute_result"
    }
   ],
   "source": [
    "#crea un modelo de random forest con los valores predeterminados.\n",
    "rf_H2 = RandomForestRegressor()\n",
    "#entrenamos el regresor\n",
    "rf_H2.fit(X_train_H2, y_train_H2)\n"
   ]
  },
  {
   "cell_type": "code",
   "execution_count": 115,
   "metadata": {
    "colab": {
     "base_uri": "https://localhost:8080/"
    },
    "id": "ri-6OoW00Nw4",
    "outputId": "512929d6-0177-48b1-e15a-5bd03b368ca1"
   },
   "outputs": [
    {
     "data": {
      "text/plain": [
       "0.7888088462591343"
      ]
     },
     "execution_count": 115,
     "metadata": {},
     "output_type": "execute_result"
    }
   ],
   "source": [
    "#se verifica la precisión con los datos de testeo a través de la función .score que calcula el coeficiente de determinación de la predicción.\n",
    "score_rf_H2 = rf_H2.score(X_test_H2, y_test_H2)\n",
    "score_rf_H2"
   ]
  },
  {
   "cell_type": "markdown",
   "metadata": {
    "id": "If95KKdsJYGT"
   },
   "source": [
    "## Tercer set\n",
    "Para el tercer set se promediarán los datos de rebajas de Markdowns, disminuyendo la carga computacional para el modelo."
   ]
  },
  {
   "cell_type": "markdown",
   "metadata": {
    "id": "bv9GWjndJYGT"
   },
   "source": [
    "### Datos no festivos:"
   ]
  },
  {
   "cell_type": "code",
   "execution_count": 116,
   "metadata": {
    "colab": {
     "base_uri": "https://localhost:8080/"
    },
    "id": "dk6KyWHY0Pqa",
    "outputId": "90e8aead-4d3c-4081-f8c9-b242c2013293"
   },
   "outputs": [
    {
     "data": {
      "text/plain": [
       "RandomForestRegressor()"
      ]
     },
     "execution_count": 116,
     "metadata": {},
     "output_type": "execute_result"
    }
   ],
   "source": [
    "#crea un modelo de random forest con los valores predeterminados.\n",
    "rf3 = RandomForestRegressor()\n",
    "#entrenamos el regresor\n",
    "rf3.fit(X_train3, y_train3)\n"
   ]
  },
  {
   "cell_type": "code",
   "execution_count": 117,
   "metadata": {
    "colab": {
     "base_uri": "https://localhost:8080/"
    },
    "id": "12pl1Ry80Pqb",
    "outputId": "7fdac601-907f-4e11-deb0-b006c2e2fb70"
   },
   "outputs": [
    {
     "data": {
      "text/plain": [
       "0.7929499913275471"
      ]
     },
     "execution_count": 117,
     "metadata": {},
     "output_type": "execute_result"
    }
   ],
   "source": [
    "#se verifica la precisión con los datos de testeo a través de la función .score que calcula el coeficiente de determinación de la predicción.\n",
    "score_rf3 = rf3.score(X_test3, y_test3)\n",
    "score_rf3"
   ]
  },
  {
   "cell_type": "markdown",
   "metadata": {
    "id": "vA95w908JYGU"
   },
   "source": [
    "### Datos festivos:"
   ]
  },
  {
   "cell_type": "code",
   "execution_count": 118,
   "metadata": {
    "colab": {
     "base_uri": "https://localhost:8080/"
    },
    "id": "0z8-h9qO0ROK",
    "outputId": "bf47ca76-9f84-4099-b052-4621b41d71d2"
   },
   "outputs": [
    {
     "data": {
      "text/plain": [
       "RandomForestRegressor()"
      ]
     },
     "execution_count": 118,
     "metadata": {},
     "output_type": "execute_result"
    }
   ],
   "source": [
    "#crea un modelo de random forest con los valores predeterminados.\n",
    "rf_H3 = RandomForestRegressor()\n",
    "#entrenamos el regresor\n",
    "rf_H3.fit(X_train_H3, y_train_H3)\n"
   ]
  },
  {
   "cell_type": "code",
   "execution_count": 119,
   "metadata": {
    "colab": {
     "base_uri": "https://localhost:8080/"
    },
    "id": "pQq0tLlQ0ROL",
    "outputId": "60bcf7cb-1210-4518-8343-1e5bac54f982"
   },
   "outputs": [
    {
     "data": {
      "text/plain": [
       "0.758423695123684"
      ]
     },
     "execution_count": 119,
     "metadata": {},
     "output_type": "execute_result"
    }
   ],
   "source": [
    "#se verifica la precisión con los datos de testeo a través de la función .score que calcula el coeficiente de determinación de la predicción.\n",
    "score_rf_H3 = rf_H3.score(X_test_H3, y_test_H3)\n",
    "score_rf_H3"
   ]
  },
  {
   "cell_type": "markdown",
   "metadata": {
    "id": "CpkzQGEE4fHy"
   },
   "source": [
    "En base a las precisiones obtenidas en los 3 set de datos, el mejor RF obtenido es el del set 2, es por ello que se elige este para el análisis de los datos de Tabla_1."
   ]
  },
  {
   "cell_type": "markdown",
   "metadata": {
    "id": "3IVVRlu-0Ghn"
   },
   "source": [
    "## Tabla1"
   ]
  },
  {
   "cell_type": "markdown",
   "metadata": {
    "id": "LSNUhstk0Gho"
   },
   "source": [
    "### Procesamiento de datos"
   ]
  },
  {
   "cell_type": "code",
   "execution_count": 120,
   "metadata": {
    "id": "JErpMWr6KEKX"
   },
   "outputs": [],
   "source": [
    "Tabla_1 = pd.read_csv('Tabla_1.csv', header = 0)"
   ]
  },
  {
   "cell_type": "code",
   "execution_count": 121,
   "metadata": {
    "colab": {
     "base_uri": "https://localhost:8080/"
    },
    "id": "QX9bp4B9J2hE",
    "outputId": "506a36d6-22a7-4d09-db75-d7afd12793b4"
   },
   "outputs": [
    {
     "data": {
      "text/plain": [
       "Index(['Unnamed: 0', 'Store', 'Dept', 'Date', 'Weekly_Sales', 'IsHoliday_x',\n",
       "       'Temperature', 'Fuel_Price', 'MarkDown1', 'MarkDown2', 'MarkDown3',\n",
       "       'MarkDown4', 'MarkDown5', 'CPI', 'Unemployment', 'IsHoliday_y'],\n",
       "      dtype='object')"
      ]
     },
     "execution_count": 121,
     "metadata": {},
     "output_type": "execute_result"
    }
   ],
   "source": [
    "Tabla_1.columns"
   ]
  },
  {
   "cell_type": "code",
   "execution_count": 122,
   "metadata": {
    "id": "4ssERQA3Jdvo"
   },
   "outputs": [],
   "source": [
    "#se crean arrays para las características y la variable de destino en el caso de dias no festivos.\n",
    "y_Tabla_1_RF = Tabla_1[\"Weekly_Sales\"].values\n",
    "X_Tabla_1_RF = Tabla_1[[\"Dept\",\"Fuel_Price\", \"MarkDown1\", \"MarkDown2\", \"MarkDown3\", \"MarkDown4\", \"MarkDown5\", \"CPI\", \"Unemployment\"]].values"
   ]
  },
  {
   "cell_type": "code",
   "execution_count": 123,
   "metadata": {
    "colab": {
     "base_uri": "https://localhost:8080/"
    },
    "id": "9UqHBp_dJdvo",
    "outputId": "d95130b4-cc9e-4dd9-b67b-d216bb917dc8"
   },
   "outputs": [
    {
     "name": "stdout",
     "output_type": "stream",
     "text": [
      "Predicciones en base a los datos de Tabla_1 con Random Forest:\n",
      "[13475.7024  7609.9621 14618.3952  4384.4531  5955.2154 41023.2761\n",
      "  6618.3129 12361.3891 12467.5944 35282.5286 29156.6429  6124.7025\n",
      " 12953.2184 25470.1767 31693.5461 13948.1067  1617.9995 28674.174\n",
      "  3987.3731 47920.8151 74287.6216  5385.7642  7791.8795 40988.5723\n",
      " 20207.1753 28244.0286 15723.3717 14447.1093 12115.6524  9282.2558\n",
      " 32933.1081 63670.6272 10321.6675  9608.7388 24337.9436 11264.1255\n",
      " 53031.8018 19028.1426  5632.7377 22319.3777 15619.8799 12431.0338\n",
      " 72635.1281  9176.4399 12747.4668 16692.0254  8130.5594 22259.4887\n",
      "  7436.9645 17098.8612]\n"
     ]
    }
   ],
   "source": [
    "#realiza una predicción en base a los datos de testeo\n",
    "y_pred_Tabla_1_RF = rf2.predict(X_Tabla_1_RF)\n",
    "#se imprime las predicciones realizadas\n",
    "print(\"Predicciones en base a los datos de Tabla_1 con Random Forest:\\n{}\".format(y_pred_Tabla_1_RF))"
   ]
  },
  {
   "cell_type": "code",
   "execution_count": 124,
   "metadata": {
    "colab": {
     "base_uri": "https://localhost:8080/"
    },
    "id": "xluMTqPTP3Hx",
    "outputId": "ab62a4b5-afaa-42d2-ad79-7e993f3fef66"
   },
   "outputs": [
    {
     "name": "stdout",
     "output_type": "stream",
     "text": [
      "[ 97.61201519  95.50236378  80.87744028  99.17178308  98.9913614\n",
      "  92.63356568  99.03060036  82.43797039  96.17831429  91.92584976\n",
      "  88.87193532  97.49895061  97.83187772  17.03505297  87.00752877\n",
      "  93.64883611  99.62533065  81.47758919  99.08091638  70.05352956\n",
      "  64.50790931  99.13949018  98.64194421  73.9735145   81.89098318\n",
      "  95.12962346  71.21317351  93.76864195  92.17805772  94.85881215\n",
      " 177.26919763  87.17025228  91.03210895  96.0775089   83.960556\n",
      "  97.58556657  90.50444157  90.73649451  95.9445403   44.94775628\n",
      "  96.63056396  93.68505726  35.53303485  96.92597065  90.41964833\n",
      "  96.67311946  98.40996382  96.62047839  95.8039593   96.26345119]\n"
     ]
    }
   ],
   "source": [
    "error_porcentual_rf= (abs(y_pred_Tabla_1_RF - y_Tabla_1_RF)*100)/y_Tabla_1_RF\n",
    "print(error_porcentual_rf)"
   ]
  },
  {
   "cell_type": "markdown",
   "metadata": {
    "id": "MuZ0TwWIJdvq"
   },
   "source": [
    "Tras analizar los datos obtenidos se observa que RF tampoco da una buena estimación de los datos a pesar de poseer una precisión aproximada del 84%."
   ]
  },
  {
   "cell_type": "code",
   "execution_count": 125,
   "metadata": {
    "colab": {
     "base_uri": "https://localhost:8080/"
    },
    "id": "nnwk86erQhEc",
    "outputId": "5f378501-b4f4-4b41-8a45-b79873b96a99"
   },
   "outputs": [
    {
     "name": "stdout",
     "output_type": "stream",
     "text": [
      "diferencial entre KNN y RF_ [ -5848.1524  -2271.5041   1878.8088  -3185.7031  15109.4606 -27585.1941\n",
      "  37009.8751  -9450.5611   6121.3636 -23618.1606  -8840.9349   3260.6095\n",
      "   1564.9316   8532.1153 -16920.8901  -2471.5987    379.1325 -18462.994\n",
      "  20789.6889 -39995.5711 -40768.8216   6629.3078   4128.5065 -16152.4423\n",
      "  -2497.9953  77546.4034  10923.1203   8523.1147  -9868.4264  -2657.0578\n",
      "   9577.3659 -45961.4472  -3556.9315  -7823.1928  -7461.0916  -4159.4735\n",
      " -50951.1678 -14112.6886   1685.2143  17678.4443 -14160.1339  -4296.7898\n",
      " -44922.6221  45825.4601  -9547.0188 -10332.4134  -3068.4414 -13989.7647\n",
      "   9706.6415  11528.1088]\n"
     ]
    }
   ],
   "source": [
    "print(\"diferencial entre KNN y RF_\", y_pred_Tabla_1 - y_pred_Tabla_1_RF)"
   ]
  },
  {
   "cell_type": "markdown",
   "metadata": {
    "id": "XXu3hmM5REia"
   },
   "source": [
    "A pesar de que ambos algoritmos se implementaron en los datos de Tabla_1, ambos obtuvieron resultados regularmente aceptables. Por lo que se sugiere, implementar otras técnicas de ML, como análisis Clúster No Euclidiano, análisis de varianza de segundo orden entre otros, para una mejor toma de decisión."
   ]
  }
 ],
 "metadata": {
  "colab": {
   "provenance": [],
   "toc_visible": true
  },
  "kernelspec": {
   "display_name": "Python 3",
   "language": "python",
   "name": "python3"
  },
  "language_info": {
   "codemirror_mode": {
    "name": "ipython",
    "version": 3
   },
   "file_extension": ".py",
   "mimetype": "text/x-python",
   "name": "python",
   "nbconvert_exporter": "python",
   "pygments_lexer": "ipython3",
   "version": "3.8.8"
  }
 },
 "nbformat": 4,
 "nbformat_minor": 1
}
